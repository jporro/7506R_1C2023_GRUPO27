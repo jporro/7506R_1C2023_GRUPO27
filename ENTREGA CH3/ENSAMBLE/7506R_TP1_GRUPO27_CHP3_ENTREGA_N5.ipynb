{
  "cells": [
    {
      "cell_type": "markdown",
      "metadata": {
        "id": "hHq47t4sMZod"
      },
      "source": [
        "# Predicciones"
      ]
    },
    {
      "cell_type": "code",
      "execution_count": null,
      "metadata": {
        "id": "SrKSuzSsMcdB"
      },
      "outputs": [],
      "source": [
        "import numpy as np \n",
        "import pandas as pd\n",
        "\n",
        "#Visualización\n",
        "import matplotlib.pyplot as plt\n",
        "import seaborn as sns\n",
        "# import dtreeviz.trees as dtreeviz\n",
        "\n",
        "#modelos y métricas\n",
        "from sklearn import tree\n",
        "from sklearn.model_selection import train_test_split\n",
        "from sklearn.metrics import precision_score, recall_score, accuracy_score,f1_score#, precision_recall_curve, roc_curve,\n",
        "from sklearn.metrics import confusion_matrix, classification_report\n",
        "#preprocesamiento\n",
        "from sklearn.preprocessing import MinMaxScaler\n",
        "\n",
        "#Importamos los datasets\n",
        "\n",
        "dataset_hotels_test = pd.read_csv('https://github.com/joeldevel/data_tp1_odd/blob/main/hotels_test.csv?raw=true')\n",
        "dataset_hotels_train = pd.read_csv('https://github.com/joeldevel/data_tp1_odd/blob/main/hotels_train.csv?raw=true')"
      ]
    },
    {
      "cell_type": "code",
      "source": [
        "dataset_hotels_train.drop(['reservation_status_date'], axis='columns', inplace=True) \n",
        "dataset_hotels_test.drop(['reservation_status_date'], axis='columns', inplace=True) "
      ],
      "metadata": {
        "id": "Ai_Mgc0mhvny"
      },
      "execution_count": null,
      "outputs": []
    },
    {
      "cell_type": "markdown",
      "source": [
        "# Preprocesamiento"
      ],
      "metadata": {
        "id": "wCg1SVdMgol_"
      }
    },
    {
      "cell_type": "code",
      "execution_count": null,
      "metadata": {
        "id": "96kXJC61mUno"
      },
      "outputs": [],
      "source": [
        "dataset_hotels_test_id = dataset_hotels_test['id'].copy()"
      ]
    },
    {
      "cell_type": "code",
      "execution_count": null,
      "metadata": {
        "id": "IYiFEg7Iq6Ka"
      },
      "outputs": [],
      "source": [
        "dataset_hotels_train['agent'] = dataset_hotels_train['agent'].fillna(0).astype('int').astype('str')\n",
        "dataset_hotels_test['agent'] = dataset_hotels_test['agent'].fillna(0).astype('int').astype('str')"
      ]
    },
    {
      "cell_type": "code",
      "execution_count": null,
      "metadata": {
        "id": "xkGaTJXrXJyZ"
      },
      "outputs": [],
      "source": [
        "dataset_hotels_train.drop(['meal', 'is_repeated_guest','stays_in_weekend_nights','arrival_date_year','arrival_date_month','arrival_date_week_number','arrival_date_day_of_month','id','previous_bookings_not_canceled'], axis='columns', inplace=True)"
      ]
    },
    {
      "cell_type": "code",
      "execution_count": null,
      "metadata": {
        "id": "B0kexcE3ml1P"
      },
      "outputs": [],
      "source": [
        "dataset_hotels_test.drop(['meal', 'is_repeated_guest','stays_in_weekend_nights','arrival_date_year','arrival_date_month','arrival_date_week_number','arrival_date_day_of_month','id','previous_bookings_not_canceled'], axis='columns', inplace=True)"
      ]
    },
    {
      "cell_type": "code",
      "execution_count": null,
      "metadata": {
        "id": "EhzRTLDFX8qX"
      },
      "outputs": [],
      "source": [
        "dataset_hotels_train['cant_personas'] = dataset_hotels_train['children'].fillna(0) + dataset_hotels_train['adults'].fillna(0) + dataset_hotels_train['babies'].fillna(0)\n",
        "dataset_hotels_train.drop(['children', 'adults','babies'], axis='columns', inplace=True) "
      ]
    },
    {
      "cell_type": "code",
      "execution_count": null,
      "metadata": {
        "id": "-7xXesCemtqw"
      },
      "outputs": [],
      "source": [
        "dataset_hotels_test['cant_personas'] = dataset_hotels_test['children'].fillna(0) + dataset_hotels_test['adults'].fillna(0) + dataset_hotels_test['babies'].fillna(0)\n",
        "dataset_hotels_test.drop(['children', 'adults','babies'], axis='columns', inplace=True) "
      ]
    },
    {
      "cell_type": "code",
      "execution_count": null,
      "metadata": {
        "id": "k9oivcskaYoq"
      },
      "outputs": [],
      "source": [
        "dataset_hotels_train['company'] = dataset_hotels_train['company'].fillna('ninguno')"
      ]
    },
    {
      "cell_type": "code",
      "execution_count": null,
      "metadata": {
        "id": "8Pw-HH8ymxIi"
      },
      "outputs": [],
      "source": [
        "dataset_hotels_test['company'] = dataset_hotels_test['company'].fillna('ninguno')"
      ]
    },
    {
      "cell_type": "code",
      "execution_count": null,
      "metadata": {
        "id": "MCS7skO7f05m"
      },
      "outputs": [],
      "source": [
        "dataset_hotels_train['agent'] = dataset_hotels_train['agent'].fillna('desconocida')"
      ]
    },
    {
      "cell_type": "code",
      "execution_count": null,
      "metadata": {
        "id": "xqMVQ2Vfmxom"
      },
      "outputs": [],
      "source": [
        "dataset_hotels_test['agent'] = dataset_hotels_test['agent'].fillna('desconocida')"
      ]
    },
    {
      "cell_type": "code",
      "execution_count": null,
      "metadata": {
        "id": "YRPLr4siZnQz",
        "colab": {
          "base_uri": "https://localhost:8080/"
        },
        "outputId": "6fc0d411-504d-4c1b-932b-90103b27d6db"
      },
      "outputs": [
        {
          "output_type": "execute_result",
          "data": {
            "text/plain": [
              "hotel                           object\n",
              "lead_time                        int64\n",
              "stays_in_week_nights             int64\n",
              "country                         object\n",
              "market_segment                  object\n",
              "distribution_channel            object\n",
              "previous_cancellations           int64\n",
              "reserved_room_type              object\n",
              "assigned_room_type              object\n",
              "booking_changes                  int64\n",
              "deposit_type                    object\n",
              "agent                           object\n",
              "company                         object\n",
              "days_in_waiting_list             int64\n",
              "customer_type                   object\n",
              "adr                            float64\n",
              "required_car_parking_spaces      int64\n",
              "total_of_special_requests        int64\n",
              "is_canceled                      int64\n",
              "cant_personas                  float64\n",
              "dtype: object"
            ]
          },
          "metadata": {},
          "execution_count": 13
        }
      ],
      "source": [
        "dataset_hotels_train.dtypes"
      ]
    },
    {
      "cell_type": "code",
      "execution_count": null,
      "metadata": {
        "id": "GnNfxcW5YDTN",
        "colab": {
          "base_uri": "https://localhost:8080/"
        },
        "outputId": "3d55f80c-23de-4f67-898b-869f43c48fac"
      },
      "outputs": [
        {
          "output_type": "stream",
          "name": "stdout",
          "text": [
            "<class 'pandas.core.frame.DataFrame'>\n",
            "RangeIndex: 61913 entries, 0 to 61912\n",
            "Data columns (total 20 columns):\n",
            " #   Column                       Non-Null Count  Dtype  \n",
            "---  ------                       --------------  -----  \n",
            " 0   hotel                        61913 non-null  object \n",
            " 1   lead_time                    61913 non-null  int64  \n",
            " 2   stays_in_week_nights         61913 non-null  int64  \n",
            " 3   country                      61692 non-null  object \n",
            " 4   market_segment               61913 non-null  object \n",
            " 5   distribution_channel         61913 non-null  object \n",
            " 6   previous_cancellations       61913 non-null  int64  \n",
            " 7   reserved_room_type           61913 non-null  object \n",
            " 8   assigned_room_type           61913 non-null  object \n",
            " 9   booking_changes              61913 non-null  int64  \n",
            " 10  deposit_type                 61913 non-null  object \n",
            " 11  agent                        61913 non-null  object \n",
            " 12  company                      61913 non-null  object \n",
            " 13  days_in_waiting_list         61913 non-null  int64  \n",
            " 14  customer_type                61913 non-null  object \n",
            " 15  adr                          61913 non-null  float64\n",
            " 16  required_car_parking_spaces  61913 non-null  int64  \n",
            " 17  total_of_special_requests    61913 non-null  int64  \n",
            " 18  is_canceled                  61913 non-null  int64  \n",
            " 19  cant_personas                61913 non-null  float64\n",
            "dtypes: float64(2), int64(8), object(10)\n",
            "memory usage: 9.4+ MB\n"
          ]
        }
      ],
      "source": [
        "dataset_hotels_train.info()"
      ]
    },
    {
      "cell_type": "markdown",
      "metadata": {
        "id": "WwNoBqGUT2oY"
      },
      "source": [
        "Generamos One hot Encodig para la variable hotel"
      ]
    },
    {
      "cell_type": "code",
      "execution_count": null,
      "metadata": {
        "id": "53d8VuUMa7k5"
      },
      "outputs": [],
      "source": [
        "dataset_hotels_train = pd.concat([dataset_hotels_train, pd.get_dummies(dataset_hotels_train['hotel'], drop_first=True )], axis=1)\n",
        "dataset_hotels_train.drop(['hotel'], axis='columns', inplace=True) "
      ]
    },
    {
      "cell_type": "code",
      "execution_count": null,
      "metadata": {
        "id": "0hHTm5czm9F1"
      },
      "outputs": [],
      "source": [
        "dataset_hotels_test = pd.concat([dataset_hotels_test, pd.get_dummies(dataset_hotels_test['hotel'], drop_first=True )], axis=1)\n",
        "dataset_hotels_test.drop(['hotel'], axis='columns', inplace=True) "
      ]
    },
    {
      "cell_type": "markdown",
      "metadata": {
        "id": "-m9qjHUDT2IG"
      },
      "source": [
        "Genero One hot Encodig para la variable market_segment\n",
        "\n",
        "---\n",
        "\n"
      ]
    },
    {
      "cell_type": "code",
      "execution_count": null,
      "metadata": {
        "colab": {
          "base_uri": "https://localhost:8080/"
        },
        "id": "AjW49-dKjHOl",
        "outputId": "ada28c37-a6fe-4892-fc69-4bc0824d83e8"
      },
      "outputs": [
        {
          "output_type": "execute_result",
          "data": {
            "text/plain": [
              "['Online TA', 'Offline TA/TO', 'Groups', 'Direct', 'Corporate']"
            ]
          },
          "metadata": {},
          "execution_count": 17
        }
      ],
      "source": [
        "lista_market_segment_mayoritarios = dataset_hotels_train['market_segment'].value_counts().nlargest(5).index.tolist()\n",
        "lista_market_segment_mayoritarios"
      ]
    },
    {
      "cell_type": "code",
      "execution_count": null,
      "metadata": {
        "id": "AB9-bPrOb8ZK"
      },
      "outputs": [],
      "source": [
        "dataset_hotels_train['market_segment'] = pd.Series(np.where(~dataset_hotels_train['market_segment'].isin(lista_market_segment_mayoritarios), 'otro market', dataset_hotels_train['market_segment']))\n",
        "dataset_hotels_train = pd.concat([dataset_hotels_train, pd.get_dummies(dataset_hotels_train['market_segment'], drop_first=True )], axis=1)\n",
        "dataset_hotels_train.drop(['market_segment'], axis='columns', inplace=True)"
      ]
    },
    {
      "cell_type": "code",
      "execution_count": null,
      "metadata": {
        "id": "ANZMmuHSnyda"
      },
      "outputs": [],
      "source": [
        "dataset_hotels_test['market_segment'] = pd.Series(np.where(~dataset_hotels_test['market_segment'].isin(lista_market_segment_mayoritarios), 'otro market', dataset_hotels_test['market_segment']))\n",
        "dataset_hotels_test = pd.concat([dataset_hotels_test, pd.get_dummies(dataset_hotels_test['market_segment'], drop_first=True )], axis=1)\n",
        "dataset_hotels_test.drop(['market_segment'], axis='columns', inplace=True)"
      ]
    },
    {
      "cell_type": "markdown",
      "metadata": {
        "id": "V9fE6uK0ccAN"
      },
      "source": [
        "*Genero* One hot Encodig para la variable distribution_channel"
      ]
    },
    {
      "cell_type": "code",
      "execution_count": null,
      "metadata": {
        "id": "ueb02a-7tHlj"
      },
      "outputs": [],
      "source": [
        "dataset_hotels_train['distribution_channel']= dataset_hotels_train['distribution_channel'].replace('Direct','direct_channel')\n",
        "dataset_hotels_test['distribution_channel']= dataset_hotels_test['distribution_channel'].replace('Direct','direct_channel')"
      ]
    },
    {
      "cell_type": "code",
      "execution_count": null,
      "metadata": {
        "colab": {
          "base_uri": "https://localhost:8080/"
        },
        "id": "SSl5pf2voDpK",
        "outputId": "fa02ddf2-c3ea-4cde-ca28-3a3b8ac8d707"
      },
      "outputs": [
        {
          "output_type": "execute_result",
          "data": {
            "text/plain": [
              "['TA/TO', 'direct_channel', 'Corporate']"
            ]
          },
          "metadata": {},
          "execution_count": 21
        }
      ],
      "source": [
        "lista_distribution_channel_mayoritarios = dataset_hotels_train['distribution_channel'].value_counts().nlargest(3).index.tolist()\n",
        "lista_distribution_channel_mayoritarios"
      ]
    },
    {
      "cell_type": "code",
      "execution_count": null,
      "metadata": {
        "id": "g_SMEq0WoQT1"
      },
      "outputs": [],
      "source": [
        "dataset_hotels_train['distribution_channel'] = pd.Series(np.where(~dataset_hotels_train['distribution_channel'].isin(lista_distribution_channel_mayoritarios), 'otro distribution channel', dataset_hotels_train['distribution_channel']))\n",
        "dataset_hotels_train = pd.concat([dataset_hotels_train, pd.get_dummies(dataset_hotels_train['distribution_channel'], drop_first=True )], axis=1)\n",
        "dataset_hotels_train.drop(['distribution_channel'], axis='columns', inplace=True)"
      ]
    },
    {
      "cell_type": "code",
      "execution_count": null,
      "metadata": {
        "id": "4sN_PgGcoZBY"
      },
      "outputs": [],
      "source": [
        "dataset_hotels_test['distribution_channel'] = pd.Series(np.where(~dataset_hotels_test['distribution_channel'].isin(lista_distribution_channel_mayoritarios), 'otro distribution channel', dataset_hotels_test['distribution_channel']))\n",
        "dataset_hotels_test = pd.concat([dataset_hotels_test, pd.get_dummies(dataset_hotels_test['distribution_channel'], drop_first=True )], axis=1)\n",
        "dataset_hotels_test.drop(['distribution_channel'], axis='columns', inplace=True)"
      ]
    },
    {
      "cell_type": "markdown",
      "metadata": {
        "id": "7keg28ZecFyo"
      },
      "source": [
        "Genero One hot Encodig para la variable reserved_room_type\n",
        "\n"
      ]
    },
    {
      "cell_type": "code",
      "execution_count": null,
      "metadata": {
        "colab": {
          "base_uri": "https://localhost:8080/"
        },
        "id": "UnVvMp8CoN-A",
        "outputId": "c0cc2d07-ed8e-4dec-bff9-c9a689b82c5c"
      },
      "outputs": [
        {
          "output_type": "execute_result",
          "data": {
            "text/plain": [
              "0        D\n",
              "1        A\n",
              "2        F\n",
              "3        A\n",
              "4        A\n",
              "        ..\n",
              "61908    A\n",
              "61909    A\n",
              "61910    A\n",
              "61911    A\n",
              "61912    D\n",
              "Name: reserved_room_type, Length: 61913, dtype: object"
            ]
          },
          "metadata": {},
          "execution_count": 24
        }
      ],
      "source": [
        "dataset_hotels_train['reserved_room_type']"
      ]
    },
    {
      "cell_type": "markdown",
      "metadata": {
        "id": "bLr9x-0zceyM"
      },
      "source": [
        "Genero One hot Encodig para la variable assigned_room_type"
      ]
    },
    {
      "cell_type": "code",
      "execution_count": null,
      "metadata": {
        "id": "FmSiVH6ace5s"
      },
      "outputs": [],
      "source": [
        "dataset_hotels_train = pd.concat([dataset_hotels_train, pd.get_dummies(dataset_hotels_train['assigned_room_type'], drop_first=True )], axis=1)\n",
        "dataset_hotels_train.drop(['assigned_room_type'], axis='columns', inplace=True) "
      ]
    },
    {
      "cell_type": "code",
      "execution_count": null,
      "metadata": {
        "id": "vgglLgYNnQaj"
      },
      "outputs": [],
      "source": [
        "dataset_hotels_test = pd.concat([dataset_hotels_test, pd.get_dummies(dataset_hotels_test['assigned_room_type'], drop_first=True )], axis=1)\n",
        "dataset_hotels_test.drop(['assigned_room_type'], axis='columns', inplace=True) "
      ]
    },
    {
      "cell_type": "markdown",
      "metadata": {
        "id": "nkN5DKfFe40h"
      },
      "source": [
        "Genero One hot Encodig para la variable deposit_type"
      ]
    },
    {
      "cell_type": "code",
      "execution_count": null,
      "metadata": {
        "id": "LpukfZWve4sp"
      },
      "outputs": [],
      "source": [
        "dataset_hotels_train = pd.concat([dataset_hotels_train, pd.get_dummies(dataset_hotels_train['deposit_type'], drop_first=True )], axis=1)\n",
        "dataset_hotels_train.drop(['deposit_type'], axis='columns', inplace=True) "
      ]
    },
    {
      "cell_type": "code",
      "execution_count": null,
      "metadata": {
        "id": "T235v9FVnT7r"
      },
      "outputs": [],
      "source": [
        "dataset_hotels_test = pd.concat([dataset_hotels_test, pd.get_dummies(dataset_hotels_test['deposit_type'], drop_first=True )], axis=1)\n",
        "dataset_hotels_test.drop(['deposit_type'], axis='columns', inplace=True) "
      ]
    },
    {
      "cell_type": "markdown",
      "metadata": {
        "id": "IcPrGgj2gENv"
      },
      "source": [
        "Genero One hot Encodig para la variable customer_type"
      ]
    },
    {
      "cell_type": "code",
      "execution_count": null,
      "metadata": {
        "id": "-XE0Ui0zgeKi"
      },
      "outputs": [],
      "source": [
        "dataset_hotels_train = pd.concat([dataset_hotels_train, pd.get_dummies(dataset_hotels_train['customer_type'], drop_first=True )], axis=1)\n",
        "dataset_hotels_train.drop(['customer_type'], axis='columns', inplace=True) "
      ]
    },
    {
      "cell_type": "code",
      "execution_count": null,
      "metadata": {
        "id": "KTINpPXLnXdN"
      },
      "outputs": [],
      "source": [
        "dataset_hotels_test = pd.concat([dataset_hotels_test, pd.get_dummies(dataset_hotels_test['customer_type'], drop_first=True )], axis=1)\n",
        "dataset_hotels_test.drop(['customer_type'], axis='columns', inplace=True) "
      ]
    },
    {
      "cell_type": "markdown",
      "metadata": {
        "id": "D7IuGgJqgE2F"
      },
      "source": [
        "Genero One hot Encodig para la variable agent"
      ]
    },
    {
      "cell_type": "code",
      "execution_count": null,
      "metadata": {
        "colab": {
          "base_uri": "https://localhost:8080/"
        },
        "id": "QZQnYjPYgsNi",
        "outputId": "32960f66-cbef-442f-fbeb-4400160dc721"
      },
      "outputs": [
        {
          "output_type": "execute_result",
          "data": {
            "text/plain": [
              "['9', '0', '240', '1', '14', '6', '7', '250', '241']"
            ]
          },
          "metadata": {},
          "execution_count": 31
        }
      ],
      "source": [
        "lista_agent_mayoritarios = dataset_hotels_train['agent'].value_counts().nlargest(9).index.tolist()\n",
        "lista_agent_mayoritarios"
      ]
    },
    {
      "cell_type": "code",
      "execution_count": null,
      "metadata": {
        "id": "iVQ7swRXgsSC"
      },
      "outputs": [],
      "source": [
        "dataset_hotels_train['agent'] = pd.Series(np.where(~dataset_hotels_train['agent'].isin(lista_agent_mayoritarios), 'otra agencia', dataset_hotels_train['agent']))\n",
        "dataset_hotels_train = pd.concat([dataset_hotels_train, pd.get_dummies(dataset_hotels_train['agent'], drop_first=True )], axis=1)\n",
        "dataset_hotels_train.drop(['agent'], axis='columns', inplace=True) "
      ]
    },
    {
      "cell_type": "code",
      "execution_count": null,
      "metadata": {
        "id": "IdmdtuJ-ncXJ"
      },
      "outputs": [],
      "source": [
        "dataset_hotels_test['agent'] = pd.Series(np.where(~dataset_hotels_test['agent'].isin(lista_agent_mayoritarios), 'otra agencia', dataset_hotels_test['agent']))\n",
        "dataset_hotels_test = pd.concat([dataset_hotels_test, pd.get_dummies(dataset_hotels_test['agent'], drop_first=True )], axis=1)\n",
        "dataset_hotels_test.drop(['agent'], axis='columns', inplace=True) "
      ]
    },
    {
      "cell_type": "markdown",
      "metadata": {
        "id": "mwqhycPJgi2e"
      },
      "source": [
        "Genero One hot Encodig para la variable company"
      ]
    },
    {
      "cell_type": "code",
      "execution_count": null,
      "metadata": {
        "colab": {
          "base_uri": "https://localhost:8080/",
          "height": 490
        },
        "id": "JAJFB_OGgEX_",
        "outputId": "f52f2319-2fff-4e57-dd36-e36d6927564c"
      },
      "outputs": [
        {
          "output_type": "execute_result",
          "data": {
            "text/plain": [
              "<Axes: >"
            ]
          },
          "metadata": {},
          "execution_count": 34
        },
        {
          "output_type": "display_data",
          "data": {
            "text/plain": [
              "<Figure size 640x480 with 1 Axes>"
            ],
            "image/png": "[encoded data removed]"
          },
          "metadata": {}
        }
      ],
      "source": [
        "dataset_hotels_train['company'].value_counts().plot(kind = 'bar')"
      ]
    },
    {
      "cell_type": "code",
      "execution_count": null,
      "metadata": {
        "colab": {
          "base_uri": "https://localhost:8080/"
        },
        "id": "2JiAHkNDh9Qf",
        "outputId": "5ce8b6ab-84e6-49c2-a4e6-133e1e8d24b2"
      },
      "outputs": [
        {
          "output_type": "execute_result",
          "data": {
            "text/plain": [
              "['ninguno']"
            ]
          },
          "metadata": {},
          "execution_count": 35
        }
      ],
      "source": [
        "lista_company_mayoritarios = dataset_hotels_train['company'].value_counts().nlargest(1).index.tolist()\n",
        "lista_company_mayoritarios"
      ]
    },
    {
      "cell_type": "code",
      "execution_count": null,
      "metadata": {
        "id": "Ii9svau1iFGq"
      },
      "outputs": [],
      "source": [
        "dataset_hotels_train['company'] = pd.Series(np.where(~dataset_hotels_train['company'].isin(lista_company_mayoritarios), 'con compay', dataset_hotels_train['company']))\n",
        "dataset_hotels_train = pd.concat([dataset_hotels_train, pd.get_dummies(dataset_hotels_train['company'], drop_first=True )], axis=1)\n",
        "dataset_hotels_train.drop(['company'], axis='columns', inplace=True) "
      ]
    },
    {
      "cell_type": "code",
      "execution_count": null,
      "metadata": {
        "id": "fLTtJL3Lnjj_"
      },
      "outputs": [],
      "source": [
        "dataset_hotels_test['company'] = pd.Series(np.where(~dataset_hotels_test['company'].isin(lista_company_mayoritarios), 'con compay', dataset_hotels_test['company']))\n",
        "dataset_hotels_test = pd.concat([dataset_hotels_test, pd.get_dummies(dataset_hotels_test['company'], drop_first=True )], axis=1)\n",
        "dataset_hotels_test.drop(['company'], axis='columns', inplace=True) "
      ]
    },
    {
      "cell_type": "markdown",
      "metadata": {
        "id": "d_gBGYmCUJDZ"
      },
      "source": [
        "Genero One hot encoding para la variable Country, como son muchos paises y para no saturar de dimensiones los datos agrupo los paises minoritarios en una nueva categoria"
      ]
    },
    {
      "cell_type": "code",
      "execution_count": null,
      "metadata": {
        "id": "mUxU_MFUkQ7d",
        "colab": {
          "base_uri": "https://localhost:8080/",
          "height": 467
        },
        "outputId": "ba6c9873-a02f-4bdc-aeb2-502df6b6ba43"
      },
      "outputs": [
        {
          "output_type": "execute_result",
          "data": {
            "text/plain": [
              "<Axes: >"
            ]
          },
          "metadata": {},
          "execution_count": 38
        },
        {
          "output_type": "display_data",
          "data": {
            "text/plain": [
              "<Figure size 640x480 with 1 Axes>"
            ],
            "image/png": "[encoded data removed]"
          },
          "metadata": {}
        }
      ],
      "source": [
        "dataset_hotels_train['country'].value_counts().plot(kind = 'bar')"
      ]
    },
    {
      "cell_type": "code",
      "execution_count": null,
      "metadata": {
        "id": "vrnpLiv3gqOr",
        "colab": {
          "base_uri": "https://localhost:8080/"
        },
        "outputId": "6ff590a6-7f8c-4790-c0a5-a6a098ce0eaf"
      },
      "outputs": [
        {
          "output_type": "execute_result",
          "data": {
            "text/plain": [
              "['PRT', 'GBR', 'FRA', 'ESP', 'DEU', 'ITA', 'IRL', 'BRA', 'BEL', 'USA']"
            ]
          },
          "metadata": {},
          "execution_count": 39
        }
      ],
      "source": [
        "lista_paises_mayoritarios = dataset_hotels_train['country'].value_counts().nlargest(10).index.tolist()\n",
        "lista_paises_mayoritarios"
      ]
    },
    {
      "cell_type": "code",
      "execution_count": null,
      "metadata": {
        "id": "m3Q4Y2KeSXw4"
      },
      "outputs": [],
      "source": [
        "dataset_hotels_train['country'] = pd.Series(np.where(~dataset_hotels_train['country'].isin(lista_paises_mayoritarios), 'Otro Pais', dataset_hotels_train['country']))\n",
        "dataset_hotels_train = pd.concat([dataset_hotels_train, pd.get_dummies(dataset_hotels_train['country'], drop_first=True )], axis=1)\n",
        "dataset_hotels_train.drop(['country'], axis='columns', inplace=True) "
      ]
    },
    {
      "cell_type": "code",
      "execution_count": null,
      "metadata": {
        "id": "7BA2lF_TTN7F"
      },
      "outputs": [],
      "source": [
        "dataset_hotels_test['country'] = pd.Series(np.where(~dataset_hotels_test['country'].isin(lista_paises_mayoritarios), 'Otro Pais', dataset_hotels_test['country']))\n",
        "dataset_hotels_test = pd.concat([dataset_hotels_test, pd.get_dummies(dataset_hotels_test['country'], drop_first=True )], axis=1)\n",
        "dataset_hotels_test.drop(['country'], axis='columns', inplace=True) "
      ]
    },
    {
      "cell_type": "code",
      "execution_count": null,
      "metadata": {
        "id": "X_vAGC7yXE8k"
      },
      "outputs": [],
      "source": [
        "list_columns = dataset_hotels_test.columns.to_list()"
      ]
    },
    {
      "cell_type": "code",
      "execution_count": null,
      "metadata": {
        "id": "cl-vKA0OegeD",
        "colab": {
          "base_uri": "https://localhost:8080/"
        },
        "outputId": "323bf27b-84f7-4d43-e683-ec4b40f738c9"
      },
      "outputs": [
        {
          "output_type": "execute_result",
          "data": {
            "text/plain": [
              "Index(['L', 'is_canceled'], dtype='object')"
            ]
          },
          "metadata": {},
          "execution_count": 43
        }
      ],
      "source": [
        "dataset_hotels_test.columns.symmetric_difference(dataset_hotels_train.columns)"
      ]
    },
    {
      "cell_type": "code",
      "execution_count": null,
      "metadata": {
        "id": "HPv-hDnMgvTo"
      },
      "outputs": [],
      "source": [
        "dataset_hotels_test['L'] = np.uint8(0)"
      ]
    },
    {
      "cell_type": "code",
      "execution_count": null,
      "metadata": {
        "id": "HCjixJiDfwxh",
        "colab": {
          "base_uri": "https://localhost:8080/"
        },
        "outputId": "2e57d15a-ef14-4a7f-9322-e2af6c761c08"
      },
      "outputs": [
        {
          "output_type": "execute_result",
          "data": {
            "text/plain": [
              "Index(['is_canceled'], dtype='object')"
            ]
          },
          "metadata": {},
          "execution_count": 45
        }
      ],
      "source": [
        "dataset_hotels_train.columns.symmetric_difference(dataset_hotels_test.columns)"
      ]
    },
    {
      "cell_type": "code",
      "execution_count": null,
      "metadata": {
        "id": "_clGG0FDgqR1"
      },
      "outputs": [],
      "source": [
        "dataset_hotels_train = dataset_hotels_train.reindex(sorted(dataset_hotels_train.columns), axis=1)\n",
        "dataset_hotels_test = dataset_hotels_test.reindex(sorted(dataset_hotels_test.columns), axis=1)"
      ]
    },
    {
      "cell_type": "markdown",
      "metadata": {
        "id": "UAcxFL2-aXrO"
      },
      "source": [
        "# PREPROCESAMIENTO HECHO"
      ]
    },
    {
      "cell_type": "code",
      "source": [
        "import numpy as np \n",
        "import pandas as pd\n",
        "from collections import defaultdict\n",
        "\n",
        "import matplotlib.pyplot as plt\n",
        "import seaborn as sns\n",
        "\n",
        "import plotly.graph_objects as go\n",
        "%matplotlib inline\n",
        "\n",
        "from sklearn.ensemble import RandomForestClassifier \n",
        "from sklearn.linear_model import LogisticRegression \n",
        "from sklearn.neighbors import KNeighborsClassifier\n",
        "from sklearn.svm import SVC\n",
        "from sklearn.neural_network import MLPClassifier\n",
        "from sklearn.linear_model import LogisticRegressionCV\n",
        "\n",
        "from sklearn.model_selection import cross_val_score, RepeatedStratifiedKFold\n",
        "from sklearn.datasets import make_classification\n",
        "from sklearn.model_selection import train_test_split\n",
        "from sklearn.metrics import accuracy_score\n",
        "\n",
        "\n",
        "#configuración warnings\n",
        "import warnings\n",
        "warnings.simplefilter(action='ignore', category=FutureWarning)\n",
        "warnings.simplefilter(action='ignore', category=UserWarning)"
      ],
      "metadata": {
        "id": "SF8w9I6_T_hR"
      },
      "execution_count": null,
      "outputs": []
    },
    {
      "cell_type": "code",
      "execution_count": null,
      "metadata": {
        "id": "iQN8_yfDa07x"
      },
      "outputs": [],
      "source": [
        "ds_hotels_y = dataset_hotels_train['is_canceled'].copy()\n",
        "\n",
        "# Solo deja las columnas numericas\n",
        "dataset_hotels_train = dataset_hotels_train.select_dtypes(include='number')\n",
        "dataset_hotels_test = dataset_hotels_test.select_dtypes(include='number')\n",
        "\n",
        "# Agarra el resto\n",
        "ds_hotels_x = dataset_hotels_train.drop(['is_canceled'], axis='columns', inplace=False) \n",
        "\n",
        "x_train, x_test, y_train, y_test = train_test_split(ds_hotels_x,\n",
        "                                                    ds_hotels_y, \n",
        "                                                    test_size=0.3,  #proporcion 70/30\n",
        "                                                    random_state=2) #semilla\n"
      ]
    },
    {
      "cell_type": "code",
      "source": [
        "rfc_default = RandomForestClassifier()"
      ],
      "metadata": {
        "id": "YLu1XCmYTo3e"
      },
      "execution_count": null,
      "outputs": []
    },
    {
      "cell_type": "code",
      "source": [
        "##KFOLD CV Random Search para buscar el mejor arbol (los mejores atributos, hiperparametros,etc)\n",
        "from sklearn.model_selection import StratifiedKFold, KFold,RandomizedSearchCV\n",
        "from sklearn.tree import DecisionTreeClassifier\n",
        "from sklearn.metrics import make_scorer\n",
        "import sklearn as sk\n",
        "                \n",
        "# Hiperparametros sacados del RF del ejercicio anterior\n",
        "rfc = RandomForestClassifier(max_features='auto', \n",
        "                             oob_score=True, \n",
        "                             random_state=2, \n",
        "                             n_jobs=-1,\n",
        "                             criterion=\"gini\", \n",
        "                             min_samples_leaf=6,\n",
        "                             min_samples_split=2,\n",
        "                             max_depth=25,\n",
        "                             n_estimators=5, verbose=1)\n",
        "\n",
        "knn = KNeighborsClassifier(  weights= 'distance',\n",
        "                             n_neighbors= 6,\n",
        "                             metric= 'manhattan',\n",
        "                             algorithm= 'brute')"
      ],
      "metadata": {
        "id": "JOifFGb7DKir"
      },
      "execution_count": null,
      "outputs": []
    },
    {
      "cell_type": "markdown",
      "source": [
        "## Stacking\n"
      ],
      "metadata": {
        "id": "XtWu4_-znd-X"
      }
    },
    {
      "cell_type": "code",
      "source": [
        "from sklearn.ensemble import StackingClassifier\n",
        "from sklearn.ensemble import RandomForestClassifier \n",
        "from sklearn.linear_model import LogisticRegression \n",
        "from sklearn.neighbors import KNeighborsClassifier\n",
        "from sklearn.svm import SVC\n",
        "from sklearn.neural_network import MLPClassifier\n",
        "from sklearn.linear_model import LogisticRegressionCV\n",
        "\n",
        "#Modelos Base\n",
        "base_models = [('random_forest', rfc),\n",
        "               ('knn', knn)]\n",
        "\n",
        "#Ensemble Stacking\n",
        "stacking_model = StackingClassifier(estimators=base_models, \n",
        "                                    final_estimator=LogisticRegressionCV(), \n",
        "                                    passthrough=True, \n",
        "                                    cv=5,\n",
        "                                    verbose=10)"
      ],
      "metadata": {
        "id": "mY__Oc3TndaQ"
      },
      "execution_count": null,
      "outputs": []
    },
    {
      "cell_type": "code",
      "source": [
        "stacking_model.fit(x_train,y_train)\n",
        "y_pred_st = stacking_model.predict(x_test)\n",
        "accuracy_score(y_test, y_pred_st)"
      ],
      "metadata": {
        "colab": {
          "base_uri": "https://localhost:8080/"
        },
        "id": "Q_PqYB59ra4h",
        "outputId": "4c453ad5-bcde-4221-ba56-3a07b7c5f306"
      },
      "execution_count": null,
      "outputs": [
        {
          "output_type": "stream",
          "name": "stderr",
          "text": [
            "[Parallel(n_jobs=-1)]: Using backend LokyBackend with 2 concurrent workers.\n",
            "[Parallel(n_jobs=-1)]: Done   5 out of   5 | elapsed:    3.6s finished\n",
            "[Parallel(n_jobs=1)]: Using backend SequentialBackend with 1 concurrent workers.\n",
            "[Parallel(n_jobs=-1)]: Using backend LokyBackend with 2 concurrent workers.\n",
            "[Parallel(n_jobs=-1)]: Done   5 out of   5 | elapsed:    0.5s finished\n",
            "[Parallel(n_jobs=2)]: Using backend ThreadingBackend with 2 concurrent workers.\n",
            "[Parallel(n_jobs=2)]: Done   5 out of   5 | elapsed:    0.1s finished\n",
            "[Parallel(n_jobs=1)]: Done   1 out of   1 | elapsed:    0.9s remaining:    0.0s\n",
            "[Parallel(n_jobs=-1)]: Using backend LokyBackend with 2 concurrent workers.\n",
            "[Parallel(n_jobs=-1)]: Done   5 out of   5 | elapsed:    0.4s finished\n",
            "[Parallel(n_jobs=2)]: Using backend ThreadingBackend with 2 concurrent workers.\n",
            "[Parallel(n_jobs=2)]: Done   5 out of   5 | elapsed:    0.0s finished\n",
            "[Parallel(n_jobs=1)]: Done   2 out of   2 | elapsed:    1.6s remaining:    0.0s\n",
            "[Parallel(n_jobs=-1)]: Using backend LokyBackend with 2 concurrent workers.\n",
            "[Parallel(n_jobs=-1)]: Done   5 out of   5 | elapsed:    0.7s finished\n",
            "[Parallel(n_jobs=2)]: Using backend ThreadingBackend with 2 concurrent workers.\n",
            "[Parallel(n_jobs=2)]: Done   5 out of   5 | elapsed:    0.1s finished\n",
            "[Parallel(n_jobs=1)]: Done   3 out of   3 | elapsed:    3.0s remaining:    0.0s\n",
            "[Parallel(n_jobs=-1)]: Using backend LokyBackend with 2 concurrent workers.\n",
            "[Parallel(n_jobs=-1)]: Done   5 out of   5 | elapsed:    0.8s finished\n",
            "[Parallel(n_jobs=2)]: Using backend ThreadingBackend with 2 concurrent workers.\n",
            "[Parallel(n_jobs=2)]: Done   5 out of   5 | elapsed:    0.0s finished\n",
            "[Parallel(n_jobs=1)]: Done   4 out of   4 | elapsed:    4.5s remaining:    0.0s\n",
            "[Parallel(n_jobs=-1)]: Using backend LokyBackend with 2 concurrent workers.\n",
            "[Parallel(n_jobs=-1)]: Done   5 out of   5 | elapsed:    0.9s finished\n",
            "[Parallel(n_jobs=2)]: Using backend ThreadingBackend with 2 concurrent workers.\n",
            "[Parallel(n_jobs=2)]: Done   5 out of   5 | elapsed:    0.0s finished\n",
            "[Parallel(n_jobs=1)]: Done   5 out of   5 | elapsed:    6.0s remaining:    0.0s\n",
            "[Parallel(n_jobs=1)]: Done   5 out of   5 | elapsed:    6.0s finished\n",
            "[Parallel(n_jobs=1)]: Using backend SequentialBackend with 1 concurrent workers.\n",
            "[Parallel(n_jobs=1)]: Done   1 out of   1 | elapsed:   33.6s remaining:    0.0s\n",
            "[Parallel(n_jobs=1)]: Done   2 out of   2 | elapsed:  1.0min remaining:    0.0s\n",
            "[Parallel(n_jobs=1)]: Done   3 out of   3 | elapsed:  1.5min remaining:    0.0s\n",
            "[Parallel(n_jobs=1)]: Done   4 out of   4 | elapsed:  2.0min remaining:    0.0s\n",
            "[Parallel(n_jobs=1)]: Done   5 out of   5 | elapsed:  2.4min remaining:    0.0s\n",
            "[Parallel(n_jobs=1)]: Done   5 out of   5 | elapsed:  2.4min finished\n",
            "[Parallel(n_jobs=2)]: Using backend ThreadingBackend with 2 concurrent workers.\n",
            "[Parallel(n_jobs=2)]: Done   5 out of   5 | elapsed:    0.0s finished\n"
          ]
        },
        {
          "output_type": "execute_result",
          "data": {
            "text/plain": [
              "0.854689350705287"
            ]
          },
          "metadata": {},
          "execution_count": 52
        }
      ]
    },
    {
      "cell_type": "code",
      "source": [
        "#Realizamos una predicción sobre el set de test\n",
        "y_pred = stacking_model.predict(x_test)\n",
        "#Valores Predichos\n",
        "y_pred"
      ],
      "metadata": {
        "id": "ZPuqzqJdTrZ2",
        "colab": {
          "base_uri": "https://localhost:8080/"
        },
        "outputId": "2da11b11-0005-4da1-a050-ca9f99252f42"
      },
      "execution_count": null,
      "outputs": [
        {
          "output_type": "stream",
          "name": "stderr",
          "text": [
            "[Parallel(n_jobs=2)]: Using backend ThreadingBackend with 2 concurrent workers.\n",
            "[Parallel(n_jobs=2)]: Done   5 out of   5 | elapsed:    0.0s finished\n"
          ]
        },
        {
          "output_type": "execute_result",
          "data": {
            "text/plain": [
              "array([1, 1, 1, ..., 0, 1, 1])"
            ]
          },
          "metadata": {},
          "execution_count": 53
        }
      ]
    },
    {
      "cell_type": "code",
      "source": [
        "from joblib import dump, load\n",
        "dump(stacking_model, 'stacking_model.joblib')"
      ],
      "metadata": {
        "colab": {
          "base_uri": "https://localhost:8080/"
        },
        "id": "QAJdykFBqx1H",
        "outputId": "1da145c2-4851-4052-b2bb-b08eccd24260"
      },
      "execution_count": null,
      "outputs": [
        {
          "output_type": "execute_result",
          "data": {
            "text/plain": [
              "['stacking_model.joblib']"
            ]
          },
          "metadata": {},
          "execution_count": 75
        }
      ]
    },
    {
      "cell_type": "code",
      "source": [
        "from sklearn.metrics import confusion_matrix, classification_report , f1_score\n",
        "print('F1-Score: {}'.format(f1_score(y_test, y_pred, average='binary'))) #binary considera la clase positiva por defecto 1\n",
        "\n",
        "cm = confusion_matrix(y_test,y_pred)\n",
        "sns.heatmap(cm, cmap='Blues',annot=True,fmt='g')\n",
        "plt.xlabel('Predicted')\n",
        "plt.ylabel('True')"
      ],
      "metadata": {
        "colab": {
          "base_uri": "https://localhost:8080/",
          "height": 485
        },
        "id": "uO4WLSfsp_q4",
        "outputId": "6ff7bf26-71ce-4ed2-8365-0cac3859f3b3"
      },
      "execution_count": null,
      "outputs": [
        {
          "output_type": "stream",
          "name": "stdout",
          "text": [
            "F1-Score: 0.8554287856875034\n"
          ]
        },
        {
          "output_type": "execute_result",
          "data": {
            "text/plain": [
              "Text(50.722222222222214, 0.5, 'True')"
            ]
          },
          "metadata": {},
          "execution_count": 72
        },
        {
          "output_type": "display_data",
          "data": {
            "text/plain": [
              "<Figure size 640x480 with 2 Axes>"
            ],
            "image/png": "[encoded data removed]"
          },
          "metadata": {}
        }
      ]
    },
    {
      "cell_type": "code",
      "source": [
        "# Calculo las métricas en el conjunto de evaluación\n",
        "accuracy=accuracy_score(y_test,y_pred)\n",
        "recall=recall_score(y_test,y_pred)\n",
        "f1=f1_score(y_test,y_pred)\n",
        "\n",
        "print(\"Accuracy: \"+str(accuracy))\n",
        "print(\"Recall: \"+str(recall))\n",
        "print(\"f1 score: \"+str(f1))"
      ],
      "metadata": {
        "id": "yARsRsQjTt9E",
        "colab": {
          "base_uri": "https://localhost:8080/"
        },
        "outputId": "bbcab34a-ac6d-429b-f034-4d2e0a8f1642"
      },
      "execution_count": null,
      "outputs": [
        {
          "output_type": "stream",
          "name": "stdout",
          "text": [
            "Accuracy: 0.854689350705287\n",
            "Recall: 0.8537367689511387\n",
            "f1 score: 0.8554287856875034\n"
          ]
        }
      ]
    },
    {
      "cell_type": "code",
      "source": [
        "y_pred_test = stacking_model.predict(dataset_hotels_test)\n",
        "y_pred_test"
      ],
      "metadata": {
        "id": "S-J-eNm-EOZq",
        "colab": {
          "base_uri": "https://localhost:8080/"
        },
        "outputId": "978148b2-6fd7-4a1c-9607-501f1b0406c5"
      },
      "execution_count": null,
      "outputs": [
        {
          "output_type": "stream",
          "name": "stderr",
          "text": [
            "[Parallel(n_jobs=2)]: Using backend ThreadingBackend with 2 concurrent workers.\n",
            "[Parallel(n_jobs=2)]: Done   5 out of   5 | elapsed:    0.0s finished\n"
          ]
        },
        {
          "output_type": "execute_result",
          "data": {
            "text/plain": [
              "array([1, 1, 0, ..., 1, 1, 0])"
            ]
          },
          "metadata": {},
          "execution_count": 55
        }
      ]
    },
    {
      "cell_type": "code",
      "source": [
        "df_prediction_stacking = pd.DataFrame(zip(dataset_hotels_test_id,y_pred_test)).rename(columns={0: \"id\", 1: \"is_canceled\"})\n",
        "df_prediction_stacking.to_csv('stacking_prediction.csv', index=False)"
      ],
      "metadata": {
        "id": "YCPyk-a7kMN_"
      },
      "execution_count": null,
      "outputs": []
    },
    {
      "cell_type": "code",
      "source": [],
      "metadata": {
        "id": "6GvDR4c-kUAW"
      },
      "execution_count": null,
      "outputs": []
    },
    {
      "cell_type": "markdown",
      "source": [
        "## Voting"
      ],
      "metadata": {
        "id": "1sYExbuUvypW"
      }
    },
    {
      "cell_type": "code",
      "source": [
        "from sklearn.ensemble import RandomForestClassifier \n",
        "from sklearn.linear_model import LogisticRegression \n",
        "from sklearn.neighbors import KNeighborsClassifier\n",
        "from sklearn.ensemble import VotingClassifier\n",
        "from sklearn.model_selection import train_test_split\n",
        "from sklearn.metrics import accuracy_score"
      ],
      "metadata": {
        "id": "icEQXf-ev0Yo"
      },
      "execution_count": null,
      "outputs": []
    },
    {
      "cell_type": "code",
      "source": [
        "#Creo ensemble de Votación\n",
        "voting_clfr = VotingClassifier(estimators = [('rnd', rfc), ('knn', knn)], voting = 'hard')"
      ],
      "metadata": {
        "id": "jtW_Cvknv3Ar"
      },
      "execution_count": null,
      "outputs": []
    },
    {
      "cell_type": "code",
      "source": [
        "voting_clfr.fit(x_train, y_train)"
      ],
      "metadata": {
        "colab": {
          "base_uri": "https://localhost:8080/",
          "height": 146
        },
        "id": "T-llHCerwNI_",
        "outputId": "27c7a707-5c57-4de1-e677-8314131a9c25"
      },
      "execution_count": null,
      "outputs": [
        {
          "output_type": "stream",
          "name": "stderr",
          "text": [
            "[Parallel(n_jobs=-1)]: Using backend LokyBackend with 2 concurrent workers.\n",
            "[Parallel(n_jobs=-1)]: Done   5 out of   5 | elapsed:    1.4s finished\n"
          ]
        },
        {
          "output_type": "execute_result",
          "data": {
            "text/plain": [
              "VotingClassifier(estimators=[('rnd',\n",
              "                              RandomForestClassifier(max_depth=25,\n",
              "                                                     max_features='auto',\n",
              "                                                     min_samples_leaf=6,\n",
              "                                                     n_estimators=5, n_jobs=-1,\n",
              "                                                     oob_score=True,\n",
              "                                                     random_state=2,\n",
              "                                                     verbose=1)),\n",
              "                             ('knn',\n",
              "                              KNeighborsClassifier(algorithm='brute',\n",
              "                                                   metric='manhattan',\n",
              "                                                   n_neighbors=6,\n",
              "                                                   weights='distance'))])"
            ],
            "text/html": [
              "<style>#sk-container-id-1 {color: black;background-color: white;}#sk-container-id-1 pre{padding: 0;}#sk-container-id-1 div.sk-toggleable {background-color: white;}#sk-container-id-1 label.sk-toggleable__label {cursor: pointer;display: block;width: 100%;margin-bottom: 0;padding: 0.3em;box-sizing: border-box;text-align: center;}#sk-container-id-1 label.sk-toggleable__label-arrow:before {content: \"▸\";float: left;margin-right: 0.25em;color: #696969;}#sk-container-id-1 label.sk-toggleable__label-arrow:hover:before {color: black;}#sk-container-id-1 div.sk-estimator:hover label.sk-toggleable__label-arrow:before {color: black;}#sk-container-id-1 div.sk-toggleable__content {max-height: 0;max-width: 0;overflow: hidden;text-align: left;background-color: #f0f8ff;}#sk-container-id-1 div.sk-toggleable__content pre {margin: 0.2em;color: black;border-radius: 0.25em;background-color: #f0f8ff;}#sk-container-id-1 input.sk-toggleable__control:checked~div.sk-toggleable__content {max-height: 200px;max-width: 100%;overflow: auto;}#sk-container-id-1 input.sk-toggleable__control:checked~label.sk-toggleable__label-arrow:before {content: \"▾\";}#sk-container-id-1 div.sk-estimator input.sk-toggleable__control:checked~label.sk-toggleable__label {background-color: #d4ebff;}#sk-container-id-1 div.sk-label input.sk-toggleable__control:checked~label.sk-toggleable__label {background-color: #d4ebff;}#sk-container-id-1 input.sk-hidden--visually {border: 0;clip: rect(1px 1px 1px 1px);clip: rect(1px, 1px, 1px, 1px);height: 1px;margin: -1px;overflow: hidden;padding: 0;position: absolute;width: 1px;}#sk-container-id-1 div.sk-estimator {font-family: monospace;background-color: #f0f8ff;border: 1px dotted black;border-radius: 0.25em;box-sizing: border-box;margin-bottom: 0.5em;}#sk-container-id-1 div.sk-estimator:hover {background-color: #d4ebff;}#sk-container-id-1 div.sk-parallel-item::after {content: \"\";width: 100%;border-bottom: 1px solid gray;flex-grow: 1;}#sk-container-id-1 div.sk-label:hover label.sk-toggleable__label {background-color: #d4ebff;}#sk-container-id-1 div.sk-serial::before {content: \"\";position: absolute;border-left: 1px solid gray;box-sizing: border-box;top: 0;bottom: 0;left: 50%;z-index: 0;}#sk-container-id-1 div.sk-serial {display: flex;flex-direction: column;align-items: center;background-color: white;padding-right: 0.2em;padding-left: 0.2em;position: relative;}#sk-container-id-1 div.sk-item {position: relative;z-index: 1;}#sk-container-id-1 div.sk-parallel {display: flex;align-items: stretch;justify-content: center;background-color: white;position: relative;}#sk-container-id-1 div.sk-item::before, #sk-container-id-1 div.sk-parallel-item::before {content: \"\";position: absolute;border-left: 1px solid gray;box-sizing: border-box;top: 0;bottom: 0;left: 50%;z-index: -1;}#sk-container-id-1 div.sk-parallel-item {display: flex;flex-direction: column;z-index: 1;position: relative;background-color: white;}#sk-container-id-1 div.sk-parallel-item:first-child::after {align-self: flex-end;width: 50%;}#sk-container-id-1 div.sk-parallel-item:last-child::after {align-self: flex-start;width: 50%;}#sk-container-id-1 div.sk-parallel-item:only-child::after {width: 0;}#sk-container-id-1 div.sk-dashed-wrapped {border: 1px dashed gray;margin: 0 0.4em 0.5em 0.4em;box-sizing: border-box;padding-bottom: 0.4em;background-color: white;}#sk-container-id-1 div.sk-label label {font-family: monospace;font-weight: bold;display: inline-block;line-height: 1.2em;}#sk-container-id-1 div.sk-label-container {text-align: center;}#sk-container-id-1 div.sk-container {/* jupyter's `normalize.less` sets `[hidden] { display: none; }` but bootstrap.min.css set `[hidden] { display: none !important; }` so we also need the `!important` here to be able to override the default hidden behavior on the sphinx rendered scikit-learn.org. See: https://github.com/scikit-learn/scikit-learn/issues/21755 */display: inline-block !important;position: relative;}#sk-container-id-1 div.sk-text-repr-fallback {display: none;}</style><div id=\"sk-container-id-1\" class=\"sk-top-container\"><div class=\"sk-text-repr-fallback\"><pre>VotingClassifier(estimators=[(&#x27;rnd&#x27;,\n",
              "                              RandomForestClassifier(max_depth=25,\n",
              "                                                     max_features=&#x27;auto&#x27;,\n",
              "                                                     min_samples_leaf=6,\n",
              "                                                     n_estimators=5, n_jobs=-1,\n",
              "                                                     oob_score=True,\n",
              "                                                     random_state=2,\n",
              "                                                     verbose=1)),\n",
              "                             (&#x27;knn&#x27;,\n",
              "                              KNeighborsClassifier(algorithm=&#x27;brute&#x27;,\n",
              "                                                   metric=&#x27;manhattan&#x27;,\n",
              "                                                   n_neighbors=6,\n",
              "                                                   weights=&#x27;distance&#x27;))])</pre><b>In a Jupyter environment, please rerun this cell to show the HTML representation or trust the notebook. <br />On GitHub, the HTML representation is unable to render, please try loading this page with nbviewer.org.</b></div><div class=\"sk-container\" hidden><div class=\"sk-item sk-dashed-wrapped\"><div class=\"sk-label-container\"><div class=\"sk-label sk-toggleable\"><input class=\"sk-toggleable__control sk-hidden--visually\" id=\"sk-estimator-id-1\" type=\"checkbox\" ><label for=\"sk-estimator-id-1\" class=\"sk-toggleable__label sk-toggleable__label-arrow\">VotingClassifier</label><div class=\"sk-toggleable__content\"><pre>VotingClassifier(estimators=[(&#x27;rnd&#x27;,\n",
              "                              RandomForestClassifier(max_depth=25,\n",
              "                                                     max_features=&#x27;auto&#x27;,\n",
              "                                                     min_samples_leaf=6,\n",
              "                                                     n_estimators=5, n_jobs=-1,\n",
              "                                                     oob_score=True,\n",
              "                                                     random_state=2,\n",
              "                                                     verbose=1)),\n",
              "                             (&#x27;knn&#x27;,\n",
              "                              KNeighborsClassifier(algorithm=&#x27;brute&#x27;,\n",
              "                                                   metric=&#x27;manhattan&#x27;,\n",
              "                                                   n_neighbors=6,\n",
              "                                                   weights=&#x27;distance&#x27;))])</pre></div></div></div><div class=\"sk-parallel\"><div class=\"sk-parallel-item\"><div class=\"sk-item\"><div class=\"sk-label-container\"><div class=\"sk-label sk-toggleable\"><label>rnd</label></div></div><div class=\"sk-serial\"><div class=\"sk-item\"><div class=\"sk-estimator sk-toggleable\"><input class=\"sk-toggleable__control sk-hidden--visually\" id=\"sk-estimator-id-2\" type=\"checkbox\" ><label for=\"sk-estimator-id-2\" class=\"sk-toggleable__label sk-toggleable__label-arrow\">RandomForestClassifier</label><div class=\"sk-toggleable__content\"><pre>RandomForestClassifier(max_depth=25, max_features=&#x27;auto&#x27;, min_samples_leaf=6,\n",
              "                       n_estimators=5, n_jobs=-1, oob_score=True,\n",
              "                       random_state=2, verbose=1)</pre></div></div></div></div></div></div><div class=\"sk-parallel-item\"><div class=\"sk-item\"><div class=\"sk-label-container\"><div class=\"sk-label sk-toggleable\"><label>knn</label></div></div><div class=\"sk-serial\"><div class=\"sk-item\"><div class=\"sk-estimator sk-toggleable\"><input class=\"sk-toggleable__control sk-hidden--visually\" id=\"sk-estimator-id-3\" type=\"checkbox\" ><label for=\"sk-estimator-id-3\" class=\"sk-toggleable__label sk-toggleable__label-arrow\">KNeighborsClassifier</label><div class=\"sk-toggleable__content\"><pre>KNeighborsClassifier(algorithm=&#x27;brute&#x27;, metric=&#x27;manhattan&#x27;, n_neighbors=6,\n",
              "                     weights=&#x27;distance&#x27;)</pre></div></div></div></div></div></div></div></div></div></div>"
            ]
          },
          "metadata": {},
          "execution_count": 58
        }
      ]
    },
    {
      "cell_type": "code",
      "source": [
        "pred = voting_clfr.predict(x_test)\n",
        "accuracy_score(y_test, pred)"
      ],
      "metadata": {
        "colab": {
          "base_uri": "https://localhost:8080/"
        },
        "id": "H_Agz_HMwSQO",
        "outputId": "eca8e0cd-736e-4e66-82c1-a0830ebab69b"
      },
      "execution_count": null,
      "outputs": [
        {
          "output_type": "stream",
          "name": "stderr",
          "text": [
            "[Parallel(n_jobs=2)]: Using backend ThreadingBackend with 2 concurrent workers.\n",
            "[Parallel(n_jobs=2)]: Done   5 out of   5 | elapsed:    0.0s finished\n"
          ]
        },
        {
          "output_type": "execute_result",
          "data": {
            "text/plain": [
              "0.8241628082265533"
            ]
          },
          "metadata": {},
          "execution_count": 59
        }
      ]
    },
    {
      "cell_type": "code",
      "source": [
        "from joblib import dump, load\n",
        "dump(voting_clfr, 'voting_clfr.joblib')"
      ],
      "metadata": {
        "colab": {
          "base_uri": "https://localhost:8080/"
        },
        "id": "ZW3yCG_pqp1w",
        "outputId": "70e57222-8670-495b-9dbc-dc6921218d76"
      },
      "execution_count": null,
      "outputs": [
        {
          "output_type": "execute_result",
          "data": {
            "text/plain": [
              "['voting_clfr.joblib']"
            ]
          },
          "metadata": {},
          "execution_count": 74
        }
      ]
    },
    {
      "cell_type": "code",
      "source": [
        "from sklearn.metrics import confusion_matrix, classification_report , f1_score\n",
        "print('F1-Score: {}'.format(f1_score(y_test, pred, average='binary'))) #binary considera la clase positiva por defecto 1\n",
        "\n",
        "cm = confusion_matrix(y_test,pred)\n",
        "sns.heatmap(cm, cmap='Blues',annot=True,fmt='g')\n",
        "plt.xlabel('Predicted')\n",
        "plt.ylabel('True')"
      ],
      "metadata": {
        "colab": {
          "base_uri": "https://localhost:8080/",
          "height": 485
        },
        "id": "wldK_9adpl1p",
        "outputId": "bf1444e9-b968-442a-fb07-6a060d53534f"
      },
      "execution_count": null,
      "outputs": [
        {
          "output_type": "stream",
          "name": "stdout",
          "text": [
            "F1-Score: 0.8099837095648127\n"
          ]
        },
        {
          "output_type": "execute_result",
          "data": {
            "text/plain": [
              "Text(50.722222222222214, 0.5, 'True')"
            ]
          },
          "metadata": {},
          "execution_count": 70
        },
        {
          "output_type": "display_data",
          "data": {
            "text/plain": [
              "<Figure size 640x480 with 2 Axes>"
            ],
            "image/png": "[encoded data removed]"
          },
          "metadata": {}
        }
      ]
    },
    {
      "cell_type": "code",
      "source": [
        "pred_test = voting_clfr.predict(dataset_hotels_test)"
      ],
      "metadata": {
        "colab": {
          "base_uri": "https://localhost:8080/"
        },
        "id": "xaw-oywuwxz4",
        "outputId": "bba0cb23-722a-48be-f8c1-ec10e34ca7fb"
      },
      "execution_count": null,
      "outputs": [
        {
          "output_type": "stream",
          "name": "stderr",
          "text": [
            "[Parallel(n_jobs=2)]: Using backend ThreadingBackend with 2 concurrent workers.\n",
            "[Parallel(n_jobs=2)]: Done   5 out of   5 | elapsed:    0.0s finished\n"
          ]
        }
      ]
    },
    {
      "cell_type": "code",
      "execution_count": null,
      "metadata": {
        "id": "rNeaFd7baxbN",
        "colab": {
          "base_uri": "https://localhost:8080/"
        },
        "outputId": "7d43d41b-99bc-46e2-c8a9-70d908af48ae"
      },
      "outputs": [
        {
          "output_type": "stream",
          "name": "stderr",
          "text": [
            "[Parallel(n_jobs=2)]: Using backend ThreadingBackend with 2 concurrent workers.\n",
            "[Parallel(n_jobs=2)]: Done   5 out of   5 | elapsed:    0.0s finished\n"
          ]
        }
      ],
      "source": [
        "y_pred_voting = voting_clfr.predict(dataset_hotels_test)"
      ]
    },
    {
      "cell_type": "code",
      "execution_count": null,
      "metadata": {
        "id": "ANh0AZifaxeI"
      },
      "outputs": [],
      "source": [
        "df_prediction_voting = pd.DataFrame(zip(dataset_hotels_test_id,y_pred_voting)).rename(columns={0: \"id\", 1: \"is_canceled\"})\n",
        "df_prediction_voting.to_csv('voting_prediction.csv', index=False)"
      ]
    },
    {
      "cell_type": "code",
      "source": [
        "dataset_hotels_test.to_csv('voting_test_processed.csv', index=False)\n",
        "dataset_hotels_train.to_csv('voting_train_processed.csv', index=False)"
      ],
      "metadata": {
        "id": "aTFIgFmNqJu-"
      },
      "execution_count": null,
      "outputs": []
    }
  ],
  "metadata": {
    "colab": {
      "provenance": []
    },
    "gpuClass": "standard",
    "kernelspec": {
      "display_name": "Python 3",
      "name": "python3"
    },
    "language_info": {
      "name": "python"
    }
  },
  "nbformat": 4,
  "nbformat_minor": 0
}