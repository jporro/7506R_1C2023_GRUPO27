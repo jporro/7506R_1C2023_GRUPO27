{
  "cells": [
    {
      "cell_type": "code",
      "execution_count": 1,
      "metadata": {
        "id": "mT5BSejalqmz"
      },
      "outputs": [],
      "source": [
        "#Datos\n",
        "import numpy as np\n",
        "import pandas as pd\n",
        "\n",
        "#Plots\n",
        "import matplotlib.pyplot as plt\n",
        "import seaborn as sns\n",
        "\n",
        "#Modelado\n",
        "from sklearn.model_selection import train_test_split\n",
        "from sklearn.neighbors import KNeighborsClassifier\n",
        "from sklearn.metrics import accuracy_score\n",
        "\n",
        "from sklearn.preprocessing import OneHotEncoder\n",
        "from sklearn.compose import ColumnTransformer"
      ]
    },
    {
      "cell_type": "code",
      "execution_count": 2,
      "metadata": {
        "id": "m4QeGiv3Ixpu"
      },
      "outputs": [],
      "source": [
        "df_test = pd.read_csv('https://github.com/joeldevel/data_tp1_odd/blob/main/hotels_test.csv?raw=true')\n",
        "df = pd.read_csv('https://github.com/joeldevel/data_tp1_odd/blob/main/hotels_train.csv?raw=true')"
      ]
    },
    {
      "cell_type": "code",
      "execution_count": 3,
      "metadata": {
        "id": "x2H_joWdPzi0"
      },
      "outputs": [],
      "source": [
        "df_test_id = df_test['id']"
      ]
    },
    {
      "cell_type": "code",
      "execution_count": 4,
      "metadata": {
        "id": "k16-G5CGszPh"
      },
      "outputs": [],
      "source": [
        "#Cargamos el dataset\n",
        "\n",
        "# df = pd.read_csv('hotels_train.csv')\n",
        "# df.head(5)"
      ]
    },
    {
      "cell_type": "code",
      "execution_count": 5,
      "metadata": {
        "id": "QUQ33xzzIefO"
      },
      "outputs": [],
      "source": [
        "# df_test = pd.read_csv('hotels_test.csv')"
      ]
    },
    {
      "cell_type": "markdown",
      "metadata": {
        "id": "YBSSz1sPam83"
      },
      "source": [
        "Limpiamos los valores faltantes (Ya sabemos cuales son las columnas con valores faltantes, asi que no es necesario mostrar todo de nuevo)"
      ]
    },
    {
      "cell_type": "code",
      "execution_count": 6,
      "metadata": {
        "id": "O7SPnkwWbGoM",
        "colab": {
          "base_uri": "https://localhost:8080/"
        },
        "outputId": "71f7cd78-fbb0-40a4-f2fb-106dee75d7f9"
      },
      "outputs": [
        {
          "output_type": "stream",
          "name": "stderr",
          "text": [
            "<ipython-input-6-6b64ca15953c>:2: SettingWithCopyWarning: \n",
            "A value is trying to be set on a copy of a slice from a DataFrame.\n",
            "Try using .loc[row_indexer,col_indexer] = value instead\n",
            "\n",
            "See the caveats in the documentation: https://pandas.pydata.org/pandas-docs/stable/user_guide/indexing.html#returning-a-view-versus-a-copy\n",
            "  df['country'] = df['country'].fillna('Unknown/Desconocido')\n",
            "<ipython-input-6-6b64ca15953c>:3: SettingWithCopyWarning: \n",
            "A value is trying to be set on a copy of a slice from a DataFrame.\n",
            "Try using .loc[row_indexer,col_indexer] = value instead\n",
            "\n",
            "See the caveats in the documentation: https://pandas.pydata.org/pandas-docs/stable/user_guide/indexing.html#returning-a-view-versus-a-copy\n",
            "  df['agent'] = df['agent'].fillna(0)\n",
            "<ipython-input-6-6b64ca15953c>:4: SettingWithCopyWarning: \n",
            "A value is trying to be set on a copy of a slice from a DataFrame.\n",
            "Try using .loc[row_indexer,col_indexer] = value instead\n",
            "\n",
            "See the caveats in the documentation: https://pandas.pydata.org/pandas-docs/stable/user_guide/indexing.html#returning-a-view-versus-a-copy\n",
            "  df['company'] = df['company'].fillna('Ninguno/None')\n"
          ]
        }
      ],
      "source": [
        "df = df.dropna(subset=['children'])\n",
        "df['country'] = df['country'].fillna('Unknown/Desconocido')\n",
        "df['agent'] = df['agent'].fillna(0)\n",
        "df['company'] = df['company'].fillna('Ninguno/None')"
      ]
    },
    {
      "cell_type": "markdown",
      "metadata": {
        "id": "HtX-z_FVItxh"
      },
      "source": [
        "Y lo mismo para el test: "
      ]
    },
    {
      "cell_type": "code",
      "execution_count": 7,
      "metadata": {
        "id": "jfzNy2QBPA0I"
      },
      "outputs": [],
      "source": [
        "def mostrar_nulos(nulos_por_columna):\n",
        "  # Ordena las columnas por cantidad de datos faltantes de menor a mayor\n",
        "  nulos_por_columna_ordenado = nulos_por_columna.sort_values(ascending=True)\n",
        "\n",
        "  print(\"La cantidad de datos faltante por cada columna del dataset es:\\n\\n\", nulos_por_columna_ordenado)"
      ]
    },
    {
      "cell_type": "code",
      "execution_count": 8,
      "metadata": {
        "id": "gNKey-ZgOhTf",
        "colab": {
          "base_uri": "https://localhost:8080/"
        },
        "outputId": "a9981df3-ae96-45ad-aae9-66bb26267e3a"
      },
      "outputs": [
        {
          "output_type": "stream",
          "name": "stdout",
          "text": [
            "La cantidad de datos faltante por cada columna del dataset es:\n",
            "\n",
            " hotel                                 0\n",
            "total_of_special_requests             0\n",
            "required_car_parking_spaces           0\n",
            "adr                                   0\n",
            "customer_type                         0\n",
            "days_in_waiting_list                  0\n",
            "deposit_type                          0\n",
            "booking_changes                       0\n",
            "assigned_room_type                    0\n",
            "reserved_room_type                    0\n",
            "previous_bookings_not_canceled        0\n",
            "previous_cancellations                0\n",
            "reservation_status_date               0\n",
            "distribution_channel                  0\n",
            "is_repeated_guest                     0\n",
            "meal                                  0\n",
            "babies                                0\n",
            "children                              0\n",
            "adults                                0\n",
            "stays_in_week_nights                  0\n",
            "stays_in_weekend_nights               0\n",
            "arrival_date_day_of_month             0\n",
            "arrival_date_week_number              0\n",
            "arrival_date_month                    0\n",
            "arrival_date_year                     0\n",
            "lead_time                             0\n",
            "market_segment                        0\n",
            "id                                    0\n",
            "country                              95\n",
            "agent                              3363\n",
            "company                           25218\n",
            "dtype: int64\n"
          ]
        }
      ],
      "source": [
        "nulos_por_columna_hotels = df_test.isna().sum()\n",
        "mostrar_nulos(nulos_por_columna_hotels)"
      ]
    },
    {
      "cell_type": "code",
      "execution_count": 9,
      "metadata": {
        "id": "wuzIEb6QPNUj"
      },
      "outputs": [],
      "source": [
        "df_test['country'] = df_test['country'].fillna('Unknown/Desconocido')\n",
        "df_test['agent'] = df_test['agent'].fillna(0)\n",
        "df_test['company'] = df_test['company'].fillna('Ninguno/None')"
      ]
    },
    {
      "cell_type": "markdown",
      "metadata": {
        "id": "aUxGB4WWQdKk"
      },
      "source": [
        "Elimino duplicados: "
      ]
    },
    {
      "cell_type": "code",
      "execution_count": 10,
      "metadata": {
        "id": "FcB96FIWQfuO"
      },
      "outputs": [],
      "source": [
        "df = df.drop_duplicates()\n",
        "df_test = df_test.drop_duplicates()"
      ]
    },
    {
      "cell_type": "markdown",
      "metadata": {
        "id": "majvhc-yb-xi"
      },
      "source": [
        "Veamos como quedó: "
      ]
    },
    {
      "cell_type": "code",
      "execution_count": 11,
      "metadata": {
        "id": "U9DXifWncAlV",
        "colab": {
          "base_uri": "https://localhost:8080/"
        },
        "outputId": "23857207-5d86-455a-f8ba-cdaac6dde9cf"
      },
      "outputs": [
        {
          "output_type": "execute_result",
          "data": {
            "text/plain": [
              "(61909, 32)"
            ]
          },
          "metadata": {},
          "execution_count": 11
        }
      ],
      "source": [
        "df.shape"
      ]
    },
    {
      "cell_type": "code",
      "execution_count": 12,
      "metadata": {
        "id": "2W-lpgO8Q3Tl",
        "colab": {
          "base_uri": "https://localhost:8080/"
        },
        "outputId": "75318996-4739-45fe-8db3-a4697a3477e4"
      },
      "outputs": [
        {
          "output_type": "execute_result",
          "data": {
            "text/plain": [
              "(26535, 31)"
            ]
          },
          "metadata": {},
          "execution_count": 12
        }
      ],
      "source": [
        "df_test.shape"
      ]
    },
    {
      "cell_type": "code",
      "execution_count": 13,
      "metadata": {
        "id": "eZYSS3Yte5Vi",
        "colab": {
          "base_uri": "https://localhost:8080/"
        },
        "outputId": "aad2ced6-a92b-46cf-9c6b-b322a0f331bb"
      },
      "outputs": [
        {
          "output_type": "execute_result",
          "data": {
            "text/plain": [
              "['hotel',\n",
              " 'lead_time',\n",
              " 'arrival_date_year',\n",
              " 'arrival_date_month',\n",
              " 'arrival_date_week_number',\n",
              " 'arrival_date_day_of_month',\n",
              " 'stays_in_weekend_nights',\n",
              " 'stays_in_week_nights',\n",
              " 'adults',\n",
              " 'children',\n",
              " 'babies',\n",
              " 'meal',\n",
              " 'country',\n",
              " 'market_segment',\n",
              " 'distribution_channel',\n",
              " 'is_repeated_guest',\n",
              " 'previous_cancellations',\n",
              " 'previous_bookings_not_canceled',\n",
              " 'reserved_room_type',\n",
              " 'assigned_room_type',\n",
              " 'booking_changes',\n",
              " 'deposit_type',\n",
              " 'agent',\n",
              " 'company',\n",
              " 'days_in_waiting_list',\n",
              " 'customer_type',\n",
              " 'adr',\n",
              " 'required_car_parking_spaces',\n",
              " 'total_of_special_requests',\n",
              " 'reservation_status_date',\n",
              " 'id',\n",
              " 'is_canceled']"
            ]
          },
          "metadata": {},
          "execution_count": 13
        }
      ],
      "source": [
        "df.columns.tolist()"
      ]
    },
    {
      "cell_type": "code",
      "execution_count": 14,
      "metadata": {
        "id": "tPsl3PXpfHfw",
        "colab": {
          "base_uri": "https://localhost:8080/",
          "height": 991
        },
        "outputId": "c274e22f-aa40-409b-864f-18fa7ccb7e09"
      },
      "outputs": [
        {
          "output_type": "execute_result",
          "data": {
            "text/plain": [
              "              hotel  lead_time  arrival_date_year arrival_date_month  \\\n",
              "0        City Hotel         49               2016          September   \n",
              "1      Resort Hotel          4               2015            October   \n",
              "2        City Hotel         25               2016            October   \n",
              "3        City Hotel         26               2016           December   \n",
              "4        City Hotel        104               2017              March   \n",
              "...             ...        ...                ...                ...   \n",
              "61908  Resort Hotel         24               2017            January   \n",
              "61909    City Hotel          0               2016          September   \n",
              "61910    City Hotel         10               2017                May   \n",
              "61911  Resort Hotel        143               2015            October   \n",
              "61912    City Hotel         57               2016              April   \n",
              "\n",
              "       arrival_date_week_number  arrival_date_day_of_month  \\\n",
              "0                            37                          5   \n",
              "1                            44                         31   \n",
              "2                            42                         13   \n",
              "3                            51                         12   \n",
              "4                            12                         19   \n",
              "...                         ...                        ...   \n",
              "61908                         4                         27   \n",
              "61909                        36                          2   \n",
              "61910                        19                          8   \n",
              "61911                        41                         10   \n",
              "61912                        17                         17   \n",
              "\n",
              "       stays_in_weekend_nights  stays_in_week_nights  adults  children  ...  \\\n",
              "0                            1                     2       1       0.0  ...   \n",
              "1                            0                     1       2       0.0  ...   \n",
              "2                            0                     1       2       2.0  ...   \n",
              "3                            2                     5       2       0.0  ...   \n",
              "4                            2                     5       2       0.0  ...   \n",
              "...                        ...                   ...     ...       ...  ...   \n",
              "61908                        0                     2       2       0.0  ...   \n",
              "61909                        0                     1       1       0.0  ...   \n",
              "61910                        1                     2       1       0.0  ...   \n",
              "61911                        2                     5       2       0.0  ...   \n",
              "61912                        2                     5       2       0.0  ...   \n",
              "\n",
              "       agent       company days_in_waiting_list    customer_type     adr  \\\n",
              "0        9.0  Ninguno/None                    0        Transient  115.50   \n",
              "1        0.0  Ninguno/None                    0        Transient   42.00   \n",
              "2        9.0  Ninguno/None                    0        Transient  229.00   \n",
              "3      154.0  Ninguno/None                    0        Transient   75.00   \n",
              "4       20.0  Ninguno/None                    0  Transient-Party   75.00   \n",
              "...      ...           ...                  ...              ...     ...   \n",
              "61908  240.0  Ninguno/None                    0        Transient   48.00   \n",
              "61909    0.0  Ninguno/None                    0        Transient  149.00   \n",
              "61910    0.0         153.0                    0        Transient   95.00   \n",
              "61911   96.0  Ninguno/None                    0        Transient   36.05   \n",
              "61912    9.0  Ninguno/None                    0        Transient  143.29   \n",
              "\n",
              "       required_car_parking_spaces  total_of_special_requests  \\\n",
              "0                                0                          1   \n",
              "1                                1                          0   \n",
              "2                                0                          2   \n",
              "3                                0                          0   \n",
              "4                                0                          1   \n",
              "...                            ...                        ...   \n",
              "61908                            0                          1   \n",
              "61909                            0                          0   \n",
              "61910                            0                          0   \n",
              "61911                            0                          0   \n",
              "61912                            0                          0   \n",
              "\n",
              "       reservation_status_date                                    id  \\\n",
              "0                   2016-08-25  7aa4cc6b-b92c-4061-b21d-4f9e0cac4689   \n",
              "1                   2015-11-01  b1428f80-c56c-4ae4-91a9-6962edae08b1   \n",
              "2                   2016-10-14  2226c018-ea20-4c4e-8f71-ea66aee70d7c   \n",
              "3                   2016-11-29  314f56dc-2e4d-4298-9bdd-27bb008bffff   \n",
              "4                   2017-03-26  28c75445-c603-413a-babf-ad377018b592   \n",
              "...                        ...                                   ...   \n",
              "61908               2017-01-23  32bffef5-5404-4e86-9f39-fd2282e1ad7f   \n",
              "61909               2016-09-03  cc922a1c-356e-42a5-a984-0b1af03c2f5c   \n",
              "61910               2017-05-11  76fb0e83-59df-43ee-9c33-aec51030ed45   \n",
              "61911               2015-07-08  01906859-1094-4e37-b13e-b015b594d159   \n",
              "61912               2016-04-09  7137e599-4442-41fb-b147-4aba9f344e38   \n",
              "\n",
              "      is_canceled  \n",
              "0               1  \n",
              "1               0  \n",
              "2               0  \n",
              "3               1  \n",
              "4               0  \n",
              "...           ...  \n",
              "61908           1  \n",
              "61909           0  \n",
              "61910           0  \n",
              "61911           1  \n",
              "61912           1  \n",
              "\n",
              "[61909 rows x 32 columns]"
            ],
            "text/html": [
              "\n",
              "  <div id=\"df-2def6d98-018d-433e-ac84-c173ea8486d2\">\n",
              "    <div class=\"colab-df-container\">\n",
              "      <div>\n",
              "<style scoped>\n",
              "    .dataframe tbody tr th:only-of-type {\n",
              "        vertical-align: middle;\n",
              "    }\n",
              "\n",
              "    .dataframe tbody tr th {\n",
              "        vertical-align: top;\n",
              "    }\n",
              "\n",
              "    .dataframe thead th {\n",
              "        text-align: right;\n",
              "    }\n",
              "</style>\n",
              "<table border=\"1\" class=\"dataframe\">\n",
              "  <thead>\n",
              "    <tr style=\"text-align: right;\">\n",
              "      <th></th>\n",
              "      <th>hotel</th>\n",
              "      <th>lead_time</th>\n",
              "      <th>arrival_date_year</th>\n",
              "      <th>arrival_date_month</th>\n",
              "      <th>arrival_date_week_number</th>\n",
              "      <th>arrival_date_day_of_month</th>\n",
              "      <th>stays_in_weekend_nights</th>\n",
              "      <th>stays_in_week_nights</th>\n",
              "      <th>adults</th>\n",
              "      <th>children</th>\n",
              "      <th>...</th>\n",
              "      <th>agent</th>\n",
              "      <th>company</th>\n",
              "      <th>days_in_waiting_list</th>\n",
              "      <th>customer_type</th>\n",
              "      <th>adr</th>\n",
              "      <th>required_car_parking_spaces</th>\n",
              "      <th>total_of_special_requests</th>\n",
              "      <th>reservation_status_date</th>\n",
              "      <th>id</th>\n",
              "      <th>is_canceled</th>\n",
              "    </tr>\n",
              "  </thead>\n",
              "  <tbody>\n",
              "    <tr>\n",
              "      <th>0</th>\n",
              "      <td>City Hotel</td>\n",
              "      <td>49</td>\n",
              "      <td>2016</td>\n",
              "      <td>September</td>\n",
              "      <td>37</td>\n",
              "      <td>5</td>\n",
              "      <td>1</td>\n",
              "      <td>2</td>\n",
              "      <td>1</td>\n",
              "      <td>0.0</td>\n",
              "      <td>...</td>\n",
              "      <td>9.0</td>\n",
              "      <td>Ninguno/None</td>\n",
              "      <td>0</td>\n",
              "      <td>Transient</td>\n",
              "      <td>115.50</td>\n",
              "      <td>0</td>\n",
              "      <td>1</td>\n",
              "      <td>2016-08-25</td>\n",
              "      <td>7aa4cc6b-b92c-4061-b21d-4f9e0cac4689</td>\n",
              "      <td>1</td>\n",
              "    </tr>\n",
              "    <tr>\n",
              "      <th>1</th>\n",
              "      <td>Resort Hotel</td>\n",
              "      <td>4</td>\n",
              "      <td>2015</td>\n",
              "      <td>October</td>\n",
              "      <td>44</td>\n",
              "      <td>31</td>\n",
              "      <td>0</td>\n",
              "      <td>1</td>\n",
              "      <td>2</td>\n",
              "      <td>0.0</td>\n",
              "      <td>...</td>\n",
              "      <td>0.0</td>\n",
              "      <td>Ninguno/None</td>\n",
              "      <td>0</td>\n",
              "      <td>Transient</td>\n",
              "      <td>42.00</td>\n",
              "      <td>1</td>\n",
              "      <td>0</td>\n",
              "      <td>2015-11-01</td>\n",
              "      <td>b1428f80-c56c-4ae4-91a9-6962edae08b1</td>\n",
              "      <td>0</td>\n",
              "    </tr>\n",
              "    <tr>\n",
              "      <th>2</th>\n",
              "      <td>City Hotel</td>\n",
              "      <td>25</td>\n",
              "      <td>2016</td>\n",
              "      <td>October</td>\n",
              "      <td>42</td>\n",
              "      <td>13</td>\n",
              "      <td>0</td>\n",
              "      <td>1</td>\n",
              "      <td>2</td>\n",
              "      <td>2.0</td>\n",
              "      <td>...</td>\n",
              "      <td>9.0</td>\n",
              "      <td>Ninguno/None</td>\n",
              "      <td>0</td>\n",
              "      <td>Transient</td>\n",
              "      <td>229.00</td>\n",
              "      <td>0</td>\n",
              "      <td>2</td>\n",
              "      <td>2016-10-14</td>\n",
              "      <td>2226c018-ea20-4c4e-8f71-ea66aee70d7c</td>\n",
              "      <td>0</td>\n",
              "    </tr>\n",
              "    <tr>\n",
              "      <th>3</th>\n",
              "      <td>City Hotel</td>\n",
              "      <td>26</td>\n",
              "      <td>2016</td>\n",
              "      <td>December</td>\n",
              "      <td>51</td>\n",
              "      <td>12</td>\n",
              "      <td>2</td>\n",
              "      <td>5</td>\n",
              "      <td>2</td>\n",
              "      <td>0.0</td>\n",
              "      <td>...</td>\n",
              "      <td>154.0</td>\n",
              "      <td>Ninguno/None</td>\n",
              "      <td>0</td>\n",
              "      <td>Transient</td>\n",
              "      <td>75.00</td>\n",
              "      <td>0</td>\n",
              "      <td>0</td>\n",
              "      <td>2016-11-29</td>\n",
              "      <td>314f56dc-2e4d-4298-9bdd-27bb008bffff</td>\n",
              "      <td>1</td>\n",
              "    </tr>\n",
              "    <tr>\n",
              "      <th>4</th>\n",
              "      <td>City Hotel</td>\n",
              "      <td>104</td>\n",
              "      <td>2017</td>\n",
              "      <td>March</td>\n",
              "      <td>12</td>\n",
              "      <td>19</td>\n",
              "      <td>2</td>\n",
              "      <td>5</td>\n",
              "      <td>2</td>\n",
              "      <td>0.0</td>\n",
              "      <td>...</td>\n",
              "      <td>20.0</td>\n",
              "      <td>Ninguno/None</td>\n",
              "      <td>0</td>\n",
              "      <td>Transient-Party</td>\n",
              "      <td>75.00</td>\n",
              "      <td>0</td>\n",
              "      <td>1</td>\n",
              "      <td>2017-03-26</td>\n",
              "      <td>28c75445-c603-413a-babf-ad377018b592</td>\n",
              "      <td>0</td>\n",
              "    </tr>\n",
              "    <tr>\n",
              "      <th>...</th>\n",
              "      <td>...</td>\n",
              "      <td>...</td>\n",
              "      <td>...</td>\n",
              "      <td>...</td>\n",
              "      <td>...</td>\n",
              "      <td>...</td>\n",
              "      <td>...</td>\n",
              "      <td>...</td>\n",
              "      <td>...</td>\n",
              "      <td>...</td>\n",
              "      <td>...</td>\n",
              "      <td>...</td>\n",
              "      <td>...</td>\n",
              "      <td>...</td>\n",
              "      <td>...</td>\n",
              "      <td>...</td>\n",
              "      <td>...</td>\n",
              "      <td>...</td>\n",
              "      <td>...</td>\n",
              "      <td>...</td>\n",
              "      <td>...</td>\n",
              "    </tr>\n",
              "    <tr>\n",
              "      <th>61908</th>\n",
              "      <td>Resort Hotel</td>\n",
              "      <td>24</td>\n",
              "      <td>2017</td>\n",
              "      <td>January</td>\n",
              "      <td>4</td>\n",
              "      <td>27</td>\n",
              "      <td>0</td>\n",
              "      <td>2</td>\n",
              "      <td>2</td>\n",
              "      <td>0.0</td>\n",
              "      <td>...</td>\n",
              "      <td>240.0</td>\n",
              "      <td>Ninguno/None</td>\n",
              "      <td>0</td>\n",
              "      <td>Transient</td>\n",
              "      <td>48.00</td>\n",
              "      <td>0</td>\n",
              "      <td>1</td>\n",
              "      <td>2017-01-23</td>\n",
              "      <td>32bffef5-5404-4e86-9f39-fd2282e1ad7f</td>\n",
              "      <td>1</td>\n",
              "    </tr>\n",
              "    <tr>\n",
              "      <th>61909</th>\n",
              "      <td>City Hotel</td>\n",
              "      <td>0</td>\n",
              "      <td>2016</td>\n",
              "      <td>September</td>\n",
              "      <td>36</td>\n",
              "      <td>2</td>\n",
              "      <td>0</td>\n",
              "      <td>1</td>\n",
              "      <td>1</td>\n",
              "      <td>0.0</td>\n",
              "      <td>...</td>\n",
              "      <td>0.0</td>\n",
              "      <td>Ninguno/None</td>\n",
              "      <td>0</td>\n",
              "      <td>Transient</td>\n",
              "      <td>149.00</td>\n",
              "      <td>0</td>\n",
              "      <td>0</td>\n",
              "      <td>2016-09-03</td>\n",
              "      <td>cc922a1c-356e-42a5-a984-0b1af03c2f5c</td>\n",
              "      <td>0</td>\n",
              "    </tr>\n",
              "    <tr>\n",
              "      <th>61910</th>\n",
              "      <td>City Hotel</td>\n",
              "      <td>10</td>\n",
              "      <td>2017</td>\n",
              "      <td>May</td>\n",
              "      <td>19</td>\n",
              "      <td>8</td>\n",
              "      <td>1</td>\n",
              "      <td>2</td>\n",
              "      <td>1</td>\n",
              "      <td>0.0</td>\n",
              "      <td>...</td>\n",
              "      <td>0.0</td>\n",
              "      <td>153.0</td>\n",
              "      <td>0</td>\n",
              "      <td>Transient</td>\n",
              "      <td>95.00</td>\n",
              "      <td>0</td>\n",
              "      <td>0</td>\n",
              "      <td>2017-05-11</td>\n",
              "      <td>76fb0e83-59df-43ee-9c33-aec51030ed45</td>\n",
              "      <td>0</td>\n",
              "    </tr>\n",
              "    <tr>\n",
              "      <th>61911</th>\n",
              "      <td>Resort Hotel</td>\n",
              "      <td>143</td>\n",
              "      <td>2015</td>\n",
              "      <td>October</td>\n",
              "      <td>41</td>\n",
              "      <td>10</td>\n",
              "      <td>2</td>\n",
              "      <td>5</td>\n",
              "      <td>2</td>\n",
              "      <td>0.0</td>\n",
              "      <td>...</td>\n",
              "      <td>96.0</td>\n",
              "      <td>Ninguno/None</td>\n",
              "      <td>0</td>\n",
              "      <td>Transient</td>\n",
              "      <td>36.05</td>\n",
              "      <td>0</td>\n",
              "      <td>0</td>\n",
              "      <td>2015-07-08</td>\n",
              "      <td>01906859-1094-4e37-b13e-b015b594d159</td>\n",
              "      <td>1</td>\n",
              "    </tr>\n",
              "    <tr>\n",
              "      <th>61912</th>\n",
              "      <td>City Hotel</td>\n",
              "      <td>57</td>\n",
              "      <td>2016</td>\n",
              "      <td>April</td>\n",
              "      <td>17</td>\n",
              "      <td>17</td>\n",
              "      <td>2</td>\n",
              "      <td>5</td>\n",
              "      <td>2</td>\n",
              "      <td>0.0</td>\n",
              "      <td>...</td>\n",
              "      <td>9.0</td>\n",
              "      <td>Ninguno/None</td>\n",
              "      <td>0</td>\n",
              "      <td>Transient</td>\n",
              "      <td>143.29</td>\n",
              "      <td>0</td>\n",
              "      <td>0</td>\n",
              "      <td>2016-04-09</td>\n",
              "      <td>7137e599-4442-41fb-b147-4aba9f344e38</td>\n",
              "      <td>1</td>\n",
              "    </tr>\n",
              "  </tbody>\n",
              "</table>\n",
              "<p>61909 rows × 32 columns</p>\n",
              "</div>\n",
              "      <button class=\"colab-df-convert\" onclick=\"convertToInteractive('df-2def6d98-018d-433e-ac84-c173ea8486d2')\"\n",
              "              title=\"Convert this dataframe to an interactive table.\"\n",
              "              style=\"display:none;\">\n",
              "        \n",
              "  <svg xmlns=\"http://www.w3.org/2000/svg\" height=\"24px\"viewBox=\"0 0 24 24\"\n",
              "       width=\"24px\">\n",
              "    <path d=\"M0 0h24v24H0V0z\" fill=\"none\"/>\n",
              "    <path d=\"M18.56 5.44l.94 2.06.94-2.06 2.06-.94-2.06-.94-.94-2.06-.94 2.06-2.06.94zm-11 1L8.5 8.5l.94-2.06 2.06-.94-2.06-.94L8.5 2.5l-.94 2.06-2.06.94zm10 10l.94 2.06.94-2.06 2.06-.94-2.06-.94-.94-2.06-.94 2.06-2.06.94z\"/><path d=\"M17.41 7.96l-1.37-1.37c-.4-.4-.92-.59-1.43-.59-.52 0-1.04.2-1.43.59L10.3 9.45l-7.72 7.72c-.78.78-.78 2.05 0 2.83L4 21.41c.39.39.9.59 1.41.59.51 0 1.02-.2 1.41-.59l7.78-7.78 2.81-2.81c.8-.78.8-2.07 0-2.86zM5.41 20L4 18.59l7.72-7.72 1.47 1.35L5.41 20z\"/>\n",
              "  </svg>\n",
              "      </button>\n",
              "      \n",
              "  <style>\n",
              "    .colab-df-container {\n",
              "      display:flex;\n",
              "      flex-wrap:wrap;\n",
              "      gap: 12px;\n",
              "    }\n",
              "\n",
              "    .colab-df-convert {\n",
              "      background-color: #E8F0FE;\n",
              "      border: none;\n",
              "      border-radius: 50%;\n",
              "      cursor: pointer;\n",
              "      display: none;\n",
              "      fill: #1967D2;\n",
              "      height: 32px;\n",
              "      padding: 0 0 0 0;\n",
              "      width: 32px;\n",
              "    }\n",
              "\n",
              "    .colab-df-convert:hover {\n",
              "      background-color: #E2EBFA;\n",
              "      box-shadow: 0px 1px 2px rgba(60, 64, 67, 0.3), 0px 1px 3px 1px rgba(60, 64, 67, 0.15);\n",
              "      fill: #174EA6;\n",
              "    }\n",
              "\n",
              "    [theme=dark] .colab-df-convert {\n",
              "      background-color: #3B4455;\n",
              "      fill: #D2E3FC;\n",
              "    }\n",
              "\n",
              "    [theme=dark] .colab-df-convert:hover {\n",
              "      background-color: #434B5C;\n",
              "      box-shadow: 0px 1px 3px 1px rgba(0, 0, 0, 0.15);\n",
              "      filter: drop-shadow(0px 1px 2px rgba(0, 0, 0, 0.3));\n",
              "      fill: #FFFFFF;\n",
              "    }\n",
              "  </style>\n",
              "\n",
              "      <script>\n",
              "        const buttonEl =\n",
              "          document.querySelector('#df-2def6d98-018d-433e-ac84-c173ea8486d2 button.colab-df-convert');\n",
              "        buttonEl.style.display =\n",
              "          google.colab.kernel.accessAllowed ? 'block' : 'none';\n",
              "\n",
              "        async function convertToInteractive(key) {\n",
              "          const element = document.querySelector('#df-2def6d98-018d-433e-ac84-c173ea8486d2');\n",
              "          const dataTable =\n",
              "            await google.colab.kernel.invokeFunction('convertToInteractive',\n",
              "                                                     [key], {});\n",
              "          if (!dataTable) return;\n",
              "\n",
              "          const docLinkHtml = 'Like what you see? Visit the ' +\n",
              "            '<a target=\"_blank\" href=https://colab.research.google.com/notebooks/data_table.ipynb>data table notebook</a>'\n",
              "            + ' to learn more about interactive tables.';\n",
              "          element.innerHTML = '';\n",
              "          dataTable['output_type'] = 'display_data';\n",
              "          await google.colab.output.renderOutput(dataTable, element);\n",
              "          const docLink = document.createElement('div');\n",
              "          docLink.innerHTML = docLinkHtml;\n",
              "          element.appendChild(docLink);\n",
              "        }\n",
              "      </script>\n",
              "    </div>\n",
              "  </div>\n",
              "  "
            ]
          },
          "metadata": {},
          "execution_count": 14
        }
      ],
      "source": [
        "df"
      ]
    },
    {
      "cell_type": "markdown",
      "metadata": {
        "id": "Q5sGjgf-e6KH"
      },
      "source": [
        "El objetivo es convertir todas las variables categóricas en numéricas y que la unica variable que quede es is_canceled ya que es la variable a predecir."
      ]
    },
    {
      "cell_type": "code",
      "execution_count": 15,
      "metadata": {
        "id": "v2hV_E2tfKrf"
      },
      "outputs": [],
      "source": [
        "df_aux = df.copy()\n"
      ]
    },
    {
      "cell_type": "markdown",
      "metadata": {
        "id": "qexMkPfjvjrj"
      },
      "source": [
        "Modificamos 'arrival_date_month': "
      ]
    },
    {
      "cell_type": "code",
      "execution_count": 16,
      "metadata": {
        "id": "1lXHIS6lvyD9"
      },
      "outputs": [],
      "source": [
        "df_test['arrival_date_month'] = pd.Categorical(df_test['arrival_date_month']).codes\n",
        "\n",
        "df_aux['arrival_date_month'] = pd.Categorical(df_aux['arrival_date_month']).codes"
      ]
    },
    {
      "cell_type": "markdown",
      "metadata": {
        "id": "Jc6Xik3E0AIp"
      },
      "source": [
        "Realizamos one hot encoding para la variable hotel:"
      ]
    },
    {
      "cell_type": "code",
      "execution_count": 17,
      "metadata": {
        "id": "Tn1Rfiu-zZt8"
      },
      "outputs": [],
      "source": [
        "df_aux = pd.concat([df_aux, pd.get_dummies(df_aux['hotel'], drop_first=True )], axis=1)\n",
        "df_aux.drop(['hotel'], axis='columns', inplace=True) \n"
      ]
    },
    {
      "cell_type": "code",
      "execution_count": 18,
      "metadata": {
        "id": "g39-C9tTThGS"
      },
      "outputs": [],
      "source": [
        "df_test = pd.concat([df_test, pd.get_dummies(df_test['hotel'], drop_first=True )], axis=1)\n",
        "df_test.drop(['hotel'], axis='columns', inplace=True) "
      ]
    },
    {
      "cell_type": "markdown",
      "metadata": {
        "id": "wp2uOs2v7tsx"
      },
      "source": [
        "Genero One hot Encodig para la variable market_segment:"
      ]
    },
    {
      "cell_type": "code",
      "execution_count": 19,
      "metadata": {
        "id": "8ZhWc9p7UoVM",
        "colab": {
          "base_uri": "https://localhost:8080/"
        },
        "outputId": "2fee6855-5aed-45d7-b655-5e6fe90e1569"
      },
      "outputs": [
        {
          "output_type": "execute_result",
          "data": {
            "text/plain": [
              "['Online TA', 'Offline TA/TO', 'Groups', 'Direct', 'Corporate']"
            ]
          },
          "metadata": {},
          "execution_count": 19
        }
      ],
      "source": [
        "lista_market_segment_mayoritarios = df_aux['market_segment'].value_counts().nlargest(5).index.tolist()\n",
        "lista_market_segment_mayoritarios"
      ]
    },
    {
      "cell_type": "code",
      "execution_count": 20,
      "metadata": {
        "id": "MFC1ufB_7v2Y"
      },
      "outputs": [],
      "source": [
        "df_aux['market_segment'] = pd.Series(np.where(~df_aux['market_segment'].isin(lista_market_segment_mayoritarios), 'otro market', df_aux['market_segment']))\n",
        "df_aux = pd.concat([df_aux, pd.get_dummies(df_aux['market_segment'], drop_first=True )], axis=1)\n",
        "df_aux.drop(['market_segment'], axis='columns', inplace=True)"
      ]
    },
    {
      "cell_type": "code",
      "execution_count": 21,
      "metadata": {
        "id": "1aHdeoIiUs0v"
      },
      "outputs": [],
      "source": [
        "df_test['market_segment'] = pd.Series(np.where(~df_test['market_segment'].isin(lista_market_segment_mayoritarios), 'otro market', df_test['market_segment']))\n",
        "df_test = pd.concat([df_test, pd.get_dummies(df_test['market_segment'], drop_first=True )], axis=1)\n",
        "df_test.drop(['market_segment'], axis='columns', inplace=True)"
      ]
    },
    {
      "cell_type": "markdown",
      "metadata": {
        "id": "tQQPgZ5B-tU0"
      },
      "source": [
        "Genero One hot Encodig para la variable distribution_channel: "
      ]
    },
    {
      "cell_type": "code",
      "execution_count": 22,
      "metadata": {
        "id": "WRtb4Bfi-uzM"
      },
      "outputs": [],
      "source": [
        "df_aux['distribution_channel']= df_aux['distribution_channel'].replace('Direct','direct_channel')\n",
        "df_test['distribution_channel']= df_test['distribution_channel'].replace('Direct','direct_channel')"
      ]
    },
    {
      "cell_type": "code",
      "execution_count": 23,
      "metadata": {
        "id": "JyC2WmSOfO8C"
      },
      "outputs": [],
      "source": [
        "lista_distribution_channel_mayoritarios = df_aux['distribution_channel'].value_counts().nlargest(3).index.tolist()\n",
        "lista_distribution_channel_mayoritarios\n",
        "df_aux['distribution_channel'] = pd.Series(np.where(~df_aux['distribution_channel'].isin(lista_distribution_channel_mayoritarios), 'otro distribution channel', df_aux['distribution_channel']))\n",
        "df_aux = pd.concat([df_aux, pd.get_dummies(df_aux['distribution_channel'], drop_first=True )], axis=1)\n",
        "df_aux.drop(['distribution_channel'], axis='columns', inplace=True)\n",
        "df_test['distribution_channel'] = pd.Series(np.where(~df_test['distribution_channel'].isin(lista_distribution_channel_mayoritarios), 'otro distribution channel', df_test['distribution_channel']))\n",
        "df_test = pd.concat([df_test, pd.get_dummies(df_test['distribution_channel'], drop_first=True )], axis=1)\n",
        "df_test.drop(['distribution_channel'], axis='columns', inplace=True)"
      ]
    },
    {
      "cell_type": "code",
      "execution_count": 24,
      "metadata": {
        "id": "NMRzTFAagxEz",
        "colab": {
          "base_uri": "https://localhost:8080/"
        },
        "outputId": "d3628c96-fb35-4537-cb3d-206ce8dcc5da"
      },
      "outputs": [
        {
          "output_type": "execute_result",
          "data": {
            "text/plain": [
              "0        D\n",
              "1        A\n",
              "2        F\n",
              "3        A\n",
              "4        A\n",
              "        ..\n",
              "61908    A\n",
              "61909    A\n",
              "61910    A\n",
              "61911    A\n",
              "61912    D\n",
              "Name: reserved_room_type, Length: 61909, dtype: object"
            ]
          },
          "metadata": {},
          "execution_count": 24
        }
      ],
      "source": [
        "df_aux['reserved_room_type']"
      ]
    },
    {
      "cell_type": "markdown",
      "metadata": {
        "id": "7GsywmdGgX5d"
      },
      "source": [
        "Genero One Hot Encodig para la variable assigned_room_type"
      ]
    },
    {
      "cell_type": "code",
      "execution_count": 25,
      "metadata": {
        "id": "TwnrkbQ1NBKI",
        "colab": {
          "base_uri": "https://localhost:8080/"
        },
        "outputId": "638e26ec-a2dc-4ff9-d2b2-6a4a79e74110"
      },
      "outputs": [
        {
          "output_type": "execute_result",
          "data": {
            "text/plain": [
              "A    40007\n",
              "D    12190\n",
              "E     3779\n",
              "F     1821\n",
              "G     1277\n",
              "C     1127\n",
              "B     1052\n",
              "H      384\n",
              "I      145\n",
              "K      119\n",
              "P        7\n",
              "L        1\n",
              "Name: assigned_room_type, dtype: int64"
            ]
          },
          "metadata": {},
          "execution_count": 25
        }
      ],
      "source": [
        "df_aux['assigned_room_type'].value_counts()"
      ]
    },
    {
      "cell_type": "code",
      "execution_count": 26,
      "metadata": {
        "id": "F9dJNz1zNJvF",
        "colab": {
          "base_uri": "https://localhost:8080/"
        },
        "outputId": "5f5ca65f-d386-47c5-b100-ad5adf917177"
      },
      "outputs": [
        {
          "output_type": "execute_result",
          "data": {
            "text/plain": [
              "A    17218\n",
              "D     5316\n",
              "E     1576\n",
              "F      764\n",
              "G      517\n",
              "C      445\n",
              "B      439\n",
              "H      135\n",
              "I       66\n",
              "K       54\n",
              "P        5\n",
              "Name: assigned_room_type, dtype: int64"
            ]
          },
          "metadata": {},
          "execution_count": 26
        }
      ],
      "source": [
        "df_test['assigned_room_type'].value_counts()"
      ]
    },
    {
      "cell_type": "code",
      "execution_count": 27,
      "metadata": {
        "id": "5-rpdRxdNVvR"
      },
      "outputs": [],
      "source": [
        "lista_room_mayoritarios = df_aux['assigned_room_type'].value_counts().nlargest(3).index.tolist()\n",
        "lista_room_mayoritarios\n",
        "df_aux['assigned_room_type'] = pd.Series(np.where(~df_aux['assigned_room_type'].isin(lista_room_mayoritarios), 'room minoritarios', df_aux['assigned_room_type']))\n",
        "df_aux = pd.concat([df_aux, pd.get_dummies(df_aux['assigned_room_type'], drop_first=True )], axis=1)\n",
        "df_aux.drop(['assigned_room_type'], axis='columns', inplace=True)\n",
        "df_test['assigned_room_type'] = pd.Series(np.where(~df_test['assigned_room_type'].isin(lista_room_mayoritarios), 'room minoritarios', df_test['assigned_room_type']))\n",
        "df_test = pd.concat([df_test, pd.get_dummies(df_test['assigned_room_type'], drop_first=True )], axis=1)\n",
        "df_test.drop(['assigned_room_type'], axis='columns', inplace=True)"
      ]
    },
    {
      "cell_type": "code",
      "execution_count": 28,
      "metadata": {
        "id": "JK7lxY6EhFPn"
      },
      "outputs": [],
      "source": [
        "# df_aux = pd.concat([df_aux, pd.get_dummies(df_aux['assigned_room_type'], drop_first=True )], axis=1)\n",
        "# df_aux.drop(['assigned_room_type'], axis='columns', inplace=True) \n",
        "\n",
        "# df_test = pd.concat([df_test, pd.get_dummies(df_test['assigned_room_type'], drop_first=True )], axis=1)\n",
        "# df_test.drop(['assigned_room_type'], axis='columns', inplace=True) "
      ]
    },
    {
      "cell_type": "markdown",
      "metadata": {
        "id": "FO0B0kWtijIE"
      },
      "source": [
        "Genero One Hot Encoding para la variable deposit_type:"
      ]
    },
    {
      "cell_type": "code",
      "execution_count": 29,
      "metadata": {
        "id": "EhcROCX7iXuZ"
      },
      "outputs": [],
      "source": [
        "df_aux = pd.concat([df_aux, pd.get_dummies(df_aux['deposit_type'], drop_first=True )], axis=1)\n",
        "df_aux.drop(['deposit_type'], axis='columns', inplace=True) \n",
        "\n",
        "df_test = pd.concat([df_test, pd.get_dummies(df_test['deposit_type'], drop_first=True )], axis=1)\n",
        "df_test.drop(['deposit_type'], axis='columns', inplace=True) "
      ]
    },
    {
      "cell_type": "markdown",
      "metadata": {
        "id": "-rUBsmjwjBG_"
      },
      "source": [
        "Genero One Hot Encoding para la variable custome_type:  "
      ]
    },
    {
      "cell_type": "code",
      "execution_count": 30,
      "metadata": {
        "id": "j8cZFPRtjNMi"
      },
      "outputs": [],
      "source": [
        "df_aux = pd.concat([df_aux, pd.get_dummies(df_aux['customer_type'], drop_first=True )], axis=1)\n",
        "df_aux.drop(['customer_type'], axis='columns', inplace=True) \n",
        "\n",
        "df_test = pd.concat([df_test, pd.get_dummies(df_test['customer_type'], drop_first=True )], axis=1)\n",
        "df_test.drop(['customer_type'], axis='columns', inplace=True) "
      ]
    },
    {
      "cell_type": "markdown",
      "metadata": {
        "id": "Idnpo77XjoP9"
      },
      "source": [
        "Genero One Hot Encoding para la variable agent: "
      ]
    },
    {
      "cell_type": "code",
      "execution_count": 31,
      "metadata": {
        "id": "Bz4K1M_hj1TO",
        "colab": {
          "base_uri": "https://localhost:8080/"
        },
        "outputId": "91e0fbeb-f04d-470b-8f76-c248a18c1d42"
      },
      "outputs": [
        {
          "output_type": "execute_result",
          "data": {
            "text/plain": [
              "[9.0, 0.0, 240.0, 1.0, 14.0, 6.0, 7.0, 250.0, 241.0]"
            ]
          },
          "metadata": {},
          "execution_count": 31
        }
      ],
      "source": [
        "lista_agent_mayoritarios = df_aux['agent'].value_counts().nlargest(9).index.tolist()\n",
        "lista_agent_mayoritarios"
      ]
    },
    {
      "cell_type": "code",
      "execution_count": 32,
      "metadata": {
        "id": "-bwdQCywj6iE"
      },
      "outputs": [],
      "source": [
        "df_aux['agent'] = pd.Series(np.where(~df_aux['agent'].isin(lista_agent_mayoritarios), 'otra agencia', df_aux['agent']))\n",
        "df_aux = pd.concat([df_aux, pd.get_dummies(df_aux['agent'], drop_first=True )], axis=1)\n",
        "df_aux.drop(['agent'], axis='columns', inplace=True) \n",
        "\n",
        "df_test['agent'] = pd.Series(np.where(~df_test['agent'].isin(lista_agent_mayoritarios), 'otra agencia', df_test['agent']))\n",
        "df_test = pd.concat([df_test, pd.get_dummies(df_test['agent'], drop_first=True )], axis=1)\n",
        "df_test.drop(['agent'], axis='columns', inplace=True) "
      ]
    },
    {
      "cell_type": "markdown",
      "metadata": {
        "id": "mbKF7Qh6lzfG"
      },
      "source": [
        "Genero One Hot Enconding para la variable company:"
      ]
    },
    {
      "cell_type": "code",
      "execution_count": 33,
      "metadata": {
        "id": "bE0bVGI4l_hb",
        "colab": {
          "base_uri": "https://localhost:8080/"
        },
        "outputId": "765fd992-abc6-4739-b4a8-175c213f502b"
      },
      "outputs": [
        {
          "output_type": "execute_result",
          "data": {
            "text/plain": [
              "['Ninguno/None']"
            ]
          },
          "metadata": {},
          "execution_count": 33
        }
      ],
      "source": [
        "lista_company_mayoritarios = df_aux['company'].value_counts().nlargest(1).index.tolist()\n",
        "lista_company_mayoritarios"
      ]
    },
    {
      "cell_type": "code",
      "execution_count": 34,
      "metadata": {
        "id": "rfeqdfDemIR8"
      },
      "outputs": [],
      "source": [
        "df_aux['company'] = pd.Series(np.where(~df_aux['company'].isin(lista_company_mayoritarios), 'con compay', df_aux['company']))\n",
        "df_aux = pd.concat([df_aux, pd.get_dummies(df_aux['company'], drop_first=True )], axis=1)\n",
        "df_aux.drop(['company'], axis='columns', inplace=True) \n",
        "\n",
        "df_test['company'] = pd.Series(np.where(~df_test['company'].isin(lista_company_mayoritarios), 'con compay', df_test['company']))\n",
        "df_test = pd.concat([df_test, pd.get_dummies(df_test['company'], drop_first=True )], axis=1)\n",
        "df_test.drop(['company'], axis='columns', inplace=True) "
      ]
    },
    {
      "cell_type": "markdown",
      "metadata": {
        "id": "KDor9HXeyLgH"
      },
      "source": [
        "Ahora vamos a ver el analisis que haremos con la columna 'Country': "
      ]
    },
    {
      "cell_type": "code",
      "execution_count": 35,
      "metadata": {
        "id": "HP_hy8m0yRHo",
        "colab": {
          "base_uri": "https://localhost:8080/"
        },
        "outputId": "eb9c8330-0804-4a09-fba2-f8bb0d742493"
      },
      "outputs": [
        {
          "output_type": "execute_result",
          "data": {
            "text/plain": [
              "PRT    27946\n",
              "GBR     5733\n",
              "FRA     4809\n",
              "ESP     4210\n",
              "DEU     3312\n",
              "       ...  \n",
              "HND        1\n",
              "FJI        1\n",
              "LIE        1\n",
              "ATA        1\n",
              "RWA        1\n",
              "Name: country, Length: 150, dtype: int64"
            ]
          },
          "metadata": {},
          "execution_count": 35
        }
      ],
      "source": [
        "df_aux['country'].value_counts()"
      ]
    },
    {
      "cell_type": "code",
      "execution_count": 36,
      "metadata": {
        "id": "FGV5yv6sXj9z",
        "colab": {
          "base_uri": "https://localhost:8080/",
          "height": 698
        },
        "outputId": "2d4f4665-69b9-4f4c-b285-76ecec9470a1"
      },
      "outputs": [
        {
          "output_type": "display_data",
          "data": {
            "text/plain": [
              "<Figure size 2000x1000 with 1 Axes>"
            ],
            "image/png": "[encoded data removed]"
          },
          "metadata": {}
        }
      ],
      "source": [
        "plt.figure(figsize=(20,10))\n",
        "sns.countplot(x='country', data=df_aux,order=df_aux['country'].value_counts().index)\n",
        "plt.xticks(rotation=90, fontsize=10)\n",
        "plt.tight_layout()\n",
        "plt.show()"
      ]
    },
    {
      "cell_type": "code",
      "execution_count": 37,
      "metadata": {
        "id": "X0nizxFqfgSg",
        "colab": {
          "base_uri": "https://localhost:8080/"
        },
        "outputId": "b4362bb8-1d04-49ba-cfa8-2054196ef61a"
      },
      "outputs": [
        {
          "output_type": "execute_result",
          "data": {
            "text/plain": [
              "['PRT', 'GBR', 'FRA', 'ESP', 'DEU', 'ITA', 'IRL', 'BRA', 'BEL', 'USA']"
            ]
          },
          "metadata": {},
          "execution_count": 37
        }
      ],
      "source": [
        "top_paises = df_aux['country'].value_counts().nlargest(10).index.tolist()\n",
        "top_paises"
      ]
    },
    {
      "cell_type": "code",
      "execution_count": 38,
      "metadata": {
        "id": "fh9_uHwqnjt2"
      },
      "outputs": [],
      "source": [
        "df_aux['country'] = pd.Series(np.where(~df_aux['country'].isin(top_paises), 'Otro Pais', df_aux['country']))\n",
        "df_aux = pd.concat([df_aux, pd.get_dummies(df_aux['country'], drop_first=True )], axis=1)\n",
        "df_aux.drop(['country'], axis='columns', inplace=True) \n",
        "\n",
        "df_test['country'] = pd.Series(np.where(~df_test['country'].isin(top_paises), 'Otro Pais', df_test['country']))\n",
        "df_test = pd.concat([df_test, pd.get_dummies(df_test['country'], drop_first=True )], axis=1)\n",
        "df_test.drop(['country'], axis='columns', inplace=True) "
      ]
    },
    {
      "cell_type": "markdown",
      "metadata": {
        "id": "tIpl7n8Jo-WT"
      },
      "source": [
        "Elimino id porque no sive para nada: "
      ]
    },
    {
      "cell_type": "code",
      "execution_count": 39,
      "metadata": {
        "id": "a_41p-2bpCyh"
      },
      "outputs": [],
      "source": [
        "df_aux = df_aux.drop('id', axis=1)\n",
        "df_test = df_test.drop('id', axis=1)"
      ]
    },
    {
      "cell_type": "code",
      "execution_count": 40,
      "metadata": {
        "id": "8R7qrheypgKx",
        "colab": {
          "base_uri": "https://localhost:8080/",
          "height": 505
        },
        "outputId": "802ea580-3263-412e-ca56-6a5e16fd7dbc"
      },
      "outputs": [
        {
          "output_type": "execute_result",
          "data": {
            "text/plain": [
              "       lead_time  arrival_date_year  arrival_date_month  \\\n",
              "0             49               2016                  11   \n",
              "1              4               2015                  10   \n",
              "2             25               2016                  10   \n",
              "3             26               2016                   2   \n",
              "4            104               2017                   7   \n",
              "...          ...                ...                 ...   \n",
              "61908         24               2017                   4   \n",
              "61909          0               2016                  11   \n",
              "61910         10               2017                   8   \n",
              "61911        143               2015                  10   \n",
              "61912         57               2016                   0   \n",
              "\n",
              "       arrival_date_week_number  arrival_date_day_of_month  \\\n",
              "0                            37                          5   \n",
              "1                            44                         31   \n",
              "2                            42                         13   \n",
              "3                            51                         12   \n",
              "4                            12                         19   \n",
              "...                         ...                        ...   \n",
              "61908                         4                         27   \n",
              "61909                        36                          2   \n",
              "61910                        19                          8   \n",
              "61911                        41                         10   \n",
              "61912                        17                         17   \n",
              "\n",
              "       stays_in_weekend_nights  stays_in_week_nights  adults  children  \\\n",
              "0                            1                     2       1       0.0   \n",
              "1                            0                     1       2       0.0   \n",
              "2                            0                     1       2       2.0   \n",
              "3                            2                     5       2       0.0   \n",
              "4                            2                     5       2       0.0   \n",
              "...                        ...                   ...     ...       ...   \n",
              "61908                        0                     2       2       0.0   \n",
              "61909                        0                     1       1       0.0   \n",
              "61910                        1                     2       1       0.0   \n",
              "61911                        2                     5       2       0.0   \n",
              "61912                        2                     5       2       0.0   \n",
              "\n",
              "       babies  ... BRA  DEU  ESP  FRA GBR  IRL  ITA  Otro Pais  PRT  USA  \n",
              "0           0  ...   0    0    0    0   0    0    0          0    0    1  \n",
              "1           0  ...   0    0    0    0   0    0    0          0    1    0  \n",
              "2           0  ...   0    0    0    0   0    0    0          1    0    0  \n",
              "3           0  ...   0    0    0    0   0    0    0          0    1    0  \n",
              "4           0  ...   0    0    0    1   0    0    0          0    0    0  \n",
              "...       ...  ...  ..  ...  ...  ...  ..  ...  ...        ...  ...  ...  \n",
              "61908       0  ...   0    0    0    0   0    0    0          1    0    0  \n",
              "61909       0  ...   0    0    0    0   0    0    0          0    0    0  \n",
              "61910       0  ...   0    0    0    0   0    0    0          0    0    0  \n",
              "61911       0  ...   0    0    0    0   0    0    0          0    0    0  \n",
              "61912       0  ...   0    0    0    0   0    0    0          0    0    0  \n",
              "\n",
              "[61909 rows x 59 columns]"
            ],
            "text/html": [
              "\n",
              "  <div id=\"df-a372fc93-f29b-490e-9847-8b162cfb61fc\">\n",
              "    <div class=\"colab-df-container\">\n",
              "      <div>\n",
              "<style scoped>\n",
              "    .dataframe tbody tr th:only-of-type {\n",
              "        vertical-align: middle;\n",
              "    }\n",
              "\n",
              "    .dataframe tbody tr th {\n",
              "        vertical-align: top;\n",
              "    }\n",
              "\n",
              "    .dataframe thead th {\n",
              "        text-align: right;\n",
              "    }\n",
              "</style>\n",
              "<table border=\"1\" class=\"dataframe\">\n",
              "  <thead>\n",
              "    <tr style=\"text-align: right;\">\n",
              "      <th></th>\n",
              "      <th>lead_time</th>\n",
              "      <th>arrival_date_year</th>\n",
              "      <th>arrival_date_month</th>\n",
              "      <th>arrival_date_week_number</th>\n",
              "      <th>arrival_date_day_of_month</th>\n",
              "      <th>stays_in_weekend_nights</th>\n",
              "      <th>stays_in_week_nights</th>\n",
              "      <th>adults</th>\n",
              "      <th>children</th>\n",
              "      <th>babies</th>\n",
              "      <th>...</th>\n",
              "      <th>BRA</th>\n",
              "      <th>DEU</th>\n",
              "      <th>ESP</th>\n",
              "      <th>FRA</th>\n",
              "      <th>GBR</th>\n",
              "      <th>IRL</th>\n",
              "      <th>ITA</th>\n",
              "      <th>Otro Pais</th>\n",
              "      <th>PRT</th>\n",
              "      <th>USA</th>\n",
              "    </tr>\n",
              "  </thead>\n",
              "  <tbody>\n",
              "    <tr>\n",
              "      <th>0</th>\n",
              "      <td>49</td>\n",
              "      <td>2016</td>\n",
              "      <td>11</td>\n",
              "      <td>37</td>\n",
              "      <td>5</td>\n",
              "      <td>1</td>\n",
              "      <td>2</td>\n",
              "      <td>1</td>\n",
              "      <td>0.0</td>\n",
              "      <td>0</td>\n",
              "      <td>...</td>\n",
              "      <td>0</td>\n",
              "      <td>0</td>\n",
              "      <td>0</td>\n",
              "      <td>0</td>\n",
              "      <td>0</td>\n",
              "      <td>0</td>\n",
              "      <td>0</td>\n",
              "      <td>0</td>\n",
              "      <td>0</td>\n",
              "      <td>1</td>\n",
              "    </tr>\n",
              "    <tr>\n",
              "      <th>1</th>\n",
              "      <td>4</td>\n",
              "      <td>2015</td>\n",
              "      <td>10</td>\n",
              "      <td>44</td>\n",
              "      <td>31</td>\n",
              "      <td>0</td>\n",
              "      <td>1</td>\n",
              "      <td>2</td>\n",
              "      <td>0.0</td>\n",
              "      <td>0</td>\n",
              "      <td>...</td>\n",
              "      <td>0</td>\n",
              "      <td>0</td>\n",
              "      <td>0</td>\n",
              "      <td>0</td>\n",
              "      <td>0</td>\n",
              "      <td>0</td>\n",
              "      <td>0</td>\n",
              "      <td>0</td>\n",
              "      <td>1</td>\n",
              "      <td>0</td>\n",
              "    </tr>\n",
              "    <tr>\n",
              "      <th>2</th>\n",
              "      <td>25</td>\n",
              "      <td>2016</td>\n",
              "      <td>10</td>\n",
              "      <td>42</td>\n",
              "      <td>13</td>\n",
              "      <td>0</td>\n",
              "      <td>1</td>\n",
              "      <td>2</td>\n",
              "      <td>2.0</td>\n",
              "      <td>0</td>\n",
              "      <td>...</td>\n",
              "      <td>0</td>\n",
              "      <td>0</td>\n",
              "      <td>0</td>\n",
              "      <td>0</td>\n",
              "      <td>0</td>\n",
              "      <td>0</td>\n",
              "      <td>0</td>\n",
              "      <td>1</td>\n",
              "      <td>0</td>\n",
              "      <td>0</td>\n",
              "    </tr>\n",
              "    <tr>\n",
              "      <th>3</th>\n",
              "      <td>26</td>\n",
              "      <td>2016</td>\n",
              "      <td>2</td>\n",
              "      <td>51</td>\n",
              "      <td>12</td>\n",
              "      <td>2</td>\n",
              "      <td>5</td>\n",
              "      <td>2</td>\n",
              "      <td>0.0</td>\n",
              "      <td>0</td>\n",
              "      <td>...</td>\n",
              "      <td>0</td>\n",
              "      <td>0</td>\n",
              "      <td>0</td>\n",
              "      <td>0</td>\n",
              "      <td>0</td>\n",
              "      <td>0</td>\n",
              "      <td>0</td>\n",
              "      <td>0</td>\n",
              "      <td>1</td>\n",
              "      <td>0</td>\n",
              "    </tr>\n",
              "    <tr>\n",
              "      <th>4</th>\n",
              "      <td>104</td>\n",
              "      <td>2017</td>\n",
              "      <td>7</td>\n",
              "      <td>12</td>\n",
              "      <td>19</td>\n",
              "      <td>2</td>\n",
              "      <td>5</td>\n",
              "      <td>2</td>\n",
              "      <td>0.0</td>\n",
              "      <td>0</td>\n",
              "      <td>...</td>\n",
              "      <td>0</td>\n",
              "      <td>0</td>\n",
              "      <td>0</td>\n",
              "      <td>1</td>\n",
              "      <td>0</td>\n",
              "      <td>0</td>\n",
              "      <td>0</td>\n",
              "      <td>0</td>\n",
              "      <td>0</td>\n",
              "      <td>0</td>\n",
              "    </tr>\n",
              "    <tr>\n",
              "      <th>...</th>\n",
              "      <td>...</td>\n",
              "      <td>...</td>\n",
              "      <td>...</td>\n",
              "      <td>...</td>\n",
              "      <td>...</td>\n",
              "      <td>...</td>\n",
              "      <td>...</td>\n",
              "      <td>...</td>\n",
              "      <td>...</td>\n",
              "      <td>...</td>\n",
              "      <td>...</td>\n",
              "      <td>...</td>\n",
              "      <td>...</td>\n",
              "      <td>...</td>\n",
              "      <td>...</td>\n",
              "      <td>...</td>\n",
              "      <td>...</td>\n",
              "      <td>...</td>\n",
              "      <td>...</td>\n",
              "      <td>...</td>\n",
              "      <td>...</td>\n",
              "    </tr>\n",
              "    <tr>\n",
              "      <th>61908</th>\n",
              "      <td>24</td>\n",
              "      <td>2017</td>\n",
              "      <td>4</td>\n",
              "      <td>4</td>\n",
              "      <td>27</td>\n",
              "      <td>0</td>\n",
              "      <td>2</td>\n",
              "      <td>2</td>\n",
              "      <td>0.0</td>\n",
              "      <td>0</td>\n",
              "      <td>...</td>\n",
              "      <td>0</td>\n",
              "      <td>0</td>\n",
              "      <td>0</td>\n",
              "      <td>0</td>\n",
              "      <td>0</td>\n",
              "      <td>0</td>\n",
              "      <td>0</td>\n",
              "      <td>1</td>\n",
              "      <td>0</td>\n",
              "      <td>0</td>\n",
              "    </tr>\n",
              "    <tr>\n",
              "      <th>61909</th>\n",
              "      <td>0</td>\n",
              "      <td>2016</td>\n",
              "      <td>11</td>\n",
              "      <td>36</td>\n",
              "      <td>2</td>\n",
              "      <td>0</td>\n",
              "      <td>1</td>\n",
              "      <td>1</td>\n",
              "      <td>0.0</td>\n",
              "      <td>0</td>\n",
              "      <td>...</td>\n",
              "      <td>0</td>\n",
              "      <td>0</td>\n",
              "      <td>0</td>\n",
              "      <td>0</td>\n",
              "      <td>0</td>\n",
              "      <td>0</td>\n",
              "      <td>0</td>\n",
              "      <td>0</td>\n",
              "      <td>0</td>\n",
              "      <td>0</td>\n",
              "    </tr>\n",
              "    <tr>\n",
              "      <th>61910</th>\n",
              "      <td>10</td>\n",
              "      <td>2017</td>\n",
              "      <td>8</td>\n",
              "      <td>19</td>\n",
              "      <td>8</td>\n",
              "      <td>1</td>\n",
              "      <td>2</td>\n",
              "      <td>1</td>\n",
              "      <td>0.0</td>\n",
              "      <td>0</td>\n",
              "      <td>...</td>\n",
              "      <td>0</td>\n",
              "      <td>0</td>\n",
              "      <td>0</td>\n",
              "      <td>0</td>\n",
              "      <td>0</td>\n",
              "      <td>0</td>\n",
              "      <td>0</td>\n",
              "      <td>0</td>\n",
              "      <td>0</td>\n",
              "      <td>0</td>\n",
              "    </tr>\n",
              "    <tr>\n",
              "      <th>61911</th>\n",
              "      <td>143</td>\n",
              "      <td>2015</td>\n",
              "      <td>10</td>\n",
              "      <td>41</td>\n",
              "      <td>10</td>\n",
              "      <td>2</td>\n",
              "      <td>5</td>\n",
              "      <td>2</td>\n",
              "      <td>0.0</td>\n",
              "      <td>0</td>\n",
              "      <td>...</td>\n",
              "      <td>0</td>\n",
              "      <td>0</td>\n",
              "      <td>0</td>\n",
              "      <td>0</td>\n",
              "      <td>0</td>\n",
              "      <td>0</td>\n",
              "      <td>0</td>\n",
              "      <td>0</td>\n",
              "      <td>0</td>\n",
              "      <td>0</td>\n",
              "    </tr>\n",
              "    <tr>\n",
              "      <th>61912</th>\n",
              "      <td>57</td>\n",
              "      <td>2016</td>\n",
              "      <td>0</td>\n",
              "      <td>17</td>\n",
              "      <td>17</td>\n",
              "      <td>2</td>\n",
              "      <td>5</td>\n",
              "      <td>2</td>\n",
              "      <td>0.0</td>\n",
              "      <td>0</td>\n",
              "      <td>...</td>\n",
              "      <td>0</td>\n",
              "      <td>0</td>\n",
              "      <td>0</td>\n",
              "      <td>0</td>\n",
              "      <td>0</td>\n",
              "      <td>0</td>\n",
              "      <td>0</td>\n",
              "      <td>0</td>\n",
              "      <td>0</td>\n",
              "      <td>0</td>\n",
              "    </tr>\n",
              "  </tbody>\n",
              "</table>\n",
              "<p>61909 rows × 59 columns</p>\n",
              "</div>\n",
              "      <button class=\"colab-df-convert\" onclick=\"convertToInteractive('df-a372fc93-f29b-490e-9847-8b162cfb61fc')\"\n",
              "              title=\"Convert this dataframe to an interactive table.\"\n",
              "              style=\"display:none;\">\n",
              "        \n",
              "  <svg xmlns=\"http://www.w3.org/2000/svg\" height=\"24px\"viewBox=\"0 0 24 24\"\n",
              "       width=\"24px\">\n",
              "    <path d=\"M0 0h24v24H0V0z\" fill=\"none\"/>\n",
              "    <path d=\"M18.56 5.44l.94 2.06.94-2.06 2.06-.94-2.06-.94-.94-2.06-.94 2.06-2.06.94zm-11 1L8.5 8.5l.94-2.06 2.06-.94-2.06-.94L8.5 2.5l-.94 2.06-2.06.94zm10 10l.94 2.06.94-2.06 2.06-.94-2.06-.94-.94-2.06-.94 2.06-2.06.94z\"/><path d=\"M17.41 7.96l-1.37-1.37c-.4-.4-.92-.59-1.43-.59-.52 0-1.04.2-1.43.59L10.3 9.45l-7.72 7.72c-.78.78-.78 2.05 0 2.83L4 21.41c.39.39.9.59 1.41.59.51 0 1.02-.2 1.41-.59l7.78-7.78 2.81-2.81c.8-.78.8-2.07 0-2.86zM5.41 20L4 18.59l7.72-7.72 1.47 1.35L5.41 20z\"/>\n",
              "  </svg>\n",
              "      </button>\n",
              "      \n",
              "  <style>\n",
              "    .colab-df-container {\n",
              "      display:flex;\n",
              "      flex-wrap:wrap;\n",
              "      gap: 12px;\n",
              "    }\n",
              "\n",
              "    .colab-df-convert {\n",
              "      background-color: #E8F0FE;\n",
              "      border: none;\n",
              "      border-radius: 50%;\n",
              "      cursor: pointer;\n",
              "      display: none;\n",
              "      fill: #1967D2;\n",
              "      height: 32px;\n",
              "      padding: 0 0 0 0;\n",
              "      width: 32px;\n",
              "    }\n",
              "\n",
              "    .colab-df-convert:hover {\n",
              "      background-color: #E2EBFA;\n",
              "      box-shadow: 0px 1px 2px rgba(60, 64, 67, 0.3), 0px 1px 3px 1px rgba(60, 64, 67, 0.15);\n",
              "      fill: #174EA6;\n",
              "    }\n",
              "\n",
              "    [theme=dark] .colab-df-convert {\n",
              "      background-color: #3B4455;\n",
              "      fill: #D2E3FC;\n",
              "    }\n",
              "\n",
              "    [theme=dark] .colab-df-convert:hover {\n",
              "      background-color: #434B5C;\n",
              "      box-shadow: 0px 1px 3px 1px rgba(0, 0, 0, 0.15);\n",
              "      filter: drop-shadow(0px 1px 2px rgba(0, 0, 0, 0.3));\n",
              "      fill: #FFFFFF;\n",
              "    }\n",
              "  </style>\n",
              "\n",
              "      <script>\n",
              "        const buttonEl =\n",
              "          document.querySelector('#df-a372fc93-f29b-490e-9847-8b162cfb61fc button.colab-df-convert');\n",
              "        buttonEl.style.display =\n",
              "          google.colab.kernel.accessAllowed ? 'block' : 'none';\n",
              "\n",
              "        async function convertToInteractive(key) {\n",
              "          const element = document.querySelector('#df-a372fc93-f29b-490e-9847-8b162cfb61fc');\n",
              "          const dataTable =\n",
              "            await google.colab.kernel.invokeFunction('convertToInteractive',\n",
              "                                                     [key], {});\n",
              "          if (!dataTable) return;\n",
              "\n",
              "          const docLinkHtml = 'Like what you see? Visit the ' +\n",
              "            '<a target=\"_blank\" href=https://colab.research.google.com/notebooks/data_table.ipynb>data table notebook</a>'\n",
              "            + ' to learn more about interactive tables.';\n",
              "          element.innerHTML = '';\n",
              "          dataTable['output_type'] = 'display_data';\n",
              "          await google.colab.output.renderOutput(dataTable, element);\n",
              "          const docLink = document.createElement('div');\n",
              "          docLink.innerHTML = docLinkHtml;\n",
              "          element.appendChild(docLink);\n",
              "        }\n",
              "      </script>\n",
              "    </div>\n",
              "  </div>\n",
              "  "
            ]
          },
          "metadata": {},
          "execution_count": 40
        }
      ],
      "source": [
        "df_aux"
      ]
    },
    {
      "cell_type": "code",
      "execution_count": 41,
      "metadata": {
        "id": "eFKfc9lWpkZT",
        "colab": {
          "base_uri": "https://localhost:8080/",
          "height": 505
        },
        "outputId": "4661b960-2ae1-48b4-88ea-a598de7d5643"
      },
      "outputs": [
        {
          "output_type": "execute_result",
          "data": {
            "text/plain": [
              "       lead_time  arrival_date_year  arrival_date_month  \\\n",
              "0            277               2016                   9   \n",
              "1            286               2016                   8   \n",
              "2              0               2016                   1   \n",
              "3            196               2016                  10   \n",
              "4            232               2016                   9   \n",
              "...          ...                ...                 ...   \n",
              "26530         31               2017                   0   \n",
              "26531        130               2016                  11   \n",
              "26532         45               2016                   1   \n",
              "26533        164               2017                   1   \n",
              "26534        136               2016                   7   \n",
              "\n",
              "       arrival_date_week_number  arrival_date_day_of_month  \\\n",
              "0                            46                          7   \n",
              "1                            20                         11   \n",
              "2                            35                         23   \n",
              "3                            44                         29   \n",
              "4                            48                         26   \n",
              "...                         ...                        ...   \n",
              "26530                        16                         21   \n",
              "26531                        36                          3   \n",
              "26532                        35                         22   \n",
              "26533                        32                         10   \n",
              "26534                        13                         24   \n",
              "\n",
              "       stays_in_weekend_nights  stays_in_week_nights  adults  children  \\\n",
              "0                            1                     2       2       0.0   \n",
              "1                            0                     4       2       0.0   \n",
              "2                            0                     1       3       0.0   \n",
              "3                            2                     5       2       2.0   \n",
              "4                            2                     1       2       0.0   \n",
              "...                        ...                   ...     ...       ...   \n",
              "26530                        2                     3       2       0.0   \n",
              "26531                        2                     1       2       0.0   \n",
              "26532                        1                     1       2       0.0   \n",
              "26533                        2                     4       2       0.0   \n",
              "26534                        0                     3       2       0.0   \n",
              "\n",
              "       babies  ... BRA  DEU  ESP  FRA GBR  IRL  ITA  Otro Pais  PRT  USA  \n",
              "0           0  ...   0    0    0    0   0    0    0          0    1    0  \n",
              "1           0  ...   0    0    0    0   0    0    0          0    1    0  \n",
              "2           0  ...   0    0    0    1   0    0    0          0    0    0  \n",
              "3           0  ...   0    1    0    0   0    0    0          0    0    0  \n",
              "4           0  ...   0    0    0    0   0    0    0          0    1    0  \n",
              "...       ...  ...  ..  ...  ...  ...  ..  ...  ...        ...  ...  ...  \n",
              "26530       0  ...   0    1    0    0   0    0    0          0    0    0  \n",
              "26531       0  ...   0    0    0    0   1    0    0          0    0    0  \n",
              "26532       0  ...   0    0    1    0   0    0    0          0    0    0  \n",
              "26533       0  ...   0    0    0    0   0    0    0          0    1    0  \n",
              "26534       0  ...   0    0    1    0   0    0    0          0    0    0  \n",
              "\n",
              "[26535 rows x 58 columns]"
            ],
            "text/html": [
              "\n",
              "  <div id=\"df-f506b2fe-e112-4371-b3d5-6336aba7faf4\">\n",
              "    <div class=\"colab-df-container\">\n",
              "      <div>\n",
              "<style scoped>\n",
              "    .dataframe tbody tr th:only-of-type {\n",
              "        vertical-align: middle;\n",
              "    }\n",
              "\n",
              "    .dataframe tbody tr th {\n",
              "        vertical-align: top;\n",
              "    }\n",
              "\n",
              "    .dataframe thead th {\n",
              "        text-align: right;\n",
              "    }\n",
              "</style>\n",
              "<table border=\"1\" class=\"dataframe\">\n",
              "  <thead>\n",
              "    <tr style=\"text-align: right;\">\n",
              "      <th></th>\n",
              "      <th>lead_time</th>\n",
              "      <th>arrival_date_year</th>\n",
              "      <th>arrival_date_month</th>\n",
              "      <th>arrival_date_week_number</th>\n",
              "      <th>arrival_date_day_of_month</th>\n",
              "      <th>stays_in_weekend_nights</th>\n",
              "      <th>stays_in_week_nights</th>\n",
              "      <th>adults</th>\n",
              "      <th>children</th>\n",
              "      <th>babies</th>\n",
              "      <th>...</th>\n",
              "      <th>BRA</th>\n",
              "      <th>DEU</th>\n",
              "      <th>ESP</th>\n",
              "      <th>FRA</th>\n",
              "      <th>GBR</th>\n",
              "      <th>IRL</th>\n",
              "      <th>ITA</th>\n",
              "      <th>Otro Pais</th>\n",
              "      <th>PRT</th>\n",
              "      <th>USA</th>\n",
              "    </tr>\n",
              "  </thead>\n",
              "  <tbody>\n",
              "    <tr>\n",
              "      <th>0</th>\n",
              "      <td>277</td>\n",
              "      <td>2016</td>\n",
              "      <td>9</td>\n",
              "      <td>46</td>\n",
              "      <td>7</td>\n",
              "      <td>1</td>\n",
              "      <td>2</td>\n",
              "      <td>2</td>\n",
              "      <td>0.0</td>\n",
              "      <td>0</td>\n",
              "      <td>...</td>\n",
              "      <td>0</td>\n",
              "      <td>0</td>\n",
              "      <td>0</td>\n",
              "      <td>0</td>\n",
              "      <td>0</td>\n",
              "      <td>0</td>\n",
              "      <td>0</td>\n",
              "      <td>0</td>\n",
              "      <td>1</td>\n",
              "      <td>0</td>\n",
              "    </tr>\n",
              "    <tr>\n",
              "      <th>1</th>\n",
              "      <td>286</td>\n",
              "      <td>2016</td>\n",
              "      <td>8</td>\n",
              "      <td>20</td>\n",
              "      <td>11</td>\n",
              "      <td>0</td>\n",
              "      <td>4</td>\n",
              "      <td>2</td>\n",
              "      <td>0.0</td>\n",
              "      <td>0</td>\n",
              "      <td>...</td>\n",
              "      <td>0</td>\n",
              "      <td>0</td>\n",
              "      <td>0</td>\n",
              "      <td>0</td>\n",
              "      <td>0</td>\n",
              "      <td>0</td>\n",
              "      <td>0</td>\n",
              "      <td>0</td>\n",
              "      <td>1</td>\n",
              "      <td>0</td>\n",
              "    </tr>\n",
              "    <tr>\n",
              "      <th>2</th>\n",
              "      <td>0</td>\n",
              "      <td>2016</td>\n",
              "      <td>1</td>\n",
              "      <td>35</td>\n",
              "      <td>23</td>\n",
              "      <td>0</td>\n",
              "      <td>1</td>\n",
              "      <td>3</td>\n",
              "      <td>0.0</td>\n",
              "      <td>0</td>\n",
              "      <td>...</td>\n",
              "      <td>0</td>\n",
              "      <td>0</td>\n",
              "      <td>0</td>\n",
              "      <td>1</td>\n",
              "      <td>0</td>\n",
              "      <td>0</td>\n",
              "      <td>0</td>\n",
              "      <td>0</td>\n",
              "      <td>0</td>\n",
              "      <td>0</td>\n",
              "    </tr>\n",
              "    <tr>\n",
              "      <th>3</th>\n",
              "      <td>196</td>\n",
              "      <td>2016</td>\n",
              "      <td>10</td>\n",
              "      <td>44</td>\n",
              "      <td>29</td>\n",
              "      <td>2</td>\n",
              "      <td>5</td>\n",
              "      <td>2</td>\n",
              "      <td>2.0</td>\n",
              "      <td>0</td>\n",
              "      <td>...</td>\n",
              "      <td>0</td>\n",
              "      <td>1</td>\n",
              "      <td>0</td>\n",
              "      <td>0</td>\n",
              "      <td>0</td>\n",
              "      <td>0</td>\n",
              "      <td>0</td>\n",
              "      <td>0</td>\n",
              "      <td>0</td>\n",
              "      <td>0</td>\n",
              "    </tr>\n",
              "    <tr>\n",
              "      <th>4</th>\n",
              "      <td>232</td>\n",
              "      <td>2016</td>\n",
              "      <td>9</td>\n",
              "      <td>48</td>\n",
              "      <td>26</td>\n",
              "      <td>2</td>\n",
              "      <td>1</td>\n",
              "      <td>2</td>\n",
              "      <td>0.0</td>\n",
              "      <td>0</td>\n",
              "      <td>...</td>\n",
              "      <td>0</td>\n",
              "      <td>0</td>\n",
              "      <td>0</td>\n",
              "      <td>0</td>\n",
              "      <td>0</td>\n",
              "      <td>0</td>\n",
              "      <td>0</td>\n",
              "      <td>0</td>\n",
              "      <td>1</td>\n",
              "      <td>0</td>\n",
              "    </tr>\n",
              "    <tr>\n",
              "      <th>...</th>\n",
              "      <td>...</td>\n",
              "      <td>...</td>\n",
              "      <td>...</td>\n",
              "      <td>...</td>\n",
              "      <td>...</td>\n",
              "      <td>...</td>\n",
              "      <td>...</td>\n",
              "      <td>...</td>\n",
              "      <td>...</td>\n",
              "      <td>...</td>\n",
              "      <td>...</td>\n",
              "      <td>...</td>\n",
              "      <td>...</td>\n",
              "      <td>...</td>\n",
              "      <td>...</td>\n",
              "      <td>...</td>\n",
              "      <td>...</td>\n",
              "      <td>...</td>\n",
              "      <td>...</td>\n",
              "      <td>...</td>\n",
              "      <td>...</td>\n",
              "    </tr>\n",
              "    <tr>\n",
              "      <th>26530</th>\n",
              "      <td>31</td>\n",
              "      <td>2017</td>\n",
              "      <td>0</td>\n",
              "      <td>16</td>\n",
              "      <td>21</td>\n",
              "      <td>2</td>\n",
              "      <td>3</td>\n",
              "      <td>2</td>\n",
              "      <td>0.0</td>\n",
              "      <td>0</td>\n",
              "      <td>...</td>\n",
              "      <td>0</td>\n",
              "      <td>1</td>\n",
              "      <td>0</td>\n",
              "      <td>0</td>\n",
              "      <td>0</td>\n",
              "      <td>0</td>\n",
              "      <td>0</td>\n",
              "      <td>0</td>\n",
              "      <td>0</td>\n",
              "      <td>0</td>\n",
              "    </tr>\n",
              "    <tr>\n",
              "      <th>26531</th>\n",
              "      <td>130</td>\n",
              "      <td>2016</td>\n",
              "      <td>11</td>\n",
              "      <td>36</td>\n",
              "      <td>3</td>\n",
              "      <td>2</td>\n",
              "      <td>1</td>\n",
              "      <td>2</td>\n",
              "      <td>0.0</td>\n",
              "      <td>0</td>\n",
              "      <td>...</td>\n",
              "      <td>0</td>\n",
              "      <td>0</td>\n",
              "      <td>0</td>\n",
              "      <td>0</td>\n",
              "      <td>1</td>\n",
              "      <td>0</td>\n",
              "      <td>0</td>\n",
              "      <td>0</td>\n",
              "      <td>0</td>\n",
              "      <td>0</td>\n",
              "    </tr>\n",
              "    <tr>\n",
              "      <th>26532</th>\n",
              "      <td>45</td>\n",
              "      <td>2016</td>\n",
              "      <td>1</td>\n",
              "      <td>35</td>\n",
              "      <td>22</td>\n",
              "      <td>1</td>\n",
              "      <td>1</td>\n",
              "      <td>2</td>\n",
              "      <td>0.0</td>\n",
              "      <td>0</td>\n",
              "      <td>...</td>\n",
              "      <td>0</td>\n",
              "      <td>0</td>\n",
              "      <td>1</td>\n",
              "      <td>0</td>\n",
              "      <td>0</td>\n",
              "      <td>0</td>\n",
              "      <td>0</td>\n",
              "      <td>0</td>\n",
              "      <td>0</td>\n",
              "      <td>0</td>\n",
              "    </tr>\n",
              "    <tr>\n",
              "      <th>26533</th>\n",
              "      <td>164</td>\n",
              "      <td>2017</td>\n",
              "      <td>1</td>\n",
              "      <td>32</td>\n",
              "      <td>10</td>\n",
              "      <td>2</td>\n",
              "      <td>4</td>\n",
              "      <td>2</td>\n",
              "      <td>0.0</td>\n",
              "      <td>0</td>\n",
              "      <td>...</td>\n",
              "      <td>0</td>\n",
              "      <td>0</td>\n",
              "      <td>0</td>\n",
              "      <td>0</td>\n",
              "      <td>0</td>\n",
              "      <td>0</td>\n",
              "      <td>0</td>\n",
              "      <td>0</td>\n",
              "      <td>1</td>\n",
              "      <td>0</td>\n",
              "    </tr>\n",
              "    <tr>\n",
              "      <th>26534</th>\n",
              "      <td>136</td>\n",
              "      <td>2016</td>\n",
              "      <td>7</td>\n",
              "      <td>13</td>\n",
              "      <td>24</td>\n",
              "      <td>0</td>\n",
              "      <td>3</td>\n",
              "      <td>2</td>\n",
              "      <td>0.0</td>\n",
              "      <td>0</td>\n",
              "      <td>...</td>\n",
              "      <td>0</td>\n",
              "      <td>0</td>\n",
              "      <td>1</td>\n",
              "      <td>0</td>\n",
              "      <td>0</td>\n",
              "      <td>0</td>\n",
              "      <td>0</td>\n",
              "      <td>0</td>\n",
              "      <td>0</td>\n",
              "      <td>0</td>\n",
              "    </tr>\n",
              "  </tbody>\n",
              "</table>\n",
              "<p>26535 rows × 58 columns</p>\n",
              "</div>\n",
              "      <button class=\"colab-df-convert\" onclick=\"convertToInteractive('df-f506b2fe-e112-4371-b3d5-6336aba7faf4')\"\n",
              "              title=\"Convert this dataframe to an interactive table.\"\n",
              "              style=\"display:none;\">\n",
              "        \n",
              "  <svg xmlns=\"http://www.w3.org/2000/svg\" height=\"24px\"viewBox=\"0 0 24 24\"\n",
              "       width=\"24px\">\n",
              "    <path d=\"M0 0h24v24H0V0z\" fill=\"none\"/>\n",
              "    <path d=\"M18.56 5.44l.94 2.06.94-2.06 2.06-.94-2.06-.94-.94-2.06-.94 2.06-2.06.94zm-11 1L8.5 8.5l.94-2.06 2.06-.94-2.06-.94L8.5 2.5l-.94 2.06-2.06.94zm10 10l.94 2.06.94-2.06 2.06-.94-2.06-.94-.94-2.06-.94 2.06-2.06.94z\"/><path d=\"M17.41 7.96l-1.37-1.37c-.4-.4-.92-.59-1.43-.59-.52 0-1.04.2-1.43.59L10.3 9.45l-7.72 7.72c-.78.78-.78 2.05 0 2.83L4 21.41c.39.39.9.59 1.41.59.51 0 1.02-.2 1.41-.59l7.78-7.78 2.81-2.81c.8-.78.8-2.07 0-2.86zM5.41 20L4 18.59l7.72-7.72 1.47 1.35L5.41 20z\"/>\n",
              "  </svg>\n",
              "      </button>\n",
              "      \n",
              "  <style>\n",
              "    .colab-df-container {\n",
              "      display:flex;\n",
              "      flex-wrap:wrap;\n",
              "      gap: 12px;\n",
              "    }\n",
              "\n",
              "    .colab-df-convert {\n",
              "      background-color: #E8F0FE;\n",
              "      border: none;\n",
              "      border-radius: 50%;\n",
              "      cursor: pointer;\n",
              "      display: none;\n",
              "      fill: #1967D2;\n",
              "      height: 32px;\n",
              "      padding: 0 0 0 0;\n",
              "      width: 32px;\n",
              "    }\n",
              "\n",
              "    .colab-df-convert:hover {\n",
              "      background-color: #E2EBFA;\n",
              "      box-shadow: 0px 1px 2px rgba(60, 64, 67, 0.3), 0px 1px 3px 1px rgba(60, 64, 67, 0.15);\n",
              "      fill: #174EA6;\n",
              "    }\n",
              "\n",
              "    [theme=dark] .colab-df-convert {\n",
              "      background-color: #3B4455;\n",
              "      fill: #D2E3FC;\n",
              "    }\n",
              "\n",
              "    [theme=dark] .colab-df-convert:hover {\n",
              "      background-color: #434B5C;\n",
              "      box-shadow: 0px 1px 3px 1px rgba(0, 0, 0, 0.15);\n",
              "      filter: drop-shadow(0px 1px 2px rgba(0, 0, 0, 0.3));\n",
              "      fill: #FFFFFF;\n",
              "    }\n",
              "  </style>\n",
              "\n",
              "      <script>\n",
              "        const buttonEl =\n",
              "          document.querySelector('#df-f506b2fe-e112-4371-b3d5-6336aba7faf4 button.colab-df-convert');\n",
              "        buttonEl.style.display =\n",
              "          google.colab.kernel.accessAllowed ? 'block' : 'none';\n",
              "\n",
              "        async function convertToInteractive(key) {\n",
              "          const element = document.querySelector('#df-f506b2fe-e112-4371-b3d5-6336aba7faf4');\n",
              "          const dataTable =\n",
              "            await google.colab.kernel.invokeFunction('convertToInteractive',\n",
              "                                                     [key], {});\n",
              "          if (!dataTable) return;\n",
              "\n",
              "          const docLinkHtml = 'Like what you see? Visit the ' +\n",
              "            '<a target=\"_blank\" href=https://colab.research.google.com/notebooks/data_table.ipynb>data table notebook</a>'\n",
              "            + ' to learn more about interactive tables.';\n",
              "          element.innerHTML = '';\n",
              "          dataTable['output_type'] = 'display_data';\n",
              "          await google.colab.output.renderOutput(dataTable, element);\n",
              "          const docLink = document.createElement('div');\n",
              "          docLink.innerHTML = docLinkHtml;\n",
              "          element.appendChild(docLink);\n",
              "        }\n",
              "      </script>\n",
              "    </div>\n",
              "  </div>\n",
              "  "
            ]
          },
          "metadata": {},
          "execution_count": 41
        }
      ],
      "source": [
        "df_test"
      ]
    },
    {
      "cell_type": "code",
      "execution_count": 42,
      "metadata": {
        "id": "-fOkL6-v0QOQ",
        "colab": {
          "base_uri": "https://localhost:8080/"
        },
        "outputId": "699dd2e3-a74f-4c82-977d-6491bf982900"
      },
      "outputs": [
        {
          "output_type": "stream",
          "name": "stdout",
          "text": [
            "['meal', 'reserved_room_type', 'reservation_status_date']\n"
          ]
        }
      ],
      "source": [
        "object_cols = df_aux.select_dtypes(include='object').columns.tolist()\n",
        "print(object_cols)"
      ]
    },
    {
      "cell_type": "code",
      "execution_count": 43,
      "metadata": {
        "id": "RG0dkLQX0TpO",
        "colab": {
          "base_uri": "https://localhost:8080/"
        },
        "outputId": "fb75d53a-8b13-44af-bcb1-9b5fd90cdde0"
      },
      "outputs": [
        {
          "output_type": "stream",
          "name": "stdout",
          "text": [
            "['meal', 'reserved_room_type', 'reservation_status_date']\n"
          ]
        }
      ],
      "source": [
        "object_cols1 = df_test.select_dtypes(include='object').columns.tolist()\n",
        "print(object_cols1)"
      ]
    },
    {
      "cell_type": "code",
      "execution_count": 44,
      "metadata": {
        "id": "mmTlGh2g1IDI"
      },
      "outputs": [],
      "source": [
        "df_test['meal'] = pd.Categorical(df_test['meal']).codes\n",
        "\n",
        "df_aux['meal'] = pd.Categorical(df_aux['meal']).codes"
      ]
    },
    {
      "cell_type": "code",
      "execution_count": 45,
      "metadata": {
        "id": "4xhOJUqj1JFX"
      },
      "outputs": [],
      "source": [
        "df_test['reserved_room_type'] = pd.Categorical(df_test['reserved_room_type']).codes\n",
        "\n",
        "df_aux['reserved_room_type'] = pd.Categorical(df_aux['reserved_room_type']).codes"
      ]
    },
    {
      "cell_type": "code",
      "execution_count": 46,
      "metadata": {
        "id": "Smch39pM1J2l"
      },
      "outputs": [],
      "source": [
        "df_test['reservation_status_date'] = pd.Categorical(df_test['reservation_status_date']).codes\n",
        "\n",
        "df_aux['reservation_status_date'] = pd.Categorical(df_aux['reservation_status_date']).codes"
      ]
    },
    {
      "cell_type": "code",
      "execution_count": 47,
      "metadata": {
        "id": "i4kYZPjL8ldG"
      },
      "outputs": [],
      "source": [
        "df_aux.columns = df_aux.columns.astype(str)\n",
        "df_test.columns = df_test.columns.astype(str)"
      ]
    },
    {
      "cell_type": "markdown",
      "metadata": {
        "id": "EDm3aeJj0rS-"
      },
      "source": [
        "## PREPROCESAMIENTO HECHO"
      ]
    },
    {
      "cell_type": "code",
      "execution_count": 48,
      "metadata": {
        "id": "-FhbXgiYHW2E"
      },
      "outputs": [],
      "source": [
        "import pandas as pd\n",
        "import numpy as np\n",
        "\n",
        "#Visualización\n",
        "import matplotlib.pyplot as plt\n",
        "import seaborn as sns\n",
        "\n",
        "#modelos y métricas\n",
        "from sklearn import tree\n",
        "from sklearn.model_selection import GridSearchCV\n",
        "from sklearn.ensemble import RandomForestClassifier\n",
        "from sklearn.model_selection import train_test_split\n",
        "from sklearn.metrics import confusion_matrix, classification_report\n",
        "from sklearn.metrics import precision_recall_curve, roc_curve, recall_score, accuracy_score,f1_score\n",
        "\n",
        "#preprocesamiento\n",
        "from sklearn.preprocessing import MinMaxScaler\n",
        "\n",
        "#configuración warnings\n",
        "import warnings\n",
        "warnings.simplefilter(action='ignore', category=FutureWarning)\n",
        "warnings.simplefilter(action='ignore', category=UserWarning)"
      ]
    },
    {
      "cell_type": "code",
      "execution_count": 49,
      "metadata": {
        "id": "yGTCqlyhlQ3G"
      },
      "outputs": [],
      "source": [
        "\n",
        "X = df_aux.drop('is_canceled', axis=1) \n",
        "y = df_aux.is_canceled\n",
        "\n",
        "\n",
        "#Separacion Train/test (80/20)\n",
        "X_train, X_test, y_train, y_test = train_test_split(X, y, test_size= 0.2, random_state=12)"
      ]
    },
    {
      "cell_type": "code",
      "execution_count": 50,
      "metadata": {
        "id": "shKgyksSqAda",
        "colab": {
          "base_uri": "https://localhost:8080/"
        },
        "outputId": "68d6a3ef-6206-4614-d4b8-db263d2d596d"
      },
      "outputs": [
        {
          "output_type": "execute_result",
          "data": {
            "text/plain": [
              "{'algorithm': 'auto',\n",
              " 'leaf_size': 30,\n",
              " 'metric': 'minkowski',\n",
              " 'metric_params': None,\n",
              " 'n_jobs': None,\n",
              " 'n_neighbors': 5,\n",
              " 'p': 2,\n",
              " 'weights': 'uniform'}"
            ]
          },
          "metadata": {},
          "execution_count": 50
        }
      ],
      "source": [
        "#Crear el modelo\n",
        "KNN_Classifier = KNeighborsClassifier()\n",
        "\n",
        "#vemos sus parámetros\n",
        "KNN_Classifier.get_params()"
      ]
    },
    {
      "cell_type": "code",
      "execution_count": 51,
      "metadata": {
        "id": "rMpNmxEf82Um"
      },
      "outputs": [],
      "source": [
        "#Entrenar el modelo\n",
        "KNN_Classifier.fit(X_train, y_train)\n",
        "\n",
        "#Predicción sobre test\n",
        "y_pred = KNN_Classifier.predict(X_test)"
      ]
    },
    {
      "cell_type": "code",
      "execution_count": 52,
      "metadata": {
        "colab": {
          "base_uri": "https://localhost:8080/"
        },
        "id": "TkZsNCJu9NyZ",
        "outputId": "ec16ffff-9219-4c9a-8460-050ecf06934a"
      },
      "outputs": [
        {
          "output_type": "stream",
          "name": "stdout",
          "text": [
            "correctas:  10916\n",
            "total:  12382\n"
          ]
        }
      ],
      "source": [
        "#Cantidad de aciertos\n",
        "print('correctas: ', np.sum(y_test == y_pred))\n",
        "print('total: ', len(y_test))"
      ]
    },
    {
      "cell_type": "code",
      "execution_count": 53,
      "metadata": {
        "colab": {
          "base_uri": "https://localhost:8080/"
        },
        "id": "wRZGSyE19dsK",
        "outputId": "1eb7cc58-c6bd-4ae7-ed49-0f1eefa4f149"
      },
      "outputs": [
        {
          "output_type": "execute_result",
          "data": {
            "text/plain": [
              "0.8816023259570344"
            ]
          },
          "metadata": {},
          "execution_count": 53
        }
      ],
      "source": [
        "accuracy_score(y_test,y_pred)"
      ]
    },
    {
      "cell_type": "code",
      "execution_count": 54,
      "metadata": {
        "id": "iEeAdqNNEVRU"
      },
      "outputs": [],
      "source": [
        "from sklearn.model_selection import RandomizedSearchCV\n",
        "\n",
        "#Grilla de Parámetros\n",
        "params_grid={ 'n_neighbors':range(1,30), \n",
        "              'weights':['distance','uniform'],\n",
        "              'algorithm':['ball_tree', 'kd_tree', 'brute'],\n",
        "              'metric':['euclidean','manhattan','chebyshev']\n",
        "             }"
      ]
    },
    {
      "cell_type": "code",
      "execution_count": 55,
      "metadata": {
        "id": "sxlQlipzEtFm",
        "colab": {
          "base_uri": "https://localhost:8080/"
        },
        "outputId": "7e65a3f8-0a43-4584-dce0-45afbebdc192"
      },
      "outputs": [
        {
          "output_type": "stream",
          "name": "stdout",
          "text": [
            "Fitting 5 folds for each of 1 candidates, totalling 5 fits\n",
            "[CV 1/5; 1/1] START algorithm=kd_tree, metric=euclidean, n_neighbors=17, weights=distance\n",
            "[CV 1/5; 1/1] END algorithm=kd_tree, metric=euclidean, n_neighbors=17, weights=distance;, score=0.867 total time=   5.0s\n",
            "[CV 2/5; 1/1] START algorithm=kd_tree, metric=euclidean, n_neighbors=17, weights=distance\n",
            "[CV 2/5; 1/1] END algorithm=kd_tree, metric=euclidean, n_neighbors=17, weights=distance;, score=0.870 total time=   5.3s\n",
            "[CV 3/5; 1/1] START algorithm=kd_tree, metric=euclidean, n_neighbors=17, weights=distance\n",
            "[CV 3/5; 1/1] END algorithm=kd_tree, metric=euclidean, n_neighbors=17, weights=distance;, score=0.870 total time=   7.9s\n",
            "[CV 4/5; 1/1] START algorithm=kd_tree, metric=euclidean, n_neighbors=17, weights=distance\n",
            "[CV 4/5; 1/1] END algorithm=kd_tree, metric=euclidean, n_neighbors=17, weights=distance;, score=0.878 total time=   3.1s\n",
            "[CV 5/5; 1/1] START algorithm=kd_tree, metric=euclidean, n_neighbors=17, weights=distance\n",
            "[CV 5/5; 1/1] END algorithm=kd_tree, metric=euclidean, n_neighbors=17, weights=distance;, score=0.872 total time=   3.1s\n"
          ]
        },
        {
          "output_type": "execute_result",
          "data": {
            "text/plain": [
              "array([0.87122187])"
            ]
          },
          "metadata": {},
          "execution_count": 55
        }
      ],
      "source": [
        "#Clasificador KNN\n",
        "KNN_Classifier=KNeighborsClassifier()\n",
        "\n",
        "#Random Search con 10 Folds y 10 iteraciones\n",
        "rand = RandomizedSearchCV(KNN_Classifier, params_grid, scoring='accuracy', n_iter=1, random_state=5, verbose=1000)\n",
        "rand.fit(X_train, y_train)\n",
        "rand.cv_results_['mean_test_score']"
      ]
    },
    {
      "cell_type": "code",
      "execution_count": 63,
      "metadata": {
        "id": "sWHhTxrtGRo2",
        "colab": {
          "base_uri": "https://localhost:8080/"
        },
        "outputId": "1d8a89d7-bb06-49be-bcdc-bbf2a204d7d0"
      },
      "outputs": [
        {
          "output_type": "stream",
          "name": "stdout",
          "text": [
            "Accuracy: 0.876433532547246\n",
            "Recall: 0.8108283352245097\n",
            "f1 score: 0.8673487081671579\n"
          ]
        }
      ],
      "source": [
        "y_pred_train = rand.predict(X_test)\n",
        "\n",
        "accuracy=accuracy_score(y_test,y_pred_train)\n",
        "recall=recall_score(y_test,y_pred_train)\n",
        "f1=f1_score(y_test,y_pred_train)\n",
        "\n",
        "print(\"Accuracy: \"+str(accuracy))\n",
        "print(\"Recall: \"+str(recall))\n",
        "print(\"f1 score: \"+str(f1))"
      ]
    },
    {
      "cell_type": "code",
      "source": [
        "from sklearn.metrics import confusion_matrix, classification_report , f1_score\n",
        "print('F1-Score: {}'.format(f1_score(y_test, y_pred_train, average='binary'))) #binary considera la clase positiva por defecto 1\n",
        "\n",
        "cm = confusion_matrix(y_test,y_pred_train)\n",
        "sns.heatmap(cm, cmap='Blues',annot=True,fmt='g')\n",
        "plt.xlabel('Predicted')\n",
        "plt.ylabel('True')"
      ],
      "metadata": {
        "colab": {
          "base_uri": "https://localhost:8080/",
          "height": 485
        },
        "id": "S4vGymF20uBm",
        "outputId": "46248088-debf-4766-81a4-f055440fa553"
      },
      "execution_count": 64,
      "outputs": [
        {
          "output_type": "stream",
          "name": "stdout",
          "text": [
            "F1-Score: 0.8673487081671579\n"
          ]
        },
        {
          "output_type": "execute_result",
          "data": {
            "text/plain": [
              "Text(50.722222222222214, 0.5, 'True')"
            ]
          },
          "metadata": {},
          "execution_count": 64
        },
        {
          "output_type": "display_data",
          "data": {
            "text/plain": [
              "<Figure size 640x480 with 2 Axes>"
            ],
            "image/png": "[encoded data removed]"
          },
          "metadata": {}
        }
      ]
    },
    {
      "cell_type": "code",
      "execution_count": 57,
      "metadata": {
        "id": "yT_xoAOAaR1M",
        "colab": {
          "base_uri": "https://localhost:8080/"
        },
        "outputId": "67a1127b-b3d9-44bc-c161-9afb73f06ac2"
      },
      "outputs": [
        {
          "output_type": "execute_result",
          "data": {
            "text/plain": [
              "{'weights': 'distance',\n",
              " 'n_neighbors': 17,\n",
              " 'metric': 'euclidean',\n",
              " 'algorithm': 'kd_tree'}"
            ]
          },
          "metadata": {},
          "execution_count": 57
        }
      ],
      "source": [
        "rand.best_params_"
      ]
    },
    {
      "cell_type": "code",
      "execution_count": 58,
      "metadata": {
        "id": "m-mBNbOmVKid",
        "colab": {
          "base_uri": "https://localhost:8080/"
        },
        "outputId": "30b8dd72-c1ce-4dcc-ce27-2dfd1d794832"
      },
      "outputs": [
        {
          "output_type": "execute_result",
          "data": {
            "text/plain": [
              "['knn_cv.joblib']"
            ]
          },
          "metadata": {},
          "execution_count": 58
        }
      ],
      "source": [
        "from joblib import dump, load\n",
        "dump(rand, 'knn_cv.joblib')"
      ]
    },
    {
      "cell_type": "code",
      "execution_count": 59,
      "metadata": {
        "id": "nbaF9yHhJtII"
      },
      "outputs": [],
      "source": [
        "y_pred = rand.predict(df_test)"
      ]
    },
    {
      "cell_type": "code",
      "execution_count": 60,
      "metadata": {
        "id": "cLQ_qLCuPoC7",
        "colab": {
          "base_uri": "https://localhost:8080/",
          "height": 424
        },
        "outputId": "1bec890c-127f-4860-f8b4-1258d9cd3beb"
      },
      "outputs": [
        {
          "output_type": "execute_result",
          "data": {
            "text/plain": [
              "                                         id  is_canceled\n",
              "0      e6d0d58a-ab96-44d3-b28f-85df1cc15f1e            1\n",
              "1      aba9aac2-4495-4645-a60e-90328713c999            1\n",
              "2      b345b5dc-c804-4d77-a39f-1f4e65d1f1ad            0\n",
              "3      ce1b400e-afa1-4946-bdff-004b859eb61c            1\n",
              "4      c4fbec0d-8e2e-4db2-9d4f-a6ccb9f51214            1\n",
              "...                                     ...          ...\n",
              "26530  636ccded-66ad-4538-8006-c0b9f84c6256            0\n",
              "26531  11e19741-bd28-4459-8ea3-184f1664000f            0\n",
              "26532  36a4c7b0-d6b1-4528-93db-311be96ec1c6            1\n",
              "26533  89c85fa5-2b3d-4131-844c-e151a65ca240            1\n",
              "26534  bd4e9eee-f28e-4a53-b4a1-277426efbcee            0\n",
              "\n",
              "[26535 rows x 2 columns]"
            ],
            "text/html": [
              "\n",
              "  <div id=\"df-d79de131-dba6-4cf7-8202-af8fa45c227b\">\n",
              "    <div class=\"colab-df-container\">\n",
              "      <div>\n",
              "<style scoped>\n",
              "    .dataframe tbody tr th:only-of-type {\n",
              "        vertical-align: middle;\n",
              "    }\n",
              "\n",
              "    .dataframe tbody tr th {\n",
              "        vertical-align: top;\n",
              "    }\n",
              "\n",
              "    .dataframe thead th {\n",
              "        text-align: right;\n",
              "    }\n",
              "</style>\n",
              "<table border=\"1\" class=\"dataframe\">\n",
              "  <thead>\n",
              "    <tr style=\"text-align: right;\">\n",
              "      <th></th>\n",
              "      <th>id</th>\n",
              "      <th>is_canceled</th>\n",
              "    </tr>\n",
              "  </thead>\n",
              "  <tbody>\n",
              "    <tr>\n",
              "      <th>0</th>\n",
              "      <td>e6d0d58a-ab96-44d3-b28f-85df1cc15f1e</td>\n",
              "      <td>1</td>\n",
              "    </tr>\n",
              "    <tr>\n",
              "      <th>1</th>\n",
              "      <td>aba9aac2-4495-4645-a60e-90328713c999</td>\n",
              "      <td>1</td>\n",
              "    </tr>\n",
              "    <tr>\n",
              "      <th>2</th>\n",
              "      <td>b345b5dc-c804-4d77-a39f-1f4e65d1f1ad</td>\n",
              "      <td>0</td>\n",
              "    </tr>\n",
              "    <tr>\n",
              "      <th>3</th>\n",
              "      <td>ce1b400e-afa1-4946-bdff-004b859eb61c</td>\n",
              "      <td>1</td>\n",
              "    </tr>\n",
              "    <tr>\n",
              "      <th>4</th>\n",
              "      <td>c4fbec0d-8e2e-4db2-9d4f-a6ccb9f51214</td>\n",
              "      <td>1</td>\n",
              "    </tr>\n",
              "    <tr>\n",
              "      <th>...</th>\n",
              "      <td>...</td>\n",
              "      <td>...</td>\n",
              "    </tr>\n",
              "    <tr>\n",
              "      <th>26530</th>\n",
              "      <td>636ccded-66ad-4538-8006-c0b9f84c6256</td>\n",
              "      <td>0</td>\n",
              "    </tr>\n",
              "    <tr>\n",
              "      <th>26531</th>\n",
              "      <td>11e19741-bd28-4459-8ea3-184f1664000f</td>\n",
              "      <td>0</td>\n",
              "    </tr>\n",
              "    <tr>\n",
              "      <th>26532</th>\n",
              "      <td>36a4c7b0-d6b1-4528-93db-311be96ec1c6</td>\n",
              "      <td>1</td>\n",
              "    </tr>\n",
              "    <tr>\n",
              "      <th>26533</th>\n",
              "      <td>89c85fa5-2b3d-4131-844c-e151a65ca240</td>\n",
              "      <td>1</td>\n",
              "    </tr>\n",
              "    <tr>\n",
              "      <th>26534</th>\n",
              "      <td>bd4e9eee-f28e-4a53-b4a1-277426efbcee</td>\n",
              "      <td>0</td>\n",
              "    </tr>\n",
              "  </tbody>\n",
              "</table>\n",
              "<p>26535 rows × 2 columns</p>\n",
              "</div>\n",
              "      <button class=\"colab-df-convert\" onclick=\"convertToInteractive('df-d79de131-dba6-4cf7-8202-af8fa45c227b')\"\n",
              "              title=\"Convert this dataframe to an interactive table.\"\n",
              "              style=\"display:none;\">\n",
              "        \n",
              "  <svg xmlns=\"http://www.w3.org/2000/svg\" height=\"24px\"viewBox=\"0 0 24 24\"\n",
              "       width=\"24px\">\n",
              "    <path d=\"M0 0h24v24H0V0z\" fill=\"none\"/>\n",
              "    <path d=\"M18.56 5.44l.94 2.06.94-2.06 2.06-.94-2.06-.94-.94-2.06-.94 2.06-2.06.94zm-11 1L8.5 8.5l.94-2.06 2.06-.94-2.06-.94L8.5 2.5l-.94 2.06-2.06.94zm10 10l.94 2.06.94-2.06 2.06-.94-2.06-.94-.94-2.06-.94 2.06-2.06.94z\"/><path d=\"M17.41 7.96l-1.37-1.37c-.4-.4-.92-.59-1.43-.59-.52 0-1.04.2-1.43.59L10.3 9.45l-7.72 7.72c-.78.78-.78 2.05 0 2.83L4 21.41c.39.39.9.59 1.41.59.51 0 1.02-.2 1.41-.59l7.78-7.78 2.81-2.81c.8-.78.8-2.07 0-2.86zM5.41 20L4 18.59l7.72-7.72 1.47 1.35L5.41 20z\"/>\n",
              "  </svg>\n",
              "      </button>\n",
              "      \n",
              "  <style>\n",
              "    .colab-df-container {\n",
              "      display:flex;\n",
              "      flex-wrap:wrap;\n",
              "      gap: 12px;\n",
              "    }\n",
              "\n",
              "    .colab-df-convert {\n",
              "      background-color: #E8F0FE;\n",
              "      border: none;\n",
              "      border-radius: 50%;\n",
              "      cursor: pointer;\n",
              "      display: none;\n",
              "      fill: #1967D2;\n",
              "      height: 32px;\n",
              "      padding: 0 0 0 0;\n",
              "      width: 32px;\n",
              "    }\n",
              "\n",
              "    .colab-df-convert:hover {\n",
              "      background-color: #E2EBFA;\n",
              "      box-shadow: 0px 1px 2px rgba(60, 64, 67, 0.3), 0px 1px 3px 1px rgba(60, 64, 67, 0.15);\n",
              "      fill: #174EA6;\n",
              "    }\n",
              "\n",
              "    [theme=dark] .colab-df-convert {\n",
              "      background-color: #3B4455;\n",
              "      fill: #D2E3FC;\n",
              "    }\n",
              "\n",
              "    [theme=dark] .colab-df-convert:hover {\n",
              "      background-color: #434B5C;\n",
              "      box-shadow: 0px 1px 3px 1px rgba(0, 0, 0, 0.15);\n",
              "      filter: drop-shadow(0px 1px 2px rgba(0, 0, 0, 0.3));\n",
              "      fill: #FFFFFF;\n",
              "    }\n",
              "  </style>\n",
              "\n",
              "      <script>\n",
              "        const buttonEl =\n",
              "          document.querySelector('#df-d79de131-dba6-4cf7-8202-af8fa45c227b button.colab-df-convert');\n",
              "        buttonEl.style.display =\n",
              "          google.colab.kernel.accessAllowed ? 'block' : 'none';\n",
              "\n",
              "        async function convertToInteractive(key) {\n",
              "          const element = document.querySelector('#df-d79de131-dba6-4cf7-8202-af8fa45c227b');\n",
              "          const dataTable =\n",
              "            await google.colab.kernel.invokeFunction('convertToInteractive',\n",
              "                                                     [key], {});\n",
              "          if (!dataTable) return;\n",
              "\n",
              "          const docLinkHtml = 'Like what you see? Visit the ' +\n",
              "            '<a target=\"_blank\" href=https://colab.research.google.com/notebooks/data_table.ipynb>data table notebook</a>'\n",
              "            + ' to learn more about interactive tables.';\n",
              "          element.innerHTML = '';\n",
              "          dataTable['output_type'] = 'display_data';\n",
              "          await google.colab.output.renderOutput(dataTable, element);\n",
              "          const docLink = document.createElement('div');\n",
              "          docLink.innerHTML = docLinkHtml;\n",
              "          element.appendChild(docLink);\n",
              "        }\n",
              "      </script>\n",
              "    </div>\n",
              "  </div>\n",
              "  "
            ]
          },
          "metadata": {},
          "execution_count": 60
        }
      ],
      "source": [
        "df_prediction = pd.DataFrame(zip(df_test_id,y_pred)).rename(columns={0: \"id\", 1: \"is_canceled\"})\n",
        "df_prediction"
      ]
    },
    {
      "cell_type": "code",
      "execution_count": 61,
      "metadata": {
        "id": "gYHejzpoPYc1"
      },
      "outputs": [],
      "source": [
        "df_prediction.to_csv('knn_prediction.csv', index=False)"
      ]
    },
    {
      "cell_type": "code",
      "source": [
        "df_aux.to_csv('knn_dataset_hotels_train.csv', index=False)"
      ],
      "metadata": {
        "id": "QD_LD1ay0iJ-"
      },
      "execution_count": 62,
      "outputs": []
    }
  ],
  "metadata": {
    "colab": {
      "provenance": []
    },
    "kernelspec": {
      "display_name": "Python 3",
      "name": "python3"
    },
    "language_info": {
      "name": "python"
    }
  },
  "nbformat": 4,
  "nbformat_minor": 0
}