{
  "nbformat": 4,
  "nbformat_minor": 0,
  "metadata": {
    "colab": {
      "provenance": []
    },
    "kernelspec": {
      "name": "python3",
      "display_name": "Python 3"
    },
    "language_info": {
      "name": "python"
    }
  },
  "cells": [
    {
      "cell_type": "code",
      "execution_count": 1184,
      "metadata": {
        "id": "SrKSuzSsMcdB"
      },
      "outputs": [],
      "source": [
        "import matplotlib.pyplot as plt\n",
        "import seaborn as sns\n",
        "\n",
        "import pandas as pd\n",
        "import numpy as np\n",
        "\n",
        "from sklearn.metrics import f1_score,  recall_score, precision_score, accuracy_score\n",
        "from sklearn.preprocessing import StandardScaler\n",
        "from sklearn.model_selection import train_test_split\n",
        "\n",
        "\n",
        "import tensorflow as tf\n",
        "from tensorflow import keras\n",
        "from keras.utils.vis_utils import plot_model\n",
        "import xgboost as xgb\n",
        "from keras.wrappers.scikit_learn import KerasClassifier   #o Sci-Keras!!!\n",
        "\n",
        "#Importamos los datasets\n",
        "\n",
        "dataset_hotels_test = pd.read_csv('https://github.com/joeldevel/data_tp1_odd/blob/main/hotels_test.csv?raw=true')\n",
        "dataset_hotels_train = pd.read_csv('https://github.com/joeldevel/data_tp1_odd/blob/main/hotels_train.csv?raw=true')\n",
        "\n",
        "dataset_hotels_train.drop(['reservation_status_date'], axis='columns', inplace=True) \n",
        "dataset_hotels_test.drop(['reservation_status_date'], axis='columns', inplace=True) "
      ]
    },
    {
      "cell_type": "markdown",
      "source": [
        "# Preprocesamiento"
      ],
      "metadata": {
        "id": "wCg1SVdMgol_"
      }
    },
    {
      "cell_type": "code",
      "execution_count": 1185,
      "metadata": {
        "id": "96kXJC61mUno"
      },
      "outputs": [],
      "source": [
        "dataset_hotels_test_id = dataset_hotels_test['id'].copy()"
      ]
    },
    {
      "cell_type": "code",
      "execution_count": 1186,
      "metadata": {
        "id": "xkGaTJXrXJyZ"
      },
      "outputs": [],
      "source": [
        "dataset_hotels_train.drop(['id','arrival_date_year',\n",
        " 'arrival_date_month',\n",
        " 'arrival_date_week_number',\n",
        " 'arrival_date_day_of_month'], axis='columns', inplace=True)\n",
        "dataset_hotels_test.drop(['id','arrival_date_year',\n",
        " 'arrival_date_month',\n",
        " 'arrival_date_week_number',\n",
        " 'arrival_date_day_of_month'], axis='columns', inplace=True)"
      ]
    },
    {
      "cell_type": "code",
      "execution_count": 1187,
      "metadata": {
        "id": "EhzRTLDFX8qX"
      },
      "outputs": [],
      "source": [
        "#creo variable cant personas elimino children adults and babies\n",
        "dataset_hotels_train['cant_personas'] = dataset_hotels_train['children'].fillna(0) + dataset_hotels_train['adults'].fillna(0) + dataset_hotels_train['babies'].fillna(0)\n",
        "dataset_hotels_train['cant_personas'] = dataset_hotels_train['cant_personas'].astype('int')\n",
        "dataset_hotels_train.drop(['children', 'adults','babies'], axis='columns', inplace=True) \n",
        "\n",
        "dataset_hotels_test['cant_personas'] = dataset_hotels_test['children'].fillna(0) + dataset_hotels_test['adults'].fillna(0) + dataset_hotels_test['babies'].fillna(0)\n",
        "dataset_hotels_test['cant_personas'] = dataset_hotels_test['cant_personas'].astype('int')\n",
        "dataset_hotels_test.drop(['children', 'adults','babies'], axis='columns', inplace=True) "
      ]
    },
    {
      "cell_type": "code",
      "execution_count": 1188,
      "metadata": {
        "id": "k9oivcskaYoq"
      },
      "outputs": [],
      "source": [
        "dataset_hotels_train['company'] = dataset_hotels_train['company'].fillna('ninguno')\n",
        "dataset_hotels_test['company'] = dataset_hotels_test['company'].fillna('ninguno')"
      ]
    },
    {
      "cell_type": "code",
      "execution_count": 1189,
      "metadata": {
        "id": "MCS7skO7f05m"
      },
      "outputs": [],
      "source": [
        "dataset_hotels_train['agent'] = dataset_hotels_train['agent'].fillna('desconocida')\n",
        "dataset_hotels_test['agent'] = dataset_hotels_test['agent'].fillna('desconocida')"
      ]
    },
    {
      "cell_type": "code",
      "execution_count": 1190,
      "metadata": {
        "id": "AjW49-dKjHOl"
      },
      "outputs": [],
      "source": [
        "# agrupo market segment\n",
        "lista_market_segment_mayoritarios = dataset_hotels_train['market_segment'].value_counts().nlargest(5).index.tolist()\n",
        "dataset_hotels_train['market_segment'] = pd.Series(np.where(~dataset_hotels_train['market_segment'].isin(lista_market_segment_mayoritarios), 'otro market', dataset_hotels_train['market_segment']))\n",
        "dataset_hotels_test['market_segment'] = pd.Series(np.where(~dataset_hotels_test['market_segment'].isin(lista_market_segment_mayoritarios), 'otro market', dataset_hotels_test['market_segment']))"
      ]
    },
    {
      "cell_type": "code",
      "source": [
        "# agrupo distribution channel\n",
        "lista_distribution_channel_mayoritarios = dataset_hotels_train['distribution_channel'].value_counts().nlargest(3).index.tolist()\n",
        "dataset_hotels_train['distribution_channel'] = pd.Series(np.where(~dataset_hotels_train['distribution_channel'].isin(lista_distribution_channel_mayoritarios), 'otro distribution channel', dataset_hotels_train['distribution_channel']))\n",
        "dataset_hotels_test['distribution_channel'] = pd.Series(np.where(~dataset_hotels_test['distribution_channel'].isin(lista_distribution_channel_mayoritarios), 'otro distribution channel', dataset_hotels_test['distribution_channel']))"
      ],
      "metadata": {
        "id": "pALzOkwcQLPJ"
      },
      "execution_count": 1191,
      "outputs": []
    },
    {
      "cell_type": "code",
      "source": [
        "# agrupo assigned_room_type\n",
        "lista_paises_mayoritarios = dataset_hotels_train['assigned_room_type'].value_counts().nlargest(3).index.tolist()\n",
        "dataset_hotels_train['assigned_room_type'] = pd.Series(np.where(~dataset_hotels_train['assigned_room_type'].isin(lista_paises_mayoritarios), 'Otro room asignado', dataset_hotels_train['assigned_room_type']))\n",
        "dataset_hotels_test['assigned_room_type'] = pd.Series(np.where(~dataset_hotels_test['assigned_room_type'].isin(lista_paises_mayoritarios), 'Otro room asignado', dataset_hotels_test['assigned_room_type']))"
      ],
      "metadata": {
        "id": "bP5VOefeQke9"
      },
      "execution_count": 1192,
      "outputs": []
    },
    {
      "cell_type": "code",
      "source": [
        "# agrupo reserved_room_type\n",
        "lista_paises_mayoritarios = dataset_hotels_train['reserved_room_type'].value_counts().nlargest(3).index.tolist()\n",
        "dataset_hotels_train['reserved_room_type'] = pd.Series(np.where(~dataset_hotels_train['reserved_room_type'].isin(lista_paises_mayoritarios), 'Otro room reservado', dataset_hotels_train['reserved_room_type']))\n",
        "dataset_hotels_test['reserved_room_type'] = pd.Series(np.where(~dataset_hotels_test['reserved_room_type'].isin(lista_paises_mayoritarios), 'Otro room reservado', dataset_hotels_test['reserved_room_type']))"
      ],
      "metadata": {
        "id": "WC3-fczUQ4Ed"
      },
      "execution_count": 1193,
      "outputs": []
    },
    {
      "cell_type": "code",
      "source": [
        "lista_agent_mayoritarios = dataset_hotels_train['agent'].value_counts().nlargest(4).index.tolist()\n",
        "dataset_hotels_train['agent'] = pd.Series(np.where(~dataset_hotels_train['agent'].isin(lista_agent_mayoritarios), 'otra agencia', dataset_hotels_train['agent']))\n",
        "dataset_hotels_test['agent'] = pd.Series(np.where(~dataset_hotels_test['agent'].isin(lista_agent_mayoritarios), 'otra agencia', dataset_hotels_test['agent']))"
      ],
      "metadata": {
        "id": "jvH-ppY3SBiD"
      },
      "execution_count": 1194,
      "outputs": []
    },
    {
      "cell_type": "code",
      "source": [
        "lista_company_mayoritarios = dataset_hotels_train['company'].value_counts().nlargest(1).index.tolist()\n",
        "dataset_hotels_train['company'] = pd.Series(np.where(~dataset_hotels_train['company'].isin(lista_company_mayoritarios), 'con compay', dataset_hotels_train['company']))\n",
        "dataset_hotels_test['company'] = pd.Series(np.where(~dataset_hotels_test['company'].isin(lista_company_mayoritarios), 'con compay', dataset_hotels_test['company']))"
      ],
      "metadata": {
        "id": "xMonLkeOS5KH"
      },
      "execution_count": 1195,
      "outputs": []
    },
    {
      "cell_type": "code",
      "source": [
        "lista_paises_mayoritarios = dataset_hotels_train['country'].value_counts().nlargest(5).index.tolist()\n",
        "dataset_hotels_train['country'] = pd.Series(np.where(~dataset_hotels_train['country'].isin(lista_paises_mayoritarios), 'Otro Pais', dataset_hotels_train['country']))\n",
        "dataset_hotels_test['country'] = pd.Series(np.where(~dataset_hotels_test['country'].isin(lista_paises_mayoritarios), 'Otro Pais', dataset_hotels_test['country']))"
      ],
      "metadata": {
        "id": "8Yew3Fi3TM7g"
      },
      "execution_count": 1196,
      "outputs": []
    },
    {
      "cell_type": "code",
      "source": [
        "max_stays_in_weekend_nights = dataset_hotels_train['stays_in_weekend_nights'].value_counts().nlargest(3).index.tolist()\n",
        "dataset_hotels_train['stays_in_weekend_nights'] = pd.Series(np.where(~dataset_hotels_train['stays_in_weekend_nights'].isin(max_stays_in_weekend_nights), 'muchos dias', dataset_hotels_train['stays_in_weekend_nights']))\n",
        "dataset_hotels_test['stays_in_weekend_nights'] = pd.Series(np.where(~dataset_hotels_test['stays_in_weekend_nights'].isin(max_stays_in_weekend_nights), 'muchos dias', dataset_hotels_test['stays_in_weekend_nights']))"
      ],
      "metadata": {
        "id": "e2wr2bwyT6MT"
      },
      "execution_count": 1197,
      "outputs": []
    },
    {
      "cell_type": "code",
      "source": [
        "max_stays_in_week_nights = dataset_hotels_train['stays_in_week_nights'].value_counts().nlargest(6).index.tolist()\n",
        "dataset_hotels_train['stays_in_week_nights'] = pd.Series(np.where(~dataset_hotels_train['stays_in_week_nights'].isin(max_stays_in_week_nights), 'muchos dias', dataset_hotels_train['stays_in_week_nights']))\n",
        "dataset_hotels_test['stays_in_week_nights'] = pd.Series(np.where(~dataset_hotels_test['stays_in_week_nights'].isin(max_stays_in_week_nights), 'muchos dias', dataset_hotels_test['stays_in_week_nights']))"
      ],
      "metadata": {
        "id": "DSB7crRRUZYf"
      },
      "execution_count": 1198,
      "outputs": []
    },
    {
      "cell_type": "code",
      "execution_count": 1199,
      "metadata": {
        "id": "_clGG0FDgqR1"
      },
      "outputs": [],
      "source": [
        "dataset_hotels_train = dataset_hotels_train.reindex(sorted(dataset_hotels_train.columns), axis=1)\n",
        "dataset_hotels_test = dataset_hotels_test.reindex(sorted(dataset_hotels_test.columns), axis=1)"
      ]
    },
    {
      "cell_type": "code",
      "source": [
        "dataset_hotels_train = pd.get_dummies(dataset_hotels_train)\n",
        "dataset_hotels_test = pd.get_dummies(dataset_hotels_test)"
      ],
      "metadata": {
        "id": "svWN-NwYVFCB"
      },
      "execution_count": 1200,
      "outputs": []
    },
    {
      "cell_type": "code",
      "source": [
        "dataset_hotels_train.shape"
      ],
      "metadata": {
        "colab": {
          "base_uri": "https://localhost:8080/"
        },
        "id": "VGA5ZZlqWJlk",
        "outputId": "c0605d3e-09ca-449b-d595-0288dcc91e9e"
      },
      "execution_count": 1201,
      "outputs": [
        {
          "output_type": "execute_result",
          "data": {
            "text/plain": [
              "(61913, 67)"
            ]
          },
          "metadata": {},
          "execution_count": 1201
        }
      ]
    },
    {
      "cell_type": "code",
      "source": [
        "dataset_hotels_test.shape"
      ],
      "metadata": {
        "colab": {
          "base_uri": "https://localhost:8080/"
        },
        "id": "nhaVbiEQVkwC",
        "outputId": "98545bac-bbab-4175-f4d5-8cecbc164bdc"
      },
      "execution_count": 1202,
      "outputs": [
        {
          "output_type": "execute_result",
          "data": {
            "text/plain": [
              "(26535, 66)"
            ]
          },
          "metadata": {},
          "execution_count": 1202
        }
      ]
    },
    {
      "cell_type": "code",
      "source": [],
      "metadata": {
        "id": "cff5l_E9W6VV"
      },
      "execution_count": 1202,
      "outputs": []
    },
    {
      "cell_type": "code",
      "source": [
        "columnas_numericas = dataset_hotels_train.select_dtypes(include=np.number).columns.tolist()\n",
        "columnas_numericas"
      ],
      "metadata": {
        "colab": {
          "base_uri": "https://localhost:8080/"
        },
        "id": "UJAeggtUkIds",
        "outputId": "1416e255-07b3-4017-a49f-4d049f0a132c"
      },
      "execution_count": 1203,
      "outputs": [
        {
          "output_type": "execute_result",
          "data": {
            "text/plain": [
              "['adr',\n",
              " 'booking_changes',\n",
              " 'cant_personas',\n",
              " 'days_in_waiting_list',\n",
              " 'is_canceled',\n",
              " 'is_repeated_guest',\n",
              " 'lead_time',\n",
              " 'previous_bookings_not_canceled',\n",
              " 'previous_cancellations',\n",
              " 'required_car_parking_spaces',\n",
              " 'total_of_special_requests',\n",
              " 'agent_1.0',\n",
              " 'agent_9.0',\n",
              " 'agent_240.0',\n",
              " 'agent_desconocida',\n",
              " 'agent_otra agencia',\n",
              " 'assigned_room_type_A',\n",
              " 'assigned_room_type_D',\n",
              " 'assigned_room_type_E',\n",
              " 'assigned_room_type_Otro room asignado',\n",
              " 'company_con compay',\n",
              " 'company_ninguno',\n",
              " 'country_DEU',\n",
              " 'country_ESP',\n",
              " 'country_FRA',\n",
              " 'country_GBR',\n",
              " 'country_Otro Pais',\n",
              " 'country_PRT',\n",
              " 'customer_type_Contract',\n",
              " 'customer_type_Group',\n",
              " 'customer_type_Transient',\n",
              " 'customer_type_Transient-Party',\n",
              " 'deposit_type_No Deposit',\n",
              " 'deposit_type_Non Refund',\n",
              " 'deposit_type_Refundable',\n",
              " 'distribution_channel_Corporate',\n",
              " 'distribution_channel_Direct',\n",
              " 'distribution_channel_TA/TO',\n",
              " 'distribution_channel_otro distribution channel',\n",
              " 'hotel_City Hotel',\n",
              " 'hotel_Resort Hotel',\n",
              " 'market_segment_Corporate',\n",
              " 'market_segment_Direct',\n",
              " 'market_segment_Groups',\n",
              " 'market_segment_Offline TA/TO',\n",
              " 'market_segment_Online TA',\n",
              " 'market_segment_otro market',\n",
              " 'meal_BB',\n",
              " 'meal_FB',\n",
              " 'meal_HB',\n",
              " 'meal_SC',\n",
              " 'meal_Undefined',\n",
              " 'reserved_room_type_A',\n",
              " 'reserved_room_type_D',\n",
              " 'reserved_room_type_E',\n",
              " 'reserved_room_type_Otro room reservado',\n",
              " 'stays_in_week_nights_0',\n",
              " 'stays_in_week_nights_1',\n",
              " 'stays_in_week_nights_2',\n",
              " 'stays_in_week_nights_3',\n",
              " 'stays_in_week_nights_4',\n",
              " 'stays_in_week_nights_5',\n",
              " 'stays_in_week_nights_muchos dias',\n",
              " 'stays_in_weekend_nights_0',\n",
              " 'stays_in_weekend_nights_1',\n",
              " 'stays_in_weekend_nights_2',\n",
              " 'stays_in_weekend_nights_muchos dias']"
            ]
          },
          "metadata": {},
          "execution_count": 1203
        }
      ]
    },
    {
      "cell_type": "code",
      "source": [
        "# ('deposit_type_Non Refund', 0.4832999708392823),\n",
        "#  ('country_PRT', 0.21609827450349273),\n",
        "#  ('lead_time', 0.11912688227209116),\n",
        "#  ('agent_otra agencia', 0.10541081115271925),\n",
        "#  ('required_car_parking_spaces', 0.07225536124981723),\n",
        "#  ('country_DEU', 0.0025763405076474287),\n",
        "#  ('customer_type_Transient', 0.0011653971216939812),\n",
        "#  ('cant_personas', 5.799439492464228e-05),\n",
        "#  ('adr', 8.967958331353874e-06),"
      ],
      "metadata": {
        "id": "O0uZl7_mIn_X"
      },
      "execution_count": 1204,
      "outputs": []
    },
    {
      "cell_type": "code",
      "source": [
        "dataset_hotels_train = pd.get_dummies(dataset_hotels_train, drop_first=True)\n",
        "dataset_hotels_test = pd.get_dummies(dataset_hotels_test, drop_first=True)"
      ],
      "metadata": {
        "id": "fph86KHweBWa"
      },
      "execution_count": 1205,
      "outputs": []
    },
    {
      "cell_type": "code",
      "source": [
        "columnas_filtrar_red_dim = ['deposit_type_Non Refund','country_PRT','lead_time','agent_otra agencia','required_car_parking_spaces','country_DEU','customer_type_Transient','cant_personas','adr']"
      ],
      "metadata": {
        "id": "KVIHupvA2WIb"
      },
      "execution_count": 1206,
      "outputs": []
    },
    {
      "cell_type": "code",
      "source": [
        "dataset_hotels_train = dataset_hotels_train[columnas_filtrar_red_dim + ['is_canceled']]\n",
        "dataset_hotels_test = dataset_hotels_test[columnas_filtrar_red_dim]"
      ],
      "metadata": {
        "id": "9UeqEgQhJd83"
      },
      "execution_count": 1207,
      "outputs": []
    },
    {
      "cell_type": "code",
      "source": [
        "dataset_hotels_train.describe()"
      ],
      "metadata": {
        "colab": {
          "base_uri": "https://localhost:8080/",
          "height": 381
        },
        "id": "3EOoIegBXTBj",
        "outputId": "bbe9d53b-e0a6-4843-ada9-cbabf8041e72"
      },
      "execution_count": 1208,
      "outputs": [
        {
          "output_type": "execute_result",
          "data": {
            "text/plain": [
              "       deposit_type_Non Refund  country_PRT     lead_time  agent_otra agencia  \\\n",
              "count             61913.000000  61913.00000  61913.000000        61913.000000   \n",
              "mean                  0.163940      0.45144    112.248187            0.407168   \n",
              "std                   0.370224      0.49764    110.717953            0.491311   \n",
              "min                   0.000000      0.00000      0.000000            0.000000   \n",
              "25%                   0.000000      0.00000     23.000000            0.000000   \n",
              "50%                   0.000000      0.00000     78.000000            0.000000   \n",
              "75%                   0.000000      1.00000    172.000000            1.000000   \n",
              "max                   1.000000      1.00000    629.000000            1.000000   \n",
              "\n",
              "       required_car_parking_spaces   country_DEU  customer_type_Transient  \\\n",
              "count                 61913.000000  61913.000000             61913.000000   \n",
              "mean                      0.049957      0.053494                 0.766382   \n",
              "std                       0.221023      0.225019                 0.423135   \n",
              "min                       0.000000      0.000000                 0.000000   \n",
              "25%                       0.000000      0.000000                 1.000000   \n",
              "50%                       0.000000      0.000000                 1.000000   \n",
              "75%                       0.000000      0.000000                 1.000000   \n",
              "max                       8.000000      1.000000                 1.000000   \n",
              "\n",
              "       cant_personas           adr   is_canceled  \n",
              "count   61913.000000  61913.000000  61913.000000  \n",
              "mean        1.974836    102.383773      0.499750  \n",
              "std         0.731700     47.757640      0.500004  \n",
              "min         0.000000     -6.380000      0.000000  \n",
              "25%         2.000000     70.000000      0.000000  \n",
              "50%         2.000000     95.000000      0.000000  \n",
              "75%         2.000000    126.000000      1.000000  \n",
              "max        55.000000    510.000000      1.000000  "
            ],
            "text/html": [
              "\n",
              "  <div id=\"df-d7ddd7bf-fd89-4b29-859d-0ab9451ef95b\">\n",
              "    <div class=\"colab-df-container\">\n",
              "      <div>\n",
              "<style scoped>\n",
              "    .dataframe tbody tr th:only-of-type {\n",
              "        vertical-align: middle;\n",
              "    }\n",
              "\n",
              "    .dataframe tbody tr th {\n",
              "        vertical-align: top;\n",
              "    }\n",
              "\n",
              "    .dataframe thead th {\n",
              "        text-align: right;\n",
              "    }\n",
              "</style>\n",
              "<table border=\"1\" class=\"dataframe\">\n",
              "  <thead>\n",
              "    <tr style=\"text-align: right;\">\n",
              "      <th></th>\n",
              "      <th>deposit_type_Non Refund</th>\n",
              "      <th>country_PRT</th>\n",
              "      <th>lead_time</th>\n",
              "      <th>agent_otra agencia</th>\n",
              "      <th>required_car_parking_spaces</th>\n",
              "      <th>country_DEU</th>\n",
              "      <th>customer_type_Transient</th>\n",
              "      <th>cant_personas</th>\n",
              "      <th>adr</th>\n",
              "      <th>is_canceled</th>\n",
              "    </tr>\n",
              "  </thead>\n",
              "  <tbody>\n",
              "    <tr>\n",
              "      <th>count</th>\n",
              "      <td>61913.000000</td>\n",
              "      <td>61913.00000</td>\n",
              "      <td>61913.000000</td>\n",
              "      <td>61913.000000</td>\n",
              "      <td>61913.000000</td>\n",
              "      <td>61913.000000</td>\n",
              "      <td>61913.000000</td>\n",
              "      <td>61913.000000</td>\n",
              "      <td>61913.000000</td>\n",
              "      <td>61913.000000</td>\n",
              "    </tr>\n",
              "    <tr>\n",
              "      <th>mean</th>\n",
              "      <td>0.163940</td>\n",
              "      <td>0.45144</td>\n",
              "      <td>112.248187</td>\n",
              "      <td>0.407168</td>\n",
              "      <td>0.049957</td>\n",
              "      <td>0.053494</td>\n",
              "      <td>0.766382</td>\n",
              "      <td>1.974836</td>\n",
              "      <td>102.383773</td>\n",
              "      <td>0.499750</td>\n",
              "    </tr>\n",
              "    <tr>\n",
              "      <th>std</th>\n",
              "      <td>0.370224</td>\n",
              "      <td>0.49764</td>\n",
              "      <td>110.717953</td>\n",
              "      <td>0.491311</td>\n",
              "      <td>0.221023</td>\n",
              "      <td>0.225019</td>\n",
              "      <td>0.423135</td>\n",
              "      <td>0.731700</td>\n",
              "      <td>47.757640</td>\n",
              "      <td>0.500004</td>\n",
              "    </tr>\n",
              "    <tr>\n",
              "      <th>min</th>\n",
              "      <td>0.000000</td>\n",
              "      <td>0.00000</td>\n",
              "      <td>0.000000</td>\n",
              "      <td>0.000000</td>\n",
              "      <td>0.000000</td>\n",
              "      <td>0.000000</td>\n",
              "      <td>0.000000</td>\n",
              "      <td>0.000000</td>\n",
              "      <td>-6.380000</td>\n",
              "      <td>0.000000</td>\n",
              "    </tr>\n",
              "    <tr>\n",
              "      <th>25%</th>\n",
              "      <td>0.000000</td>\n",
              "      <td>0.00000</td>\n",
              "      <td>23.000000</td>\n",
              "      <td>0.000000</td>\n",
              "      <td>0.000000</td>\n",
              "      <td>0.000000</td>\n",
              "      <td>1.000000</td>\n",
              "      <td>2.000000</td>\n",
              "      <td>70.000000</td>\n",
              "      <td>0.000000</td>\n",
              "    </tr>\n",
              "    <tr>\n",
              "      <th>50%</th>\n",
              "      <td>0.000000</td>\n",
              "      <td>0.00000</td>\n",
              "      <td>78.000000</td>\n",
              "      <td>0.000000</td>\n",
              "      <td>0.000000</td>\n",
              "      <td>0.000000</td>\n",
              "      <td>1.000000</td>\n",
              "      <td>2.000000</td>\n",
              "      <td>95.000000</td>\n",
              "      <td>0.000000</td>\n",
              "    </tr>\n",
              "    <tr>\n",
              "      <th>75%</th>\n",
              "      <td>0.000000</td>\n",
              "      <td>1.00000</td>\n",
              "      <td>172.000000</td>\n",
              "      <td>1.000000</td>\n",
              "      <td>0.000000</td>\n",
              "      <td>0.000000</td>\n",
              "      <td>1.000000</td>\n",
              "      <td>2.000000</td>\n",
              "      <td>126.000000</td>\n",
              "      <td>1.000000</td>\n",
              "    </tr>\n",
              "    <tr>\n",
              "      <th>max</th>\n",
              "      <td>1.000000</td>\n",
              "      <td>1.00000</td>\n",
              "      <td>629.000000</td>\n",
              "      <td>1.000000</td>\n",
              "      <td>8.000000</td>\n",
              "      <td>1.000000</td>\n",
              "      <td>1.000000</td>\n",
              "      <td>55.000000</td>\n",
              "      <td>510.000000</td>\n",
              "      <td>1.000000</td>\n",
              "    </tr>\n",
              "  </tbody>\n",
              "</table>\n",
              "</div>\n",
              "      <button class=\"colab-df-convert\" onclick=\"convertToInteractive('df-d7ddd7bf-fd89-4b29-859d-0ab9451ef95b')\"\n",
              "              title=\"Convert this dataframe to an interactive table.\"\n",
              "              style=\"display:none;\">\n",
              "        \n",
              "  <svg xmlns=\"http://www.w3.org/2000/svg\" height=\"24px\"viewBox=\"0 0 24 24\"\n",
              "       width=\"24px\">\n",
              "    <path d=\"M0 0h24v24H0V0z\" fill=\"none\"/>\n",
              "    <path d=\"M18.56 5.44l.94 2.06.94-2.06 2.06-.94-2.06-.94-.94-2.06-.94 2.06-2.06.94zm-11 1L8.5 8.5l.94-2.06 2.06-.94-2.06-.94L8.5 2.5l-.94 2.06-2.06.94zm10 10l.94 2.06.94-2.06 2.06-.94-2.06-.94-.94-2.06-.94 2.06-2.06.94z\"/><path d=\"M17.41 7.96l-1.37-1.37c-.4-.4-.92-.59-1.43-.59-.52 0-1.04.2-1.43.59L10.3 9.45l-7.72 7.72c-.78.78-.78 2.05 0 2.83L4 21.41c.39.39.9.59 1.41.59.51 0 1.02-.2 1.41-.59l7.78-7.78 2.81-2.81c.8-.78.8-2.07 0-2.86zM5.41 20L4 18.59l7.72-7.72 1.47 1.35L5.41 20z\"/>\n",
              "  </svg>\n",
              "      </button>\n",
              "      \n",
              "  <style>\n",
              "    .colab-df-container {\n",
              "      display:flex;\n",
              "      flex-wrap:wrap;\n",
              "      gap: 12px;\n",
              "    }\n",
              "\n",
              "    .colab-df-convert {\n",
              "      background-color: #E8F0FE;\n",
              "      border: none;\n",
              "      border-radius: 50%;\n",
              "      cursor: pointer;\n",
              "      display: none;\n",
              "      fill: #1967D2;\n",
              "      height: 32px;\n",
              "      padding: 0 0 0 0;\n",
              "      width: 32px;\n",
              "    }\n",
              "\n",
              "    .colab-df-convert:hover {\n",
              "      background-color: #E2EBFA;\n",
              "      box-shadow: 0px 1px 2px rgba(60, 64, 67, 0.3), 0px 1px 3px 1px rgba(60, 64, 67, 0.15);\n",
              "      fill: #174EA6;\n",
              "    }\n",
              "\n",
              "    [theme=dark] .colab-df-convert {\n",
              "      background-color: #3B4455;\n",
              "      fill: #D2E3FC;\n",
              "    }\n",
              "\n",
              "    [theme=dark] .colab-df-convert:hover {\n",
              "      background-color: #434B5C;\n",
              "      box-shadow: 0px 1px 3px 1px rgba(0, 0, 0, 0.15);\n",
              "      filter: drop-shadow(0px 1px 2px rgba(0, 0, 0, 0.3));\n",
              "      fill: #FFFFFF;\n",
              "    }\n",
              "  </style>\n",
              "\n",
              "      <script>\n",
              "        const buttonEl =\n",
              "          document.querySelector('#df-d7ddd7bf-fd89-4b29-859d-0ab9451ef95b button.colab-df-convert');\n",
              "        buttonEl.style.display =\n",
              "          google.colab.kernel.accessAllowed ? 'block' : 'none';\n",
              "\n",
              "        async function convertToInteractive(key) {\n",
              "          const element = document.querySelector('#df-d7ddd7bf-fd89-4b29-859d-0ab9451ef95b');\n",
              "          const dataTable =\n",
              "            await google.colab.kernel.invokeFunction('convertToInteractive',\n",
              "                                                     [key], {});\n",
              "          if (!dataTable) return;\n",
              "\n",
              "          const docLinkHtml = 'Like what you see? Visit the ' +\n",
              "            '<a target=\"_blank\" href=https://colab.research.google.com/notebooks/data_table.ipynb>data table notebook</a>'\n",
              "            + ' to learn more about interactive tables.';\n",
              "          element.innerHTML = '';\n",
              "          dataTable['output_type'] = 'display_data';\n",
              "          await google.colab.output.renderOutput(dataTable, element);\n",
              "          const docLink = document.createElement('div');\n",
              "          docLink.innerHTML = docLinkHtml;\n",
              "          element.appendChild(docLink);\n",
              "        }\n",
              "      </script>\n",
              "    </div>\n",
              "  </div>\n",
              "  "
            ]
          },
          "metadata": {},
          "execution_count": 1208
        }
      ]
    },
    {
      "cell_type": "code",
      "source": [
        "columnas_a_normalizar = ['lead_time','adr','cant_personas','required_car_parking_spaces']"
      ],
      "metadata": {
        "id": "p8__OuS9YLmy"
      },
      "execution_count": 1209,
      "outputs": []
    },
    {
      "cell_type": "code",
      "source": [
        "dataset_hotels_train.shape"
      ],
      "metadata": {
        "colab": {
          "base_uri": "https://localhost:8080/"
        },
        "id": "Pzu32nxwhBOk",
        "outputId": "5c8ecfa9-149b-41f7-e7e1-6b799cdf0667"
      },
      "execution_count": 1210,
      "outputs": [
        {
          "output_type": "execute_result",
          "data": {
            "text/plain": [
              "(61913, 10)"
            ]
          },
          "metadata": {},
          "execution_count": 1210
        }
      ]
    },
    {
      "cell_type": "code",
      "source": [
        "stand_scaler = StandardScaler()\n",
        "x_train_norm = pd.DataFrame(stand_scaler.fit_transform(dataset_hotels_train[columnas_a_normalizar]))\n",
        "x_train_norm.columns = columnas_a_normalizar\n",
        "dataset_hotels_train[columnas_a_normalizar] = x_train_norm[columnas_a_normalizar]\n",
        "\n"
      ],
      "metadata": {
        "id": "4tBMj8ppaS-T"
      },
      "execution_count": 1211,
      "outputs": []
    },
    {
      "cell_type": "code",
      "source": [
        "x_test_norm = pd.DataFrame(stand_scaler.transform(dataset_hotels_test[columnas_a_normalizar]))\n",
        "x_test_norm.columns = columnas_a_normalizar\n",
        "dataset_hotels_test[columnas_a_normalizar] = x_test_norm[columnas_a_normalizar]"
      ],
      "metadata": {
        "id": "BMW2woLebTRC"
      },
      "execution_count": 1212,
      "outputs": []
    },
    {
      "cell_type": "markdown",
      "source": [
        "##Seperato test / train"
      ],
      "metadata": {
        "id": "HpiSbzdsdGlv"
      }
    },
    {
      "cell_type": "code",
      "source": [
        "x_train, x_test, y_train, y_test = train_test_split(dataset_hotels_train.drop(columns = 'is_canceled'),dataset_hotels_train['is_canceled'],test_size=0.3)"
      ],
      "metadata": {
        "id": "StSCCSxRg61F"
      },
      "execution_count": 1213,
      "outputs": []
    },
    {
      "cell_type": "code",
      "source": [
        "dataset_hotels_test.shape"
      ],
      "metadata": {
        "colab": {
          "base_uri": "https://localhost:8080/"
        },
        "id": "RDeeLD4w2L_V",
        "outputId": "ecdf0edc-d05e-4aaa-dd67-01dbe81a0ed1"
      },
      "execution_count": 1214,
      "outputs": [
        {
          "output_type": "execute_result",
          "data": {
            "text/plain": [
              "(26535, 9)"
            ]
          },
          "metadata": {},
          "execution_count": 1214
        }
      ]
    },
    {
      "cell_type": "markdown",
      "source": [
        "#MODELO"
      ],
      "metadata": {
        "id": "WVAPlFBMnqUC"
      }
    },
    {
      "cell_type": "code",
      "source": [
        "from keras import backend as K\n",
        "\n",
        "def get_f1(y_true, y_pred): #taken from old keras source code\n",
        "    true_positives = K.sum(K.round(K.clip(y_true * y_pred, 0, 1)))\n",
        "    possible_positives = K.sum(K.round(K.clip(y_true, 0, 1)))\n",
        "    predicted_positives = K.sum(K.round(K.clip(y_pred, 0, 1)))\n",
        "    precision = true_positives / (predicted_positives + K.epsilon())\n",
        "    recall = true_positives / (possible_positives + K.epsilon())\n",
        "    f1_val = 2*(precision*recall)/(precision+recall+K.epsilon())\n",
        "    return f1_val\n"
      ],
      "metadata": {
        "id": "_LHWPX06kkOa"
      },
      "execution_count": 1215,
      "outputs": []
    },
    {
      "cell_type": "code",
      "source": [
        "# Create the sklearn model for the network\n",
        "cant_clases = 2\n",
        "d_in=len(x_train.columns)\n",
        "def create_model():\n",
        "    modelo= keras.Sequential([\n",
        "    keras.layers.Dense(2,input_shape=(d_in,), activation='relu',kernel_initializer='uniform'),\n",
        "    keras.layers.Dense(cant_clases, activation='softmax'),\n",
        "    keras.layers.Dense(cant_clases, activation='softmax'),\n",
        "    keras.layers.Dense(cant_clases, activation='softmax'),\n",
        "    keras.layers.Dense(cant_clases, activation='softmax'),\n",
        "    keras.layers.Dense(cant_clases, activation='softmax')\n",
        "    ])\n",
        "    \n",
        "    modelo.compile(\n",
        "      optimizer=keras.optimizers.Adam(learning_rate=0.01, beta_1=0.9,beta_2=0.999),\n",
        "      loss='categorical_crossentropy', \n",
        "      metrics=[get_f1, 'accuracy'], \n",
        "    )\n",
        "    \n",
        "\n",
        "    return modelo\n",
        "\n",
        "modelo_cv = KerasClassifier(build_fn=create_model, verbose=100)"
      ],
      "metadata": {
        "colab": {
          "base_uri": "https://localhost:8080/"
        },
        "id": "Y_kZXE3snmIu",
        "outputId": "b1865c75-57df-4dd1-a8fe-6a14a5b3cee8"
      },
      "execution_count": 1216,
      "outputs": [
        {
          "output_type": "stream",
          "name": "stderr",
          "text": [
            "<ipython-input-1216-f6c22c58b495>:23: DeprecationWarning: KerasClassifier is deprecated, use Sci-Keras (https://github.com/adriangb/scikeras) instead. See https://www.adriangb.com/scikeras/stable/migration.html for help migrating.\n",
            "  modelo_cv = KerasClassifier(build_fn=create_model, verbose=100)\n"
          ]
        }
      ]
    },
    {
      "cell_type": "code",
      "source": [
        "from sklearn.model_selection import GridSearchCV\n",
        "\n",
        "param_grid={'batch_size': [8,16,32, 64, 128], \n",
        "            'nb_epoch':[3, 5, 7]}\n",
        "\n",
        "print(param_grid)\n",
        "\n",
        "\n",
        "grid = GridSearchCV(estimator=modelo_cv, param_grid=param_grid, scoring='f1', cv=5, verbose=100)\n",
        "grid_result = grid.fit(x_train, y_train)"
      ],
      "metadata": {
        "colab": {
          "base_uri": "https://localhost:8080/"
        },
        "id": "-DHOnlxnoUgw",
        "outputId": "c569028d-b9da-486d-ba43-e81b51fb8bfb"
      },
      "execution_count": 1217,
      "outputs": [
        {
          "output_type": "stream",
          "name": "stdout",
          "text": [
            "{'batch_size': [8, 16, 32, 64, 128], 'nb_epoch': [3, 5, 7]}\n",
            "Fitting 5 folds for each of 15 candidates, totalling 75 fits\n",
            "[CV 1/5; 1/15] START batch_size=8, nb_epoch=3...................................\n",
            "271/271 [==============================] - 0s 1ms/step\n",
            "[CV 1/5; 1/15] END ....batch_size=8, nb_epoch=3;, score=0.696 total time=  12.1s\n",
            "[CV 2/5; 1/15] START batch_size=8, nb_epoch=3...................................\n",
            "271/271 [==============================] - 0s 1ms/step\n",
            "[CV 2/5; 1/15] END ....batch_size=8, nb_epoch=3;, score=0.804 total time=  12.1s\n",
            "[CV 3/5; 1/15] START batch_size=8, nb_epoch=3...................................\n",
            "271/271 [==============================] - 0s 1ms/step\n",
            "[CV 3/5; 1/15] END ....batch_size=8, nb_epoch=3;, score=0.778 total time=  12.1s\n",
            "[CV 4/5; 1/15] START batch_size=8, nb_epoch=3...................................\n",
            "271/271 [==============================] - 1s 2ms/step\n",
            "[CV 4/5; 1/15] END ....batch_size=8, nb_epoch=3;, score=0.782 total time=   8.8s\n",
            "[CV 5/5; 1/15] START batch_size=8, nb_epoch=3...................................\n",
            "271/271 [==============================] - 1s 2ms/step\n",
            "[CV 5/5; 1/15] END ....batch_size=8, nb_epoch=3;, score=0.790 total time=  12.6s\n",
            "[CV 1/5; 2/15] START batch_size=8, nb_epoch=5...................................\n",
            "271/271 [==============================] - 1s 3ms/step\n",
            "[CV 1/5; 2/15] END ....batch_size=8, nb_epoch=5;, score=0.802 total time=   9.9s\n",
            "[CV 2/5; 2/15] START batch_size=8, nb_epoch=5...................................\n",
            "271/271 [==============================] - 0s 1ms/step\n",
            "[CV 2/5; 2/15] END ....batch_size=8, nb_epoch=5;, score=0.694 total time= 1.9min\n",
            "[CV 3/5; 2/15] START batch_size=8, nb_epoch=5...................................\n",
            "271/271 [==============================] - 1s 3ms/step\n",
            "[CV 3/5; 2/15] END ....batch_size=8, nb_epoch=5;, score=0.805 total time=  13.2s\n",
            "[CV 4/5; 2/15] START batch_size=8, nb_epoch=5...................................\n",
            "271/271 [==============================] - 0s 1ms/step\n",
            "[CV 4/5; 2/15] END ....batch_size=8, nb_epoch=5;, score=0.791 total time=   9.6s\n",
            "[CV 5/5; 2/15] START batch_size=8, nb_epoch=5...................................\n",
            "271/271 [==============================] - 0s 1ms/step\n",
            "[CV 5/5; 2/15] END ....batch_size=8, nb_epoch=5;, score=0.813 total time=   8.4s\n",
            "[CV 1/5; 3/15] START batch_size=8, nb_epoch=7...................................\n",
            "271/271 [==============================] - 0s 1ms/step\n",
            "[CV 1/5; 3/15] END ....batch_size=8, nb_epoch=7;, score=0.785 total time=   9.4s\n",
            "[CV 2/5; 3/15] START batch_size=8, nb_epoch=7...................................\n",
            "271/271 [==============================] - 0s 1ms/step\n",
            "[CV 2/5; 3/15] END ....batch_size=8, nb_epoch=7;, score=0.788 total time=   9.4s\n",
            "[CV 3/5; 3/15] START batch_size=8, nb_epoch=7...................................\n",
            "271/271 [==============================] - 1s 2ms/step\n",
            "[CV 3/5; 3/15] END ....batch_size=8, nb_epoch=7;, score=0.773 total time=  10.0s\n",
            "[CV 4/5; 3/15] START batch_size=8, nb_epoch=7...................................\n",
            "271/271 [==============================] - 0s 1ms/step\n",
            "[CV 4/5; 3/15] END ....batch_size=8, nb_epoch=7;, score=0.651 total time=   8.4s\n",
            "[CV 5/5; 3/15] START batch_size=8, nb_epoch=7...................................\n",
            "271/271 [==============================] - 0s 1ms/step\n",
            "[CV 5/5; 3/15] END ....batch_size=8, nb_epoch=7;, score=0.714 total time=  12.5s\n",
            "[CV 1/5; 4/15] START batch_size=16, nb_epoch=3..................................\n",
            "271/271 [==============================] - 0s 1ms/step\n",
            "[CV 1/5; 4/15] END ...batch_size=16, nb_epoch=3;, score=0.803 total time=   7.1s\n",
            "[CV 2/5; 4/15] START batch_size=16, nb_epoch=3..................................\n",
            "271/271 [==============================] - 1s 2ms/step\n",
            "[CV 2/5; 4/15] END ...batch_size=16, nb_epoch=3;, score=0.805 total time=   7.1s\n",
            "[CV 3/5; 4/15] START batch_size=16, nb_epoch=3..................................\n",
            "271/271 [==============================] - 0s 1ms/step\n",
            "[CV 3/5; 4/15] END ...batch_size=16, nb_epoch=3;, score=0.765 total time=   6.0s\n",
            "[CV 4/5; 4/15] START batch_size=16, nb_epoch=3..................................\n",
            "271/271 [==============================] - 0s 1ms/step\n",
            "[CV 4/5; 4/15] END ...batch_size=16, nb_epoch=3;, score=0.788 total time=   5.6s\n",
            "[CV 5/5; 4/15] START batch_size=16, nb_epoch=3..................................\n",
            "271/271 [==============================] - 0s 1ms/step\n",
            "[CV 5/5; 4/15] END ...batch_size=16, nb_epoch=3;, score=0.710 total time=   7.3s\n",
            "[CV 1/5; 5/15] START batch_size=16, nb_epoch=5..................................\n",
            "271/271 [==============================] - 1s 2ms/step\n",
            "[CV 1/5; 5/15] END ...batch_size=16, nb_epoch=5;, score=0.775 total time=   7.3s\n",
            "[CV 2/5; 5/15] START batch_size=16, nb_epoch=5..................................\n",
            "271/271 [==============================] - 0s 1ms/step\n",
            "[CV 2/5; 5/15] END ...batch_size=16, nb_epoch=5;, score=0.785 total time=   5.6s\n",
            "[CV 3/5; 5/15] START batch_size=16, nb_epoch=5..................................\n",
            "271/271 [==============================] - 1s 2ms/step\n",
            "[CV 3/5; 5/15] END ...batch_size=16, nb_epoch=5;, score=0.786 total time=   7.3s\n",
            "[CV 4/5; 5/15] START batch_size=16, nb_epoch=5..................................\n",
            "271/271 [==============================] - 0s 1ms/step\n",
            "[CV 4/5; 5/15] END ...batch_size=16, nb_epoch=5;, score=0.795 total time=   5.4s\n",
            "[CV 5/5; 5/15] START batch_size=16, nb_epoch=5..................................\n",
            "271/271 [==============================] - 0s 1ms/step\n",
            "[CV 5/5; 5/15] END ...batch_size=16, nb_epoch=5;, score=0.767 total time=   7.0s\n",
            "[CV 1/5; 6/15] START batch_size=16, nb_epoch=7..................................\n",
            "271/271 [==============================] - 0s 1ms/step\n",
            "[CV 1/5; 6/15] END ...batch_size=16, nb_epoch=7;, score=0.797 total time=   7.3s\n",
            "[CV 2/5; 6/15] START batch_size=16, nb_epoch=7..................................\n",
            "271/271 [==============================] - 0s 1ms/step\n",
            "[CV 2/5; 6/15] END ...batch_size=16, nb_epoch=7;, score=0.794 total time=   7.2s\n",
            "[CV 3/5; 6/15] START batch_size=16, nb_epoch=7..................................\n",
            "271/271 [==============================] - 0s 1ms/step\n",
            "[CV 3/5; 6/15] END ...batch_size=16, nb_epoch=7;, score=0.766 total time=   7.0s\n",
            "[CV 4/5; 6/15] START batch_size=16, nb_epoch=7..................................\n",
            "271/271 [==============================] - 0s 1ms/step\n",
            "[CV 4/5; 6/15] END ...batch_size=16, nb_epoch=7;, score=0.815 total time=   7.6s\n",
            "[CV 5/5; 6/15] START batch_size=16, nb_epoch=7..................................\n",
            "271/271 [==============================] - 1s 2ms/step\n",
            "[CV 5/5; 6/15] END ...batch_size=16, nb_epoch=7;, score=0.816 total time=   6.4s\n",
            "[CV 1/5; 7/15] START batch_size=32, nb_epoch=3..................................\n",
            "271/271 [==============================] - 0s 1ms/step\n",
            "[CV 1/5; 7/15] END ...batch_size=32, nb_epoch=3;, score=0.801 total time=   4.9s\n",
            "[CV 2/5; 7/15] START batch_size=32, nb_epoch=3..................................\n",
            "271/271 [==============================] - 0s 1ms/step\n",
            "[CV 2/5; 7/15] END ...batch_size=32, nb_epoch=3;, score=0.786 total time=   4.4s\n",
            "[CV 3/5; 7/15] START batch_size=32, nb_epoch=3..................................\n",
            "271/271 [==============================] - 0s 1ms/step\n",
            "[CV 3/5; 7/15] END ...batch_size=32, nb_epoch=3;, score=0.763 total time=   8.2s\n",
            "[CV 4/5; 7/15] START batch_size=32, nb_epoch=3..................................\n",
            "271/271 [==============================] - 0s 1ms/step\n",
            "[CV 4/5; 7/15] END ...batch_size=32, nb_epoch=3;, score=0.747 total time=   4.5s\n",
            "[CV 5/5; 7/15] START batch_size=32, nb_epoch=3..................................\n",
            "271/271 [==============================] - 1s 2ms/step\n",
            "[CV 5/5; 7/15] END ...batch_size=32, nb_epoch=3;, score=0.724 total time=   5.4s\n",
            "[CV 1/5; 8/15] START batch_size=32, nb_epoch=5..................................\n",
            "271/271 [==============================] - 0s 1ms/step\n",
            "[CV 1/5; 8/15] END ...batch_size=32, nb_epoch=5;, score=0.699 total time=   3.9s\n",
            "[CV 2/5; 8/15] START batch_size=32, nb_epoch=5..................................\n",
            "271/271 [==============================] - 0s 1ms/step\n",
            "[CV 2/5; 8/15] END ...batch_size=32, nb_epoch=5;, score=0.788 total time=   3.6s\n",
            "[CV 3/5; 8/15] START batch_size=32, nb_epoch=5..................................\n",
            "271/271 [==============================] - 1s 2ms/step\n",
            "[CV 3/5; 8/15] END ...batch_size=32, nb_epoch=5;, score=0.762 total time=   4.6s\n",
            "[CV 4/5; 8/15] START batch_size=32, nb_epoch=5..................................\n",
            "271/271 [==============================] - 0s 1ms/step\n",
            "[CV 4/5; 8/15] END ...batch_size=32, nb_epoch=5;, score=0.790 total time=   4.7s\n",
            "[CV 5/5; 8/15] START batch_size=32, nb_epoch=5..................................\n",
            "271/271 [==============================] - 0s 1ms/step\n",
            "[CV 5/5; 8/15] END ...batch_size=32, nb_epoch=5;, score=0.758 total time=   3.6s\n",
            "[CV 1/5; 9/15] START batch_size=32, nb_epoch=7..................................\n",
            "271/271 [==============================] - 1s 1ms/step\n",
            "[CV 1/5; 9/15] END ...batch_size=32, nb_epoch=7;, score=0.739 total time=   4.5s\n",
            "[CV 2/5; 9/15] START batch_size=32, nb_epoch=7..................................\n",
            "271/271 [==============================] - 0s 1ms/step\n",
            "[CV 2/5; 9/15] END ...batch_size=32, nb_epoch=7;, score=0.778 total time=   3.6s\n",
            "[CV 3/5; 9/15] START batch_size=32, nb_epoch=7..................................\n",
            "271/271 [==============================] - 0s 1ms/step\n",
            "[CV 3/5; 9/15] END ...batch_size=32, nb_epoch=7;, score=0.794 total time=   3.6s\n",
            "[CV 4/5; 9/15] START batch_size=32, nb_epoch=7..................................\n",
            "271/271 [==============================] - 1s 2ms/step\n",
            "[CV 4/5; 9/15] END ...batch_size=32, nb_epoch=7;, score=0.797 total time=   4.6s\n",
            "[CV 5/5; 9/15] START batch_size=32, nb_epoch=7..................................\n",
            "271/271 [==============================] - 0s 1ms/step\n",
            "[CV 5/5; 9/15] END ...batch_size=32, nb_epoch=7;, score=0.777 total time=   3.8s\n",
            "[CV 1/5; 10/15] START batch_size=64, nb_epoch=3.................................\n",
            "271/271 [==============================] - 0s 1ms/step\n",
            "[CV 1/5; 10/15] END ..batch_size=64, nb_epoch=3;, score=0.792 total time=   4.4s\n",
            "[CV 2/5; 10/15] START batch_size=64, nb_epoch=3.................................\n",
            "271/271 [==============================] - 1s 2ms/step\n",
            "[CV 2/5; 10/15] END ..batch_size=64, nb_epoch=3;, score=0.792 total time=   3.5s\n",
            "[CV 3/5; 10/15] START batch_size=64, nb_epoch=3.................................\n",
            "271/271 [==============================] - 0s 1ms/step\n",
            "[CV 3/5; 10/15] END ..batch_size=64, nb_epoch=3;, score=0.792 total time=   3.7s\n",
            "[CV 4/5; 10/15] START batch_size=64, nb_epoch=3.................................\n",
            "271/271 [==============================] - 0s 1ms/step\n",
            "[CV 4/5; 10/15] END ..batch_size=64, nb_epoch=3;, score=0.701 total time=   3.0s\n",
            "[CV 5/5; 10/15] START batch_size=64, nb_epoch=3.................................\n",
            "271/271 [==============================] - 0s 1ms/step\n",
            "[CV 5/5; 10/15] END ..batch_size=64, nb_epoch=3;, score=0.788 total time=   3.4s\n",
            "[CV 1/5; 11/15] START batch_size=64, nb_epoch=5.................................\n",
            "271/271 [==============================] - 0s 1ms/step\n",
            "[CV 1/5; 11/15] END ..batch_size=64, nb_epoch=5;, score=0.679 total time=   4.7s\n",
            "[CV 2/5; 11/15] START batch_size=64, nb_epoch=5.................................\n",
            "271/271 [==============================] - 0s 1ms/step\n",
            "[CV 2/5; 11/15] END ..batch_size=64, nb_epoch=5;, score=0.800 total time=   3.3s\n",
            "[CV 3/5; 11/15] START batch_size=64, nb_epoch=5.................................\n",
            "271/271 [==============================] - 0s 1ms/step\n",
            "[CV 3/5; 11/15] END ..batch_size=64, nb_epoch=5;, score=0.766 total time=   3.1s\n",
            "[CV 4/5; 11/15] START batch_size=64, nb_epoch=5.................................\n",
            "271/271 [==============================] - 1s 2ms/step\n",
            "[CV 4/5; 11/15] END ..batch_size=64, nb_epoch=5;, score=0.812 total time=   3.0s\n",
            "[CV 5/5; 11/15] START batch_size=64, nb_epoch=5.................................\n",
            "271/271 [==============================] - 0s 1ms/step\n",
            "[CV 5/5; 11/15] END ..batch_size=64, nb_epoch=5;, score=0.729 total time=   3.5s\n",
            "[CV 1/5; 12/15] START batch_size=64, nb_epoch=7.................................\n",
            "271/271 [==============================] - 0s 1ms/step\n",
            "[CV 1/5; 12/15] END ..batch_size=64, nb_epoch=7;, score=0.766 total time=   2.9s\n",
            "[CV 2/5; 12/15] START batch_size=64, nb_epoch=7.................................\n",
            "271/271 [==============================] - 0s 1ms/step\n",
            "[CV 2/5; 12/15] END ..batch_size=64, nb_epoch=7;, score=0.656 total time=   3.3s\n",
            "[CV 3/5; 12/15] START batch_size=64, nb_epoch=7.................................\n",
            "271/271 [==============================] - 1s 2ms/step\n",
            "[CV 3/5; 12/15] END ..batch_size=64, nb_epoch=7;, score=0.780 total time=   3.0s\n",
            "[CV 4/5; 12/15] START batch_size=64, nb_epoch=7.................................\n",
            "271/271 [==============================] - 0s 1ms/step\n",
            "[CV 4/5; 12/15] END ..batch_size=64, nb_epoch=7;, score=0.778 total time=   4.5s\n",
            "[CV 5/5; 12/15] START batch_size=64, nb_epoch=7.................................\n",
            "271/271 [==============================] - 0s 1ms/step\n",
            "[CV 5/5; 12/15] END ..batch_size=64, nb_epoch=7;, score=0.794 total time=   3.4s\n",
            "[CV 1/5; 13/15] START batch_size=128, nb_epoch=3................................\n",
            "271/271 [==============================] - 0s 1ms/step\n",
            "[CV 1/5; 13/15] END .batch_size=128, nb_epoch=3;, score=0.751 total time=   2.6s\n",
            "[CV 2/5; 13/15] START batch_size=128, nb_epoch=3................................\n",
            "271/271 [==============================] - 1s 2ms/step\n",
            "[CV 2/5; 13/15] END .batch_size=128, nb_epoch=3;, score=0.695 total time=   3.6s\n",
            "[CV 3/5; 13/15] START batch_size=128, nb_epoch=3................................\n",
            "271/271 [==============================] - 0s 1ms/step\n",
            "[CV 3/5; 13/15] END .batch_size=128, nb_epoch=3;, score=0.761 total time=   2.5s\n",
            "[CV 4/5; 13/15] START batch_size=128, nb_epoch=3................................\n",
            "271/271 [==============================] - 0s 1ms/step\n",
            "[CV 4/5; 13/15] END .batch_size=128, nb_epoch=3;, score=0.797 total time=   2.6s\n",
            "[CV 5/5; 13/15] START batch_size=128, nb_epoch=3................................\n",
            "271/271 [==============================] - 0s 1ms/step\n",
            "[CV 5/5; 13/15] END .batch_size=128, nb_epoch=3;, score=0.762 total time=   2.4s\n",
            "[CV 1/5; 14/15] START batch_size=128, nb_epoch=5................................\n",
            "271/271 [==============================] - 0s 1ms/step\n",
            "[CV 1/5; 14/15] END .batch_size=128, nb_epoch=5;, score=0.821 total time=   2.5s\n",
            "[CV 2/5; 14/15] START batch_size=128, nb_epoch=5................................\n",
            "271/271 [==============================] - 0s 1ms/step\n",
            "[CV 2/5; 14/15] END .batch_size=128, nb_epoch=5;, score=0.771 total time=   3.1s\n",
            "[CV 3/5; 14/15] START batch_size=128, nb_epoch=5................................\n",
            "271/271 [==============================] - 0s 1ms/step\n",
            "[CV 3/5; 14/15] END .batch_size=128, nb_epoch=5;, score=0.781 total time=   2.5s\n",
            "[CV 4/5; 14/15] START batch_size=128, nb_epoch=5................................\n",
            "271/271 [==============================] - 0s 1ms/step\n",
            "[CV 4/5; 14/15] END .batch_size=128, nb_epoch=5;, score=0.788 total time=   2.7s\n",
            "[CV 5/5; 14/15] START batch_size=128, nb_epoch=5................................\n",
            "271/271 [==============================] - 0s 1ms/step\n",
            "[CV 5/5; 14/15] END .batch_size=128, nb_epoch=5;, score=0.662 total time=   2.7s\n",
            "[CV 1/5; 15/15] START batch_size=128, nb_epoch=7................................\n",
            "271/271 [==============================] - 1s 2ms/step\n",
            "[CV 1/5; 15/15] END .batch_size=128, nb_epoch=7;, score=0.735 total time=   4.1s\n",
            "[CV 2/5; 15/15] START batch_size=128, nb_epoch=7................................\n",
            "271/271 [==============================] - 0s 1ms/step\n",
            "[CV 2/5; 15/15] END .batch_size=128, nb_epoch=7;, score=0.755 total time=   3.5s\n",
            "[CV 3/5; 15/15] START batch_size=128, nb_epoch=7................................\n",
            "271/271 [==============================] - 0s 1ms/step\n",
            "[CV 3/5; 15/15] END .batch_size=128, nb_epoch=7;, score=0.775 total time=   2.6s\n",
            "[CV 4/5; 15/15] START batch_size=128, nb_epoch=7................................\n",
            "271/271 [==============================] - 0s 1ms/step\n",
            "[CV 4/5; 15/15] END .batch_size=128, nb_epoch=7;, score=0.765 total time=   2.6s\n",
            "[CV 5/5; 15/15] START batch_size=128, nb_epoch=7................................\n",
            "271/271 [==============================] - 0s 1ms/step\n",
            "[CV 5/5; 15/15] END .batch_size=128, nb_epoch=7;, score=0.760 total time=   3.8s\n"
          ]
        }
      ]
    },
    {
      "cell_type": "markdown",
      "source": [
        "###Evaluacion del modelo"
      ],
      "metadata": {
        "id": "6ElIBS4rzB95"
      }
    },
    {
      "cell_type": "code",
      "source": [
        "print(\"Mejor modelo: %f %s\" % (grid_result.best_score_, grid_result.best_params_))\n",
        "print(grid_result.best_estimator_)"
      ],
      "metadata": {
        "colab": {
          "base_uri": "https://localhost:8080/"
        },
        "id": "rnchUsm5rlun",
        "outputId": "a6af27a7-1957-4b0f-ca92-290ed2746824"
      },
      "execution_count": 1218,
      "outputs": [
        {
          "output_type": "stream",
          "name": "stdout",
          "text": [
            "Mejor modelo: 0.797565 {'batch_size': 16, 'nb_epoch': 7}\n",
            "<keras.wrappers.scikit_learn.KerasClassifier object at 0x7f5aa005d630>\n"
          ]
        }
      ]
    },
    {
      "cell_type": "code",
      "source": [
        "#Evalúo el Arbol con los mejores hiperparámetros\n",
        "from sklearn.metrics import confusion_matrix, classification_report , f1_score\n",
        "\n",
        "#Hago predicción sobre el set de evaluacion\n",
        "y_pred= grid_result.predict(x_test)\n",
        "\n",
        "#Arbol Reporte y Matriz de Confusion\n",
        "#print(classification_report(y_test,y_pred))\n",
        "print('F1-Score: {}'.format(f1_score(y_test, y_pred, average='binary'))) #binary considera la clase positiva por defecto 1\n",
        "\n",
        "cm = confusion_matrix(y_test,y_pred)\n",
        "sns.heatmap(cm, cmap='Blues',annot=True,fmt='g')\n",
        "plt.xlabel('Predicted')\n",
        "plt.ylabel('True')"
      ],
      "metadata": {
        "colab": {
          "base_uri": "https://localhost:8080/",
          "height": 501
        },
        "id": "Y4QGDfX0rxhn",
        "outputId": "d8915ef9-f46c-4729-8b30-5eb3c1862527"
      },
      "execution_count": 1219,
      "outputs": [
        {
          "output_type": "stream",
          "name": "stdout",
          "text": [
            "581/581 [==============================] - 1s 1ms/step\n",
            "F1-Score: 0.7867877436142531\n"
          ]
        },
        {
          "output_type": "execute_result",
          "data": {
            "text/plain": [
              "Text(50.722222222222214, 0.5, 'True')"
            ]
          },
          "metadata": {},
          "execution_count": 1219
        },
        {
          "output_type": "display_data",
          "data": {
            "text/plain": [
              "<Figure size 640x480 with 2 Axes>"
            ],
            "image/png": "[encoded data removed]"
          },
          "metadata": {}
        }
      ]
    },
    {
      "cell_type": "code",
      "source": [
        "#Calculo las métricas en el conjunto de evaluación\n",
        "accuracy=accuracy_score(y_test,y_pred)\n",
        "recall=recall_score(y_test,y_pred)\n",
        "f1=f1_score(y_test,y_pred,)\n",
        "precision=precision_score(y_test,y_pred)\n",
        "\n",
        "print(\"Accuracy: \"+str(accuracy))\n",
        "print(\"Recall: \"+str(recall))\n",
        "print(\"Precision: \"+str(precision))\n",
        "print(\"f1 score: \"+str(f1))"
      ],
      "metadata": {
        "colab": {
          "base_uri": "https://localhost:8080/"
        },
        "id": "20ZVLLum10mQ",
        "outputId": "209e8920-04fb-4b0c-fbed-5f9a9dcc1d85"
      },
      "execution_count": 1220,
      "outputs": [
        {
          "output_type": "stream",
          "name": "stdout",
          "text": [
            "Accuracy: 0.7838376224830408\n",
            "Recall: 0.7970733806757048\n",
            "Precision: 0.7767641816084723\n",
            "f1 score: 0.7867877436142531\n"
          ]
        }
      ]
    },
    {
      "cell_type": "code",
      "source": [
        "grid_result.predict(dataset_hotels_test)"
      ],
      "metadata": {
        "colab": {
          "base_uri": "https://localhost:8080/"
        },
        "id": "Lp0pzxUh1-8E",
        "outputId": "2cdc519c-2397-4720-f3f8-ea43ef89fd35"
      },
      "execution_count": 1221,
      "outputs": [
        {
          "output_type": "stream",
          "name": "stdout",
          "text": [
            "830/830 [==============================] - 1s 1ms/step\n"
          ]
        },
        {
          "output_type": "execute_result",
          "data": {
            "text/plain": [
              "array([1, 1, 0, ..., 1, 1, 0])"
            ]
          },
          "metadata": {},
          "execution_count": 1221
        }
      ]
    },
    {
      "cell_type": "code",
      "source": [
        "df_prediction = pd.DataFrame(zip(dataset_hotels_test_id,grid_result.predict(dataset_hotels_test))).rename(columns={0: \"id\", 1: \"is_canceled\"})\n",
        "df_prediction"
      ],
      "metadata": {
        "id": "OQLcN_4a2Cpz",
        "colab": {
          "base_uri": "https://localhost:8080/",
          "height": 441
        },
        "outputId": "66f0fdec-d022-4cd8-97be-ac865d23acbe"
      },
      "execution_count": 1222,
      "outputs": [
        {
          "output_type": "stream",
          "name": "stdout",
          "text": [
            "830/830 [==============================] - 1s 2ms/step\n"
          ]
        },
        {
          "output_type": "execute_result",
          "data": {
            "text/plain": [
              "                                         id  is_canceled\n",
              "0      e6d0d58a-ab96-44d3-b28f-85df1cc15f1e            1\n",
              "1      aba9aac2-4495-4645-a60e-90328713c999            1\n",
              "2      b345b5dc-c804-4d77-a39f-1f4e65d1f1ad            0\n",
              "3      ce1b400e-afa1-4946-bdff-004b859eb61c            1\n",
              "4      c4fbec0d-8e2e-4db2-9d4f-a6ccb9f51214            1\n",
              "...                                     ...          ...\n",
              "26530  636ccded-66ad-4538-8006-c0b9f84c6256            0\n",
              "26531  11e19741-bd28-4459-8ea3-184f1664000f            0\n",
              "26532  36a4c7b0-d6b1-4528-93db-311be96ec1c6            1\n",
              "26533  89c85fa5-2b3d-4131-844c-e151a65ca240            1\n",
              "26534  bd4e9eee-f28e-4a53-b4a1-277426efbcee            0\n",
              "\n",
              "[26535 rows x 2 columns]"
            ],
            "text/html": [
              "\n",
              "  <div id=\"df-24ba4864-1bde-4ca8-ab6a-a8e78963e21f\">\n",
              "    <div class=\"colab-df-container\">\n",
              "      <div>\n",
              "<style scoped>\n",
              "    .dataframe tbody tr th:only-of-type {\n",
              "        vertical-align: middle;\n",
              "    }\n",
              "\n",
              "    .dataframe tbody tr th {\n",
              "        vertical-align: top;\n",
              "    }\n",
              "\n",
              "    .dataframe thead th {\n",
              "        text-align: right;\n",
              "    }\n",
              "</style>\n",
              "<table border=\"1\" class=\"dataframe\">\n",
              "  <thead>\n",
              "    <tr style=\"text-align: right;\">\n",
              "      <th></th>\n",
              "      <th>id</th>\n",
              "      <th>is_canceled</th>\n",
              "    </tr>\n",
              "  </thead>\n",
              "  <tbody>\n",
              "    <tr>\n",
              "      <th>0</th>\n",
              "      <td>e6d0d58a-ab96-44d3-b28f-85df1cc15f1e</td>\n",
              "      <td>1</td>\n",
              "    </tr>\n",
              "    <tr>\n",
              "      <th>1</th>\n",
              "      <td>aba9aac2-4495-4645-a60e-90328713c999</td>\n",
              "      <td>1</td>\n",
              "    </tr>\n",
              "    <tr>\n",
              "      <th>2</th>\n",
              "      <td>b345b5dc-c804-4d77-a39f-1f4e65d1f1ad</td>\n",
              "      <td>0</td>\n",
              "    </tr>\n",
              "    <tr>\n",
              "      <th>3</th>\n",
              "      <td>ce1b400e-afa1-4946-bdff-004b859eb61c</td>\n",
              "      <td>1</td>\n",
              "    </tr>\n",
              "    <tr>\n",
              "      <th>4</th>\n",
              "      <td>c4fbec0d-8e2e-4db2-9d4f-a6ccb9f51214</td>\n",
              "      <td>1</td>\n",
              "    </tr>\n",
              "    <tr>\n",
              "      <th>...</th>\n",
              "      <td>...</td>\n",
              "      <td>...</td>\n",
              "    </tr>\n",
              "    <tr>\n",
              "      <th>26530</th>\n",
              "      <td>636ccded-66ad-4538-8006-c0b9f84c6256</td>\n",
              "      <td>0</td>\n",
              "    </tr>\n",
              "    <tr>\n",
              "      <th>26531</th>\n",
              "      <td>11e19741-bd28-4459-8ea3-184f1664000f</td>\n",
              "      <td>0</td>\n",
              "    </tr>\n",
              "    <tr>\n",
              "      <th>26532</th>\n",
              "      <td>36a4c7b0-d6b1-4528-93db-311be96ec1c6</td>\n",
              "      <td>1</td>\n",
              "    </tr>\n",
              "    <tr>\n",
              "      <th>26533</th>\n",
              "      <td>89c85fa5-2b3d-4131-844c-e151a65ca240</td>\n",
              "      <td>1</td>\n",
              "    </tr>\n",
              "    <tr>\n",
              "      <th>26534</th>\n",
              "      <td>bd4e9eee-f28e-4a53-b4a1-277426efbcee</td>\n",
              "      <td>0</td>\n",
              "    </tr>\n",
              "  </tbody>\n",
              "</table>\n",
              "<p>26535 rows × 2 columns</p>\n",
              "</div>\n",
              "      <button class=\"colab-df-convert\" onclick=\"convertToInteractive('df-24ba4864-1bde-4ca8-ab6a-a8e78963e21f')\"\n",
              "              title=\"Convert this dataframe to an interactive table.\"\n",
              "              style=\"display:none;\">\n",
              "        \n",
              "  <svg xmlns=\"http://www.w3.org/2000/svg\" height=\"24px\"viewBox=\"0 0 24 24\"\n",
              "       width=\"24px\">\n",
              "    <path d=\"M0 0h24v24H0V0z\" fill=\"none\"/>\n",
              "    <path d=\"M18.56 5.44l.94 2.06.94-2.06 2.06-.94-2.06-.94-.94-2.06-.94 2.06-2.06.94zm-11 1L8.5 8.5l.94-2.06 2.06-.94-2.06-.94L8.5 2.5l-.94 2.06-2.06.94zm10 10l.94 2.06.94-2.06 2.06-.94-2.06-.94-.94-2.06-.94 2.06-2.06.94z\"/><path d=\"M17.41 7.96l-1.37-1.37c-.4-.4-.92-.59-1.43-.59-.52 0-1.04.2-1.43.59L10.3 9.45l-7.72 7.72c-.78.78-.78 2.05 0 2.83L4 21.41c.39.39.9.59 1.41.59.51 0 1.02-.2 1.41-.59l7.78-7.78 2.81-2.81c.8-.78.8-2.07 0-2.86zM5.41 20L4 18.59l7.72-7.72 1.47 1.35L5.41 20z\"/>\n",
              "  </svg>\n",
              "      </button>\n",
              "      \n",
              "  <style>\n",
              "    .colab-df-container {\n",
              "      display:flex;\n",
              "      flex-wrap:wrap;\n",
              "      gap: 12px;\n",
              "    }\n",
              "\n",
              "    .colab-df-convert {\n",
              "      background-color: #E8F0FE;\n",
              "      border: none;\n",
              "      border-radius: 50%;\n",
              "      cursor: pointer;\n",
              "      display: none;\n",
              "      fill: #1967D2;\n",
              "      height: 32px;\n",
              "      padding: 0 0 0 0;\n",
              "      width: 32px;\n",
              "    }\n",
              "\n",
              "    .colab-df-convert:hover {\n",
              "      background-color: #E2EBFA;\n",
              "      box-shadow: 0px 1px 2px rgba(60, 64, 67, 0.3), 0px 1px 3px 1px rgba(60, 64, 67, 0.15);\n",
              "      fill: #174EA6;\n",
              "    }\n",
              "\n",
              "    [theme=dark] .colab-df-convert {\n",
              "      background-color: #3B4455;\n",
              "      fill: #D2E3FC;\n",
              "    }\n",
              "\n",
              "    [theme=dark] .colab-df-convert:hover {\n",
              "      background-color: #434B5C;\n",
              "      box-shadow: 0px 1px 3px 1px rgba(0, 0, 0, 0.15);\n",
              "      filter: drop-shadow(0px 1px 2px rgba(0, 0, 0, 0.3));\n",
              "      fill: #FFFFFF;\n",
              "    }\n",
              "  </style>\n",
              "\n",
              "      <script>\n",
              "        const buttonEl =\n",
              "          document.querySelector('#df-24ba4864-1bde-4ca8-ab6a-a8e78963e21f button.colab-df-convert');\n",
              "        buttonEl.style.display =\n",
              "          google.colab.kernel.accessAllowed ? 'block' : 'none';\n",
              "\n",
              "        async function convertToInteractive(key) {\n",
              "          const element = document.querySelector('#df-24ba4864-1bde-4ca8-ab6a-a8e78963e21f');\n",
              "          const dataTable =\n",
              "            await google.colab.kernel.invokeFunction('convertToInteractive',\n",
              "                                                     [key], {});\n",
              "          if (!dataTable) return;\n",
              "\n",
              "          const docLinkHtml = 'Like what you see? Visit the ' +\n",
              "            '<a target=\"_blank\" href=https://colab.research.google.com/notebooks/data_table.ipynb>data table notebook</a>'\n",
              "            + ' to learn more about interactive tables.';\n",
              "          element.innerHTML = '';\n",
              "          dataTable['output_type'] = 'display_data';\n",
              "          await google.colab.output.renderOutput(dataTable, element);\n",
              "          const docLink = document.createElement('div');\n",
              "          docLink.innerHTML = docLinkHtml;\n",
              "          element.appendChild(docLink);\n",
              "        }\n",
              "      </script>\n",
              "    </div>\n",
              "  </div>\n",
              "  "
            ]
          },
          "metadata": {},
          "execution_count": 1222
        }
      ]
    },
    {
      "cell_type": "code",
      "source": [
        "df_prediction.to_csv('red_neuronal_prediction.csv', index=False)"
      ],
      "metadata": {
        "id": "rbIuBTHJ1tiz"
      },
      "execution_count": 1223,
      "outputs": []
    },
    {
      "cell_type": "code",
      "source": [
        "from joblib import dump, load\n",
        "dump(grid_result, 'NeuralNet.joblib')\n",
        "dump(grid, 'NeuralNetGrid.joblib')"
      ],
      "metadata": {
        "colab": {
          "base_uri": "https://localhost:8080/"
        },
        "id": "Eklhrv0dmEIy",
        "outputId": "dbf7478b-c0d6-4945-d57c-16b01487afb3"
      },
      "execution_count": 1224,
      "outputs": [
        {
          "output_type": "execute_result",
          "data": {
            "text/plain": [
              "['NeuralNetGrid.joblib']"
            ]
          },
          "metadata": {},
          "execution_count": 1224
        }
      ]
    }
  ]
}